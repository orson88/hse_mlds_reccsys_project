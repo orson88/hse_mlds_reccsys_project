{
 "cells": [
  {
   "cell_type": "markdown",
   "id": "c9beac6b",
   "metadata": {},
   "source": [
    "# Эксперименты с LightFM"
   ]
  },
  {
   "cell_type": "code",
   "execution_count": 1,
   "id": "2161864a",
   "metadata": {},
   "outputs": [],
   "source": [
    "import warnings\n",
    "\n",
    "warnings.filterwarnings(\"ignore\")\n",
    "\n",
    "import lightgbm\n",
    "import matplotlib.pyplot as plt\n",
    "%matplotlib notebook\n",
    "import numpy as np\n",
    "import pandas as pd\n",
    "import plotly.express as px\n",
    "import scipy\n",
    "import seaborn as sns\n",
    "from lightfm import LightFM\n",
    "from scipy.sparse import coo_matrix, csr_matrix, save_npz\n",
    "from sklearn.model_selection import train_test_split\n",
    "from sklearn.preprocessing import LabelEncoder\n",
    "from tqdm import tqdm\n",
    "from pandas.api.types import CategoricalDtype\n",
    "from scipy import sparse\n",
    "\n",
    "\n",
    "\n",
    "import pickle"
   ]
  },
  {
   "cell_type": "markdown",
   "id": "3d2bed69",
   "metadata": {},
   "source": [
    "## Подготовка данных"
   ]
  },
  {
   "cell_type": "markdown",
   "id": "590a83df",
   "metadata": {},
   "source": [
    "Загружаем датасет"
   ]
  },
  {
   "cell_type": "code",
   "execution_count": 2,
   "id": "703383c0",
   "metadata": {},
   "outputs": [
    {
     "data": {
      "text/html": [
       "<div>\n",
       "<style scoped>\n",
       "    .dataframe tbody tr th:only-of-type {\n",
       "        vertical-align: middle;\n",
       "    }\n",
       "\n",
       "    .dataframe tbody tr th {\n",
       "        vertical-align: top;\n",
       "    }\n",
       "\n",
       "    .dataframe thead th {\n",
       "        text-align: right;\n",
       "    }\n",
       "</style>\n",
       "<table border=\"1\" class=\"dataframe\">\n",
       "  <thead>\n",
       "    <tr style=\"text-align: right;\">\n",
       "      <th></th>\n",
       "      <th>user_id</th>\n",
       "      <th>artistname</th>\n",
       "      <th>trackname</th>\n",
       "    </tr>\n",
       "  </thead>\n",
       "  <tbody>\n",
       "    <tr>\n",
       "      <th>0</th>\n",
       "      <td>9cc0cfd4d7d7885102480dd99e7a90d6</td>\n",
       "      <td>Elvis Costello</td>\n",
       "      <td>(The Angels Wanna Wear My) Red Shoes</td>\n",
       "    </tr>\n",
       "    <tr>\n",
       "      <th>1</th>\n",
       "      <td>9cc0cfd4d7d7885102480dd99e7a90d6</td>\n",
       "      <td>Elvis Costello &amp; The Attractions</td>\n",
       "      <td>(What's So Funny 'Bout) Peace, Love And Unders...</td>\n",
       "    </tr>\n",
       "  </tbody>\n",
       "</table>\n",
       "</div>"
      ],
      "text/plain": [
       "                            user_id                        artistname  \\\n",
       "0  9cc0cfd4d7d7885102480dd99e7a90d6                    Elvis Costello   \n",
       "1  9cc0cfd4d7d7885102480dd99e7a90d6  Elvis Costello & The Attractions   \n",
       "\n",
       "                                           trackname  \n",
       "0               (The Angels Wanna Wear My) Red Shoes  \n",
       "1  (What's So Funny 'Bout) Peace, Love And Unders...  "
      ]
     },
     "execution_count": 2,
     "metadata": {},
     "output_type": "execute_result"
    }
   ],
   "source": [
    "df = pd.read_csv('spotify_dataset.csv.zip', skiprows=1,\n",
    "                 usecols = [0, 1, 2],\n",
    "                 names=['user_id', 'artistname', 'trackname'],\n",
    "                 on_bad_lines='skip')\n",
    "df.head(2)"
   ]
  },
  {
   "cell_type": "markdown",
   "id": "b41ac1aa",
   "metadata": {},
   "source": [
    "Собираем пары артист_трек"
   ]
  },
  {
   "cell_type": "code",
   "execution_count": 3,
   "id": "56f3dabb",
   "metadata": {},
   "outputs": [],
   "source": [
    "df['artistname'].fillna('', inplace=True)\n",
    "df['trackname'].fillna('', inplace=True)\n",
    "\n",
    "df['song'] = df['artistname'] + '__' + df['trackname']\n",
    "df.drop(columns=['artistname', 'trackname'], inplace = True)"
   ]
  },
  {
   "cell_type": "code",
   "execution_count": 4,
   "id": "e0281224",
   "metadata": {},
   "outputs": [
    {
     "data": {
      "text/plain": [
       "(12901979, 2)"
      ]
     },
     "execution_count": 4,
     "metadata": {},
     "output_type": "execute_result"
    }
   ],
   "source": [
    "df.shape"
   ]
  },
  {
   "cell_type": "markdown",
   "id": "cca4ab06",
   "metadata": {},
   "source": [
    "Включаем в рабочий датасет только 10 тысяч самых популярных пар"
   ]
  },
  {
   "cell_type": "code",
   "execution_count": 5,
   "id": "4a03fef8",
   "metadata": {},
   "outputs": [
    {
     "data": {
      "text/plain": [
       "(2670918, 2)"
      ]
     },
     "execution_count": 5,
     "metadata": {},
     "output_type": "execute_result"
    }
   ],
   "source": [
    "songs = df['song'].value_counts()\n",
    "most_popular = set(songs[:10000].index)\n",
    "df = df[df['song'].isin(most_popular)]\n",
    "df.shape"
   ]
  },
  {
   "cell_type": "markdown",
   "id": "5d25e251",
   "metadata": {},
   "source": [
    "Делим данные на треин и тест"
   ]
  },
  {
   "cell_type": "code",
   "execution_count": 6,
   "id": "f1490a7b",
   "metadata": {},
   "outputs": [],
   "source": [
    "train, test = train_test_split(df, test_size=0.15)"
   ]
  },
  {
   "cell_type": "code",
   "execution_count": 7,
   "id": "1371c412",
   "metadata": {},
   "outputs": [
    {
     "data": {
      "text/plain": [
       "((2270280, 2), (400638, 2))"
      ]
     },
     "execution_count": 7,
     "metadata": {},
     "output_type": "execute_result"
    }
   ],
   "source": [
    "train.shape, test.shape"
   ]
  },
  {
   "cell_type": "code",
   "execution_count": 8,
   "id": "c3e7cf08",
   "metadata": {},
   "outputs": [
    {
     "data": {
      "text/html": [
       "<div>\n",
       "<style scoped>\n",
       "    .dataframe tbody tr th:only-of-type {\n",
       "        vertical-align: middle;\n",
       "    }\n",
       "\n",
       "    .dataframe tbody tr th {\n",
       "        vertical-align: top;\n",
       "    }\n",
       "\n",
       "    .dataframe thead th {\n",
       "        text-align: right;\n",
       "    }\n",
       "</style>\n",
       "<table border=\"1\" class=\"dataframe\">\n",
       "  <thead>\n",
       "    <tr style=\"text-align: right;\">\n",
       "      <th></th>\n",
       "      <th>user_id</th>\n",
       "      <th>song</th>\n",
       "    </tr>\n",
       "  </thead>\n",
       "  <tbody>\n",
       "    <tr>\n",
       "      <th>8177716</th>\n",
       "      <td>5d94a3a81df06c4bbd821bedef0e6897</td>\n",
       "      <td>The Cardigans__Lovefool</td>\n",
       "    </tr>\n",
       "    <tr>\n",
       "      <th>12055012</th>\n",
       "      <td>e11595d68e90f9bec6c9ac461ec38272</td>\n",
       "      <td>The Flaming Lips__Do You Realize??</td>\n",
       "    </tr>\n",
       "  </tbody>\n",
       "</table>\n",
       "</div>"
      ],
      "text/plain": [
       "                                   user_id                                song\n",
       "8177716   5d94a3a81df06c4bbd821bedef0e6897             The Cardigans__Lovefool\n",
       "12055012  e11595d68e90f9bec6c9ac461ec38272  The Flaming Lips__Do You Realize??"
      ]
     },
     "execution_count": 8,
     "metadata": {},
     "output_type": "execute_result"
    }
   ],
   "source": [
    "train.head(2)"
   ]
  },
  {
   "cell_type": "code",
   "execution_count": 9,
   "id": "6d4242f7",
   "metadata": {},
   "outputs": [
    {
     "data": {
      "text/plain": [
       "(14930, 13640)"
      ]
     },
     "execution_count": 9,
     "metadata": {},
     "output_type": "execute_result"
    }
   ],
   "source": [
    "len(set(train['user_id'])), len(set(test['user_id']))"
   ]
  },
  {
   "cell_type": "markdown",
   "id": "9e848c45",
   "metadata": {},
   "source": [
    "Уберем холодных пользователей из обеих выборок так, что бы пользователи были и там и там"
   ]
  },
  {
   "cell_type": "code",
   "execution_count": 10,
   "id": "42170ca7",
   "metadata": {},
   "outputs": [
    {
     "data": {
      "text/plain": [
       "1345"
      ]
     },
     "execution_count": 10,
     "metadata": {},
     "output_type": "execute_result"
    }
   ],
   "source": [
    "len(list(set(train['user_id'])-set(test['user_id']))) # нет в тесте из треина"
   ]
  },
  {
   "cell_type": "code",
   "execution_count": 11,
   "id": "0c9c4733",
   "metadata": {},
   "outputs": [
    {
     "data": {
      "text/plain": [
       "55"
      ]
     },
     "execution_count": 11,
     "metadata": {},
     "output_type": "execute_result"
    }
   ],
   "source": [
    "len(list(set(test['user_id'])-set(train['user_id'])))# нет в треине из теста"
   ]
  },
  {
   "cell_type": "code",
   "execution_count": 12,
   "id": "fb888512",
   "metadata": {},
   "outputs": [
    {
     "data": {
      "text/plain": [
       "13585"
      ]
     },
     "execution_count": 12,
     "metadata": {},
     "output_type": "execute_result"
    }
   ],
   "source": [
    "len(set(train['user_id'])& set(test['user_id'])) # пересечение мгожеств"
   ]
  },
  {
   "cell_type": "code",
   "execution_count": 13,
   "id": "4259c749",
   "metadata": {},
   "outputs": [
    {
     "data": {
      "text/plain": [
       "(2264373, 2)"
      ]
     },
     "execution_count": 13,
     "metadata": {},
     "output_type": "execute_result"
    }
   ],
   "source": [
    "train = train[train['user_id'].isin(list(set(train['user_id'])& set(test['user_id'])))]\n",
    "train.shape"
   ]
  },
  {
   "cell_type": "code",
   "execution_count": 14,
   "id": "ed43890d",
   "metadata": {},
   "outputs": [
    {
     "data": {
      "text/plain": [
       "(400572, 2)"
      ]
     },
     "execution_count": 14,
     "metadata": {},
     "output_type": "execute_result"
    }
   ],
   "source": [
    "test = test[test['user_id'].isin(list(set(train['user_id'])& set(test['user_id'])))]\n",
    "test.shape"
   ]
  },
  {
   "cell_type": "code",
   "execution_count": 44,
   "id": "061e2ec1",
   "metadata": {},
   "outputs": [],
   "source": [
    "train.to_csv(\"train.csv\", index=False)\n",
    "test.to_csv(\"test.csv\", index=False)"
   ]
  },
  {
   "cell_type": "markdown",
   "id": "9c7448f8",
   "metadata": {},
   "source": [
    "Закодируем информацию"
   ]
  },
  {
   "cell_type": "code",
   "execution_count": 15,
   "id": "fd3ab8ff",
   "metadata": {},
   "outputs": [],
   "source": [
    "users = set(train['user_id'])\n",
    "\n",
    "items = set(test.song.unique()).union(set(train.song.unique()))"
   ]
  },
  {
   "cell_type": "code",
   "execution_count": 16,
   "id": "3b7028ba",
   "metadata": {},
   "outputs": [],
   "source": [
    "user_encoder, item_encoder = LabelEncoder(), LabelEncoder()\n",
    "user_encoder.fit(list(users))\n",
    "item_encoder.fit(list(items))\n",
    "\n",
    "train['new_user_id'] = user_encoder.transform(train['user_id'])\n",
    "test['new_user_id'] = user_encoder.transform(test['user_id'])\n",
    "\n",
    "train['song_id'] = item_encoder.transform(train['song'])\n",
    "test['song_id'] = item_encoder.transform(test['song'])"
   ]
  },
  {
   "cell_type": "code",
   "execution_count": 17,
   "id": "29443766",
   "metadata": {},
   "outputs": [],
   "source": [
    "train['connect'] = 1\n",
    "test['connect'] = 1"
   ]
  },
  {
   "cell_type": "code",
   "execution_count": 18,
   "id": "f5fb4865",
   "metadata": {},
   "outputs": [
    {
     "data": {
      "text/html": [
       "<div>\n",
       "<style scoped>\n",
       "    .dataframe tbody tr th:only-of-type {\n",
       "        vertical-align: middle;\n",
       "    }\n",
       "\n",
       "    .dataframe tbody tr th {\n",
       "        vertical-align: top;\n",
       "    }\n",
       "\n",
       "    .dataframe thead th {\n",
       "        text-align: right;\n",
       "    }\n",
       "</style>\n",
       "<table border=\"1\" class=\"dataframe\">\n",
       "  <thead>\n",
       "    <tr style=\"text-align: right;\">\n",
       "      <th></th>\n",
       "      <th>user_id</th>\n",
       "      <th>song</th>\n",
       "      <th>new_user_id</th>\n",
       "      <th>song_id</th>\n",
       "      <th>connect</th>\n",
       "    </tr>\n",
       "  </thead>\n",
       "  <tbody>\n",
       "    <tr>\n",
       "      <th>8177716</th>\n",
       "      <td>5d94a3a81df06c4bbd821bedef0e6897</td>\n",
       "      <td>The Cardigans__Lovefool</td>\n",
       "      <td>5057</td>\n",
       "      <td>8379</td>\n",
       "      <td>1</td>\n",
       "    </tr>\n",
       "    <tr>\n",
       "      <th>12055012</th>\n",
       "      <td>e11595d68e90f9bec6c9ac461ec38272</td>\n",
       "      <td>The Flaming Lips__Do You Realize??</td>\n",
       "      <td>11940</td>\n",
       "      <td>8522</td>\n",
       "      <td>1</td>\n",
       "    </tr>\n",
       "    <tr>\n",
       "      <th>3634214</th>\n",
       "      <td>a81dca2220186ff0cefd814a9ba35241</td>\n",
       "      <td>Meghan Trainor__All About That Bass</td>\n",
       "      <td>8915</td>\n",
       "      <td>5641</td>\n",
       "      <td>1</td>\n",
       "    </tr>\n",
       "    <tr>\n",
       "      <th>411150</th>\n",
       "      <td>1e54539c9134fd0a7d94ac7996a101bf</td>\n",
       "      <td>Justin Timberlake__Mirrors</td>\n",
       "      <td>1622</td>\n",
       "      <td>4346</td>\n",
       "      <td>1</td>\n",
       "    </tr>\n",
       "    <tr>\n",
       "      <th>1306636</th>\n",
       "      <td>99deafd9b792af8e6a535483088faef2</td>\n",
       "      <td>Conor Maynard__Turn Around - feat. Ne-Yo</td>\n",
       "      <td>8183</td>\n",
       "      <td>1708</td>\n",
       "      <td>1</td>\n",
       "    </tr>\n",
       "    <tr>\n",
       "      <th>...</th>\n",
       "      <td>...</td>\n",
       "      <td>...</td>\n",
       "      <td>...</td>\n",
       "      <td>...</td>\n",
       "      <td>...</td>\n",
       "    </tr>\n",
       "    <tr>\n",
       "      <th>5599811</th>\n",
       "      <td>57c1c8ee39d783a4aa5a7494932af9ea</td>\n",
       "      <td>Lady Gaga__Yoü And I</td>\n",
       "      <td>4718</td>\n",
       "      <td>4870</td>\n",
       "      <td>1</td>\n",
       "    </tr>\n",
       "    <tr>\n",
       "      <th>2180517</th>\n",
       "      <td>29b928527a8ee8f94a7540b90874a436</td>\n",
       "      <td>Eminem__Stan</td>\n",
       "      <td>2239</td>\n",
       "      <td>2677</td>\n",
       "      <td>1</td>\n",
       "    </tr>\n",
       "    <tr>\n",
       "      <th>9281224</th>\n",
       "      <td>e778fef0bdffe382118fd5ce0ebbb60b</td>\n",
       "      <td>Of Monsters and Men__Little Talks</td>\n",
       "      <td>12272</td>\n",
       "      <td>6374</td>\n",
       "      <td>1</td>\n",
       "    </tr>\n",
       "    <tr>\n",
       "      <th>1618189</th>\n",
       "      <td>c1cc8215fe821df3e148d8f8f1a81cac</td>\n",
       "      <td>The White Stripes__The Denial Twist</td>\n",
       "      <td>10283</td>\n",
       "      <td>9203</td>\n",
       "      <td>1</td>\n",
       "    </tr>\n",
       "    <tr>\n",
       "      <th>11552659</th>\n",
       "      <td>7225cdd0779309375f3dea8bb6112ef1</td>\n",
       "      <td>Four Tops__Reach Out, I'll Be There</td>\n",
       "      <td>6118</td>\n",
       "      <td>3156</td>\n",
       "      <td>1</td>\n",
       "    </tr>\n",
       "  </tbody>\n",
       "</table>\n",
       "<p>2264373 rows × 5 columns</p>\n",
       "</div>"
      ],
      "text/plain": [
       "                                   user_id  \\\n",
       "8177716   5d94a3a81df06c4bbd821bedef0e6897   \n",
       "12055012  e11595d68e90f9bec6c9ac461ec38272   \n",
       "3634214   a81dca2220186ff0cefd814a9ba35241   \n",
       "411150    1e54539c9134fd0a7d94ac7996a101bf   \n",
       "1306636   99deafd9b792af8e6a535483088faef2   \n",
       "...                                    ...   \n",
       "5599811   57c1c8ee39d783a4aa5a7494932af9ea   \n",
       "2180517   29b928527a8ee8f94a7540b90874a436   \n",
       "9281224   e778fef0bdffe382118fd5ce0ebbb60b   \n",
       "1618189   c1cc8215fe821df3e148d8f8f1a81cac   \n",
       "11552659  7225cdd0779309375f3dea8bb6112ef1   \n",
       "\n",
       "                                              song  new_user_id  song_id  \\\n",
       "8177716                    The Cardigans__Lovefool         5057     8379   \n",
       "12055012        The Flaming Lips__Do You Realize??        11940     8522   \n",
       "3634214        Meghan Trainor__All About That Bass         8915     5641   \n",
       "411150                  Justin Timberlake__Mirrors         1622     4346   \n",
       "1306636   Conor Maynard__Turn Around - feat. Ne-Yo         8183     1708   \n",
       "...                                            ...          ...      ...   \n",
       "5599811                       Lady Gaga__Yoü And I         4718     4870   \n",
       "2180517                               Eminem__Stan         2239     2677   \n",
       "9281224          Of Monsters and Men__Little Talks        12272     6374   \n",
       "1618189        The White Stripes__The Denial Twist        10283     9203   \n",
       "11552659       Four Tops__Reach Out, I'll Be There         6118     3156   \n",
       "\n",
       "          connect  \n",
       "8177716         1  \n",
       "12055012        1  \n",
       "3634214         1  \n",
       "411150          1  \n",
       "1306636         1  \n",
       "...           ...  \n",
       "5599811         1  \n",
       "2180517         1  \n",
       "9281224         1  \n",
       "1618189         1  \n",
       "11552659        1  \n",
       "\n",
       "[2264373 rows x 5 columns]"
      ]
     },
     "execution_count": 18,
     "metadata": {},
     "output_type": "execute_result"
    }
   ],
   "source": [
    "train"
   ]
  },
  {
   "cell_type": "code",
   "execution_count": null,
   "id": "489bccd1",
   "metadata": {},
   "outputs": [],
   "source": [
    "### del df"
   ]
  },
  {
   "cell_type": "code",
   "execution_count": 19,
   "id": "d66ca8ef",
   "metadata": {},
   "outputs": [],
   "source": [
    "matrix_shape = len(user_encoder.classes_), len(item_encoder.classes_)\n",
    "matrix_shape\n",
    "\n",
    "train_sparse = coo_matrix((list(train.connect.astype(np.int8)), \n",
    "                           (list(train.new_user_id.astype(np.int64)), \n",
    "                            list(train.song_id.astype(np.int64)))), shape=matrix_shape)\n",
    "\n",
    "\n",
    "test_sparse = coo_matrix((list(test.connect.astype(np.int8)),\n",
    "                          (list(test.new_user_id.astype(np.int64)), \n",
    "                           list(test.song_id.astype(np.int64)))), shape=matrix_shape)"
   ]
  },
  {
   "cell_type": "markdown",
   "id": "f8720805",
   "metadata": {},
   "source": [
    "Получили готовые разряженные спарс матрицы для дальнейшей работы"
   ]
  },
  {
   "cell_type": "code",
   "execution_count": 20,
   "id": "349fb103",
   "metadata": {},
   "outputs": [
    {
     "data": {
      "text/plain": [
       "((13585, 10000), (13585, 10000))"
      ]
     },
     "execution_count": 20,
     "metadata": {},
     "output_type": "execute_result"
    }
   ],
   "source": [
    "train_sparse.shape, test_sparse.shape\n"
   ]
  },
  {
   "cell_type": "code",
   "execution_count": 43,
   "id": "a7c56944",
   "metadata": {},
   "outputs": [],
   "source": [
    "sparse.save_npz(\"train_sparse.npz\", train_sparse)\n",
    "sparse.save_npz(\"test_sparse.npz\", test_sparse)"
   ]
  },
  {
   "cell_type": "markdown",
   "id": "bee96954",
   "metadata": {},
   "source": [
    "# Напишем основные функции"
   ]
  },
  {
   "cell_type": "code",
   "execution_count": 90,
   "id": "0b0f68a5",
   "metadata": {},
   "outputs": [],
   "source": [
    "def metric_lightfm(model, test_sparse, indices, total, k=20, user_features = None, item_features = None):\n",
    "    \n",
    "    ranks = model.predict_rank(test_sparse, \n",
    "                               num_threads=60, \n",
    "                               check_intersections=True,\n",
    "                               user_features=user_features,\n",
    "                               item_features = item_features)\n",
    "    mask = ranks.copy()\n",
    "    mask.data = np.less(mask.data, k, mask.data)\n",
    "    ranks.data += 1\n",
    "    ranks.data = ranks.data * mask.data\n",
    "    ranks.eliminate_zeros()\n",
    "    ranks = ranks.tolil().data\n",
    "    average_precision_sum = 0.0\n",
    "    for x in indices:\n",
    "        n_correct_items = 0\n",
    "        precision = 0\n",
    "        for y in sorted(ranks[x]):\n",
    "            n_correct_items += 1\n",
    "            precision += n_correct_items / y\n",
    "        average_precision_sum += precision / min(total[x], k)\n",
    "    average_precision_sum /= len(indices)\n",
    "    return average_precision_sum"
   ]
  },
  {
   "cell_type": "code",
   "execution_count": 91,
   "id": "2a52a266",
   "metadata": {},
   "outputs": [],
   "source": [
    "def lightFM_eval(no_components = 10, \n",
    "                 loss='warp', \n",
    "                 random_state = 42,\n",
    "                 learning_rate = 0.1,\n",
    "                 test_sparse = test_sparse,\n",
    "                 train_sparse = train_sparse,\n",
    "                 sample_weight = train_sparse,\n",
    "                 epochs = 10,\n",
    "                 num_threads = 1,\n",
    "                 user_features = None,\n",
    "                 item_features = None,\n",
    "                 k = 20):\n",
    "    \n",
    "    model = LightFM(no_components=no_components,\n",
    "                    loss=loss, \n",
    "                    random_state=random_state, \n",
    "                    learning_rate=learning_rate)\n",
    "\n",
    "    total = test_sparse.getnnz(axis=1)\n",
    "    indices = np.nonzero(total)[0]\n",
    "\n",
    "    maps = []\n",
    "    epochs = epochs\n",
    "    rounds = 10\n",
    "    for rounds in tqdm(range(rounds)): \n",
    "        model.fit_partial(train_sparse, \n",
    "                          sample_weight = sample_weight, \n",
    "                          epochs = epochs,\n",
    "                          num_threads = num_threads)\n",
    "        \n",
    "        curr_metric = metric_lightfm(model, test_sparse, indices, total, k, user_features, item_features)\n",
    "        maps.append(curr_metric)\n",
    "        print(curr_metric)\n",
    "    \n",
    "    return model"
   ]
  },
  {
   "cell_type": "markdown",
   "id": "2e32310f",
   "metadata": {},
   "source": [
    "# Модель без фичей"
   ]
  },
  {
   "cell_type": "markdown",
   "id": "cb799ec9",
   "metadata": {},
   "source": [
    "Модель на 100 эпох (тк 10 раундов по 10 эпох)"
   ]
  },
  {
   "cell_type": "code",
   "execution_count": 34,
   "id": "49a3b7e5",
   "metadata": {
    "scrolled": true
   },
   "outputs": [
    {
     "name": "stderr",
     "output_type": "stream",
     "text": [
      " 10%|████▍                                       | 1/10 [00:58<08:44, 58.23s/it]"
     ]
    },
    {
     "name": "stdout",
     "output_type": "stream",
     "text": [
      "0.01930496133089331\n"
     ]
    },
    {
     "name": "stderr",
     "output_type": "stream",
     "text": [
      "\r",
      " 20%|████████▊                                   | 2/10 [01:55<07:41, 57.72s/it]"
     ]
    },
    {
     "name": "stdout",
     "output_type": "stream",
     "text": [
      "0.024246494361567283\n"
     ]
    },
    {
     "name": "stderr",
     "output_type": "stream",
     "text": [
      "\r",
      " 30%|█████████████▏                              | 3/10 [02:51<06:38, 56.87s/it]"
     ]
    },
    {
     "name": "stdout",
     "output_type": "stream",
     "text": [
      "0.027786423854878523\n"
     ]
    },
    {
     "name": "stderr",
     "output_type": "stream",
     "text": [
      "\r",
      " 40%|█████████████████▌                          | 4/10 [03:46<05:37, 56.31s/it]"
     ]
    },
    {
     "name": "stdout",
     "output_type": "stream",
     "text": [
      "0.030427042460293995\n"
     ]
    },
    {
     "name": "stderr",
     "output_type": "stream",
     "text": [
      "\r",
      " 50%|██████████████████████                      | 5/10 [04:41<04:38, 55.69s/it]"
     ]
    },
    {
     "name": "stdout",
     "output_type": "stream",
     "text": [
      "0.032812505270650334\n"
     ]
    },
    {
     "name": "stderr",
     "output_type": "stream",
     "text": [
      "\r",
      " 60%|██████████████████████████▍                 | 6/10 [05:35<03:40, 55.13s/it]"
     ]
    },
    {
     "name": "stdout",
     "output_type": "stream",
     "text": [
      "0.03480654363114252\n"
     ]
    },
    {
     "name": "stderr",
     "output_type": "stream",
     "text": [
      "\r",
      " 70%|██████████████████████████████▊             | 7/10 [06:29<02:44, 54.69s/it]"
     ]
    },
    {
     "name": "stdout",
     "output_type": "stream",
     "text": [
      "0.036196768993656196\n"
     ]
    },
    {
     "name": "stderr",
     "output_type": "stream",
     "text": [
      "\r",
      " 80%|███████████████████████████████████▏        | 8/10 [07:22<01:48, 54.27s/it]"
     ]
    },
    {
     "name": "stdout",
     "output_type": "stream",
     "text": [
      "0.03770969648989674\n"
     ]
    },
    {
     "name": "stderr",
     "output_type": "stream",
     "text": [
      "\r",
      " 90%|███████████████████████████████████████▌    | 9/10 [08:15<00:53, 53.91s/it]"
     ]
    },
    {
     "name": "stdout",
     "output_type": "stream",
     "text": [
      "0.03875880684557411\n"
     ]
    },
    {
     "name": "stderr",
     "output_type": "stream",
     "text": [
      "100%|███████████████████████████████████████████| 10/10 [09:08<00:00, 54.86s/it]"
     ]
    },
    {
     "name": "stdout",
     "output_type": "stream",
     "text": [
      "0.040012353736988304\n"
     ]
    },
    {
     "name": "stderr",
     "output_type": "stream",
     "text": [
      "\n"
     ]
    },
    {
     "data": {
      "text/plain": [
       "<lightfm.lightfm.LightFM at 0x7f87ea6344c0>"
      ]
     },
     "execution_count": 34,
     "metadata": {},
     "output_type": "execute_result"
    }
   ],
   "source": [
    "lightFM_eval(no_components = 100, loss='warp',\n",
    "             random_state = 42, learning_rate = 0.01,\n",
    "             test_sparse = test_sparse, train_sparse = train_sparse,\n",
    "             sample_weight = train_sparse, epochs = 10, num_threads = 6)"
   ]
  },
  {
   "cell_type": "markdown",
   "id": "27233325",
   "metadata": {},
   "source": [
    "Следущую ячейку не перезапускаю, писал ее еще до того как функцию написал, но там лучшие результаты precision@20 = 0.048"
   ]
  },
  {
   "cell_type": "code",
   "execution_count": 143,
   "id": "addcfce6",
   "metadata": {
    "scrolled": true
   },
   "outputs": [
    {
     "name": "stderr",
     "output_type": "stream",
     "text": [
      " 10%|████                                     | 1/10 [07:48<1:10:15, 468.38s/it]"
     ]
    },
    {
     "name": "stdout",
     "output_type": "stream",
     "text": [
      "0.03993001657528792\n"
     ]
    },
    {
     "name": "stderr",
     "output_type": "stream",
     "text": [
      "\r",
      " 20%|████████▏                                | 2/10 [15:07<1:00:09, 451.23s/it]"
     ]
    },
    {
     "name": "stdout",
     "output_type": "stream",
     "text": [
      "0.04581503782412398\n"
     ]
    },
    {
     "name": "stderr",
     "output_type": "stream",
     "text": [
      "\r",
      " 30%|████████████▉                              | 3/10 [22:11<51:10, 438.65s/it]"
     ]
    },
    {
     "name": "stdout",
     "output_type": "stream",
     "text": [
      "0.048318488526773555\n"
     ]
    },
    {
     "name": "stderr",
     "output_type": "stream",
     "text": [
      "\r",
      " 40%|█████████████████▏                         | 4/10 [29:05<42:54, 429.07s/it]"
     ]
    },
    {
     "name": "stdout",
     "output_type": "stream",
     "text": [
      "0.049109086088865\n"
     ]
    },
    {
     "name": "stderr",
     "output_type": "stream",
     "text": [
      "\r",
      " 50%|█████████████████████▌                     | 5/10 [35:51<35:04, 420.85s/it]"
     ]
    },
    {
     "name": "stdout",
     "output_type": "stream",
     "text": [
      "0.049319722799460626\n"
     ]
    },
    {
     "name": "stderr",
     "output_type": "stream",
     "text": [
      "\r",
      " 60%|█████████████████████████▊                 | 6/10 [42:36<27:41, 415.30s/it]"
     ]
    },
    {
     "name": "stdout",
     "output_type": "stream",
     "text": [
      "0.04929618440978424\n"
     ]
    },
    {
     "name": "stderr",
     "output_type": "stream",
     "text": [
      "\r",
      " 70%|██████████████████████████████             | 7/10 [49:13<20:28, 409.41s/it]"
     ]
    },
    {
     "name": "stdout",
     "output_type": "stream",
     "text": [
      "0.04917116343980187\n"
     ]
    },
    {
     "name": "stderr",
     "output_type": "stream",
     "text": [
      "\r",
      " 80%|██████████████████████████████████▍        | 8/10 [55:38<13:22, 401.48s/it]"
     ]
    },
    {
     "name": "stdout",
     "output_type": "stream",
     "text": [
      "0.04891423134014395\n"
     ]
    },
    {
     "name": "stderr",
     "output_type": "stream",
     "text": [
      "\r",
      " 90%|████████████████████████████████████▉    | 9/10 [1:01:50<06:32, 392.33s/it]"
     ]
    },
    {
     "name": "stdout",
     "output_type": "stream",
     "text": [
      "0.04875800736384691\n"
     ]
    },
    {
     "name": "stderr",
     "output_type": "stream",
     "text": [
      "100%|████████████████████████████████████████| 10/10 [1:08:00<00:00, 408.05s/it]"
     ]
    },
    {
     "name": "stdout",
     "output_type": "stream",
     "text": [
      "0.04820628570725821\n"
     ]
    },
    {
     "name": "stderr",
     "output_type": "stream",
     "text": [
      "\n"
     ]
    }
   ],
   "source": [
    "model_lfm_without_features = LightFM(no_components=100, \n",
    "                             loss='warp', \n",
    "                             random_state=42, \n",
    "                             learning_rate=0.01)\n",
    "\n",
    "total = test_sparse.getnnz(axis=1)\n",
    "indices = np.nonzero(total)[0]\n",
    "\n",
    "maps = []\n",
    "epochs = 100\n",
    "rounds = 10\n",
    "for rounds in tqdm(range(rounds)): \n",
    "    model_lfm_without_features.fit_partial(train_sparse, \n",
    "                                           sample_weight=train_sparse, \n",
    "                                           epochs=epochs, \n",
    "                                           num_threads=6)\n",
    "    curr_metric = metric_lightfm(model_lfm_without_features, test_sparse, None, indices, total, k=20)\n",
    "    maps.append(curr_metric)\n",
    "    print(curr_metric)"
   ]
  },
  {
   "cell_type": "markdown",
   "id": "9ccec8c2",
   "metadata": {},
   "source": [
    "# Займемся фичами песен\n"
   ]
  },
  {
   "cell_type": "code",
   "execution_count": 36,
   "id": "ac96fd64",
   "metadata": {},
   "outputs": [
    {
     "data": {
      "text/html": [
       "<div>\n",
       "<style scoped>\n",
       "    .dataframe tbody tr th:only-of-type {\n",
       "        vertical-align: middle;\n",
       "    }\n",
       "\n",
       "    .dataframe tbody tr th {\n",
       "        vertical-align: top;\n",
       "    }\n",
       "\n",
       "    .dataframe thead th {\n",
       "        text-align: right;\n",
       "    }\n",
       "</style>\n",
       "<table border=\"1\" class=\"dataframe\">\n",
       "  <thead>\n",
       "    <tr style=\"text-align: right;\">\n",
       "      <th></th>\n",
       "      <th>artist</th>\n",
       "      <th>song_name</th>\n",
       "      <th>album</th>\n",
       "      <th>genre</th>\n",
       "      <th>mood</th>\n",
       "      <th>style</th>\n",
       "      <th>theme</th>\n",
       "      <th>duration</th>\n",
       "    </tr>\n",
       "  </thead>\n",
       "  <tbody>\n",
       "    <tr>\n",
       "      <th>0</th>\n",
       "      <td>M83</td>\n",
       "      <td>Midnight City</td>\n",
       "      <td>Hurry Up, We're Dreaming</td>\n",
       "      <td>Synthpop</td>\n",
       "      <td>Happy</td>\n",
       "      <td>Electronic</td>\n",
       "      <td>...</td>\n",
       "      <td>243</td>\n",
       "    </tr>\n",
       "    <tr>\n",
       "      <th>1</th>\n",
       "      <td>Imagine Dragons</td>\n",
       "      <td>Radioactive</td>\n",
       "      <td>Night Visions</td>\n",
       "      <td>Indie</td>\n",
       "      <td>NaN</td>\n",
       "      <td>NaN</td>\n",
       "      <td>NaN</td>\n",
       "      <td>186</td>\n",
       "    </tr>\n",
       "    <tr>\n",
       "      <th>2</th>\n",
       "      <td>Of Monsters and Men</td>\n",
       "      <td>Little Talks</td>\n",
       "      <td>My Head Is an Animal</td>\n",
       "      <td>Indie</td>\n",
       "      <td>Relaxed</td>\n",
       "      <td>Folk</td>\n",
       "      <td>...</td>\n",
       "      <td>266</td>\n",
       "    </tr>\n",
       "    <tr>\n",
       "      <th>3</th>\n",
       "      <td>Avicii</td>\n",
       "      <td>Wake Me Up</td>\n",
       "      <td>True</td>\n",
       "      <td>House</td>\n",
       "      <td>Gentle</td>\n",
       "      <td>Electronic</td>\n",
       "      <td>Club</td>\n",
       "      <td>249</td>\n",
       "    </tr>\n",
       "    <tr>\n",
       "      <th>4</th>\n",
       "      <td>Lorde</td>\n",
       "      <td>Royals</td>\n",
       "      <td>The Love Club EP</td>\n",
       "      <td>Pop</td>\n",
       "      <td>NaN</td>\n",
       "      <td>NaN</td>\n",
       "      <td>NaN</td>\n",
       "      <td>190</td>\n",
       "    </tr>\n",
       "    <tr>\n",
       "      <th>5</th>\n",
       "      <td>The Lumineers</td>\n",
       "      <td>Ho Hey</td>\n",
       "      <td>The Lumineers</td>\n",
       "      <td>Rock</td>\n",
       "      <td>NaN</td>\n",
       "      <td>NaN</td>\n",
       "      <td>NaN</td>\n",
       "      <td>163</td>\n",
       "    </tr>\n",
       "    <tr>\n",
       "      <th>6</th>\n",
       "      <td>Bastille</td>\n",
       "      <td>Pompeii</td>\n",
       "      <td>Bad Blood</td>\n",
       "      <td>Alternative Rock</td>\n",
       "      <td>Relaxed</td>\n",
       "      <td>Rock/Pop</td>\n",
       "      <td>...</td>\n",
       "      <td>214</td>\n",
       "    </tr>\n",
       "    <tr>\n",
       "      <th>7</th>\n",
       "      <td>Robin Thicke</td>\n",
       "      <td>Blurred Lines</td>\n",
       "      <td>Blurred Lines EP</td>\n",
       "      <td>Soul</td>\n",
       "      <td>Sensual</td>\n",
       "      <td>Urban/R&amp;B</td>\n",
       "      <td>...</td>\n",
       "      <td>263</td>\n",
       "    </tr>\n",
       "    <tr>\n",
       "      <th>8</th>\n",
       "      <td>Foster the People</td>\n",
       "      <td>Pumped Up Kicks</td>\n",
       "      <td>Torches</td>\n",
       "      <td>Alternative Rock</td>\n",
       "      <td>NaN</td>\n",
       "      <td>NaN</td>\n",
       "      <td>NaN</td>\n",
       "      <td>240</td>\n",
       "    </tr>\n",
       "    <tr>\n",
       "      <th>9</th>\n",
       "      <td>Nirvana</td>\n",
       "      <td>Smells Like Teen Spirit</td>\n",
       "      <td>Nevermind</td>\n",
       "      <td>Grunge</td>\n",
       "      <td>Sad</td>\n",
       "      <td>Rock/Pop</td>\n",
       "      <td>...</td>\n",
       "      <td>301</td>\n",
       "    </tr>\n",
       "  </tbody>\n",
       "</table>\n",
       "</div>"
      ],
      "text/plain": [
       "                artist                song_name                     album  \\\n",
       "0                  M83            Midnight City  Hurry Up, We're Dreaming   \n",
       "1      Imagine Dragons              Radioactive             Night Visions   \n",
       "2  Of Monsters and Men             Little Talks      My Head Is an Animal   \n",
       "3               Avicii               Wake Me Up                      True   \n",
       "4                Lorde                   Royals          The Love Club EP   \n",
       "5        The Lumineers                   Ho Hey             The Lumineers   \n",
       "6             Bastille                  Pompeii                 Bad Blood   \n",
       "7         Robin Thicke            Blurred Lines          Blurred Lines EP   \n",
       "8    Foster the People          Pumped Up Kicks                   Torches   \n",
       "9              Nirvana  Smells Like Teen Spirit                 Nevermind   \n",
       "\n",
       "              genre     mood       style theme  duration  \n",
       "0          Synthpop    Happy  Electronic   ...       243  \n",
       "1             Indie      NaN         NaN   NaN       186  \n",
       "2             Indie  Relaxed        Folk   ...       266  \n",
       "3             House   Gentle  Electronic  Club       249  \n",
       "4               Pop      NaN         NaN   NaN       190  \n",
       "5              Rock      NaN         NaN   NaN       163  \n",
       "6  Alternative Rock  Relaxed    Rock/Pop   ...       214  \n",
       "7              Soul  Sensual   Urban/R&B   ...       263  \n",
       "8  Alternative Rock      NaN         NaN   NaN       240  \n",
       "9            Grunge      Sad    Rock/Pop   ...       301  "
      ]
     },
     "execution_count": 36,
     "metadata": {},
     "output_type": "execute_result"
    }
   ],
   "source": [
    "track_info = pd.read_csv('tracks_feats.csv', sep = '\\t')\n",
    "track_info.head(10)"
   ]
  },
  {
   "cell_type": "code",
   "execution_count": 37,
   "id": "9b0f8527",
   "metadata": {},
   "outputs": [],
   "source": [
    "track_info['track'] = track_info['artist'] + '__'+track_info['song_name']"
   ]
  },
  {
   "cell_type": "code",
   "execution_count": 38,
   "id": "6eaa7544",
   "metadata": {},
   "outputs": [
    {
     "data": {
      "text/html": [
       "<div>\n",
       "<style scoped>\n",
       "    .dataframe tbody tr th:only-of-type {\n",
       "        vertical-align: middle;\n",
       "    }\n",
       "\n",
       "    .dataframe tbody tr th {\n",
       "        vertical-align: top;\n",
       "    }\n",
       "\n",
       "    .dataframe thead th {\n",
       "        text-align: right;\n",
       "    }\n",
       "</style>\n",
       "<table border=\"1\" class=\"dataframe\">\n",
       "  <thead>\n",
       "    <tr style=\"text-align: right;\">\n",
       "      <th></th>\n",
       "      <th>artist</th>\n",
       "      <th>song_name</th>\n",
       "      <th>album</th>\n",
       "      <th>genre</th>\n",
       "      <th>mood</th>\n",
       "      <th>style</th>\n",
       "      <th>theme</th>\n",
       "      <th>duration</th>\n",
       "      <th>track</th>\n",
       "    </tr>\n",
       "  </thead>\n",
       "  <tbody>\n",
       "    <tr>\n",
       "      <th>count</th>\n",
       "      <td>248134</td>\n",
       "      <td>248134</td>\n",
       "      <td>248134</td>\n",
       "      <td>152152</td>\n",
       "      <td>7148</td>\n",
       "      <td>7148</td>\n",
       "      <td>6947</td>\n",
       "      <td>248134.000000</td>\n",
       "      <td>248134</td>\n",
       "    </tr>\n",
       "    <tr>\n",
       "      <th>unique</th>\n",
       "      <td>16168</td>\n",
       "      <td>174752</td>\n",
       "      <td>45129</td>\n",
       "      <td>140</td>\n",
       "      <td>47</td>\n",
       "      <td>24</td>\n",
       "      <td>26</td>\n",
       "      <td>NaN</td>\n",
       "      <td>238817</td>\n",
       "    </tr>\n",
       "    <tr>\n",
       "      <th>top</th>\n",
       "      <td>Johnny Cash</td>\n",
       "      <td>Intro</td>\n",
       "      <td>Greatest Hits</td>\n",
       "      <td>Alternative Rock</td>\n",
       "      <td>...</td>\n",
       "      <td>Rock/Pop</td>\n",
       "      <td>...</td>\n",
       "      <td>NaN</td>\n",
       "      <td>Édith Piaf__Hymne à l'amour</td>\n",
       "    </tr>\n",
       "    <tr>\n",
       "      <th>freq</th>\n",
       "      <td>598</td>\n",
       "      <td>160</td>\n",
       "      <td>372</td>\n",
       "      <td>15368</td>\n",
       "      <td>3052</td>\n",
       "      <td>4065</td>\n",
       "      <td>6764</td>\n",
       "      <td>NaN</td>\n",
       "      <td>5</td>\n",
       "    </tr>\n",
       "    <tr>\n",
       "      <th>mean</th>\n",
       "      <td>NaN</td>\n",
       "      <td>NaN</td>\n",
       "      <td>NaN</td>\n",
       "      <td>NaN</td>\n",
       "      <td>NaN</td>\n",
       "      <td>NaN</td>\n",
       "      <td>NaN</td>\n",
       "      <td>232.734083</td>\n",
       "      <td>NaN</td>\n",
       "    </tr>\n",
       "    <tr>\n",
       "      <th>std</th>\n",
       "      <td>NaN</td>\n",
       "      <td>NaN</td>\n",
       "      <td>NaN</td>\n",
       "      <td>NaN</td>\n",
       "      <td>NaN</td>\n",
       "      <td>NaN</td>\n",
       "      <td>NaN</td>\n",
       "      <td>119.091457</td>\n",
       "      <td>NaN</td>\n",
       "    </tr>\n",
       "    <tr>\n",
       "      <th>min</th>\n",
       "      <td>NaN</td>\n",
       "      <td>NaN</td>\n",
       "      <td>NaN</td>\n",
       "      <td>NaN</td>\n",
       "      <td>NaN</td>\n",
       "      <td>NaN</td>\n",
       "      <td>NaN</td>\n",
       "      <td>0.000000</td>\n",
       "      <td>NaN</td>\n",
       "    </tr>\n",
       "    <tr>\n",
       "      <th>25%</th>\n",
       "      <td>NaN</td>\n",
       "      <td>NaN</td>\n",
       "      <td>NaN</td>\n",
       "      <td>NaN</td>\n",
       "      <td>NaN</td>\n",
       "      <td>NaN</td>\n",
       "      <td>NaN</td>\n",
       "      <td>185.000000</td>\n",
       "      <td>NaN</td>\n",
       "    </tr>\n",
       "    <tr>\n",
       "      <th>50%</th>\n",
       "      <td>NaN</td>\n",
       "      <td>NaN</td>\n",
       "      <td>NaN</td>\n",
       "      <td>NaN</td>\n",
       "      <td>NaN</td>\n",
       "      <td>NaN</td>\n",
       "      <td>NaN</td>\n",
       "      <td>226.000000</td>\n",
       "      <td>NaN</td>\n",
       "    </tr>\n",
       "    <tr>\n",
       "      <th>75%</th>\n",
       "      <td>NaN</td>\n",
       "      <td>NaN</td>\n",
       "      <td>NaN</td>\n",
       "      <td>NaN</td>\n",
       "      <td>NaN</td>\n",
       "      <td>NaN</td>\n",
       "      <td>NaN</td>\n",
       "      <td>272.000000</td>\n",
       "      <td>NaN</td>\n",
       "    </tr>\n",
       "    <tr>\n",
       "      <th>max</th>\n",
       "      <td>NaN</td>\n",
       "      <td>NaN</td>\n",
       "      <td>NaN</td>\n",
       "      <td>NaN</td>\n",
       "      <td>NaN</td>\n",
       "      <td>NaN</td>\n",
       "      <td>NaN</td>\n",
       "      <td>12899.000000</td>\n",
       "      <td>NaN</td>\n",
       "    </tr>\n",
       "  </tbody>\n",
       "</table>\n",
       "</div>"
      ],
      "text/plain": [
       "             artist song_name          album             genre  mood  \\\n",
       "count        248134    248134         248134            152152  7148   \n",
       "unique        16168    174752          45129               140    47   \n",
       "top     Johnny Cash     Intro  Greatest Hits  Alternative Rock   ...   \n",
       "freq            598       160            372             15368  3052   \n",
       "mean            NaN       NaN            NaN               NaN   NaN   \n",
       "std             NaN       NaN            NaN               NaN   NaN   \n",
       "min             NaN       NaN            NaN               NaN   NaN   \n",
       "25%             NaN       NaN            NaN               NaN   NaN   \n",
       "50%             NaN       NaN            NaN               NaN   NaN   \n",
       "75%             NaN       NaN            NaN               NaN   NaN   \n",
       "max             NaN       NaN            NaN               NaN   NaN   \n",
       "\n",
       "           style theme       duration                        track  \n",
       "count       7148  6947  248134.000000                       248134  \n",
       "unique        24    26            NaN                       238817  \n",
       "top     Rock/Pop   ...            NaN  Édith Piaf__Hymne à l'amour  \n",
       "freq        4065  6764            NaN                            5  \n",
       "mean         NaN   NaN     232.734083                          NaN  \n",
       "std          NaN   NaN     119.091457                          NaN  \n",
       "min          NaN   NaN       0.000000                          NaN  \n",
       "25%          NaN   NaN     185.000000                          NaN  \n",
       "50%          NaN   NaN     226.000000                          NaN  \n",
       "75%          NaN   NaN     272.000000                          NaN  \n",
       "max          NaN   NaN   12899.000000                          NaN  "
      ]
     },
     "execution_count": 38,
     "metadata": {},
     "output_type": "execute_result"
    }
   ],
   "source": [
    "track_info.describe(include = 'all')"
   ]
  },
  {
   "cell_type": "code",
   "execution_count": 39,
   "id": "4473ff56",
   "metadata": {},
   "outputs": [
    {
     "data": {
      "text/plain": [
       "(248134, 9)"
      ]
     },
     "execution_count": 39,
     "metadata": {},
     "output_type": "execute_result"
    }
   ],
   "source": [
    "track_info.shape"
   ]
  },
  {
   "cell_type": "code",
   "execution_count": 40,
   "id": "44977e0f",
   "metadata": {},
   "outputs": [],
   "source": [
    "track_info['genre'] = track_info['genre'].fillna('NaN')\n",
    "track_info = track_info.replace(['...'],['NaN'])"
   ]
  },
  {
   "cell_type": "code",
   "execution_count": 41,
   "id": "8adb5ced",
   "metadata": {},
   "outputs": [
    {
     "data": {
      "text/plain": [
       "6346"
      ]
     },
     "execution_count": 41,
     "metadata": {},
     "output_type": "execute_result"
    }
   ],
   "source": [
    "len(set(track_info['track'])&items)"
   ]
  },
  {
   "cell_type": "code",
   "execution_count": 42,
   "id": "b2c9be87",
   "metadata": {},
   "outputs": [
    {
     "data": {
      "text/plain": [
       "10000"
      ]
     },
     "execution_count": 42,
     "metadata": {},
     "output_type": "execute_result"
    }
   ],
   "source": [
    "len(items)"
   ]
  },
  {
   "cell_type": "markdown",
   "id": "ce1b96f7",
   "metadata": {},
   "source": [
    "пупупупупупупууууу\n",
    "\n",
    "Получилось так, что у нас апишка не все топ 10к фичи айтемов выгрузила и Было принято решение сократить датасет"
   ]
  },
  {
   "cell_type": "code",
   "execution_count": 43,
   "id": "f2d5651b",
   "metadata": {},
   "outputs": [
    {
     "data": {
      "text/html": [
       "<div>\n",
       "<style scoped>\n",
       "    .dataframe tbody tr th:only-of-type {\n",
       "        vertical-align: middle;\n",
       "    }\n",
       "\n",
       "    .dataframe tbody tr th {\n",
       "        vertical-align: top;\n",
       "    }\n",
       "\n",
       "    .dataframe thead th {\n",
       "        text-align: right;\n",
       "    }\n",
       "</style>\n",
       "<table border=\"1\" class=\"dataframe\">\n",
       "  <thead>\n",
       "    <tr style=\"text-align: right;\">\n",
       "      <th></th>\n",
       "      <th>artist</th>\n",
       "      <th>song_name</th>\n",
       "      <th>album</th>\n",
       "      <th>genre</th>\n",
       "      <th>mood</th>\n",
       "      <th>style</th>\n",
       "      <th>theme</th>\n",
       "      <th>duration</th>\n",
       "      <th>track</th>\n",
       "      <th>track_id</th>\n",
       "    </tr>\n",
       "  </thead>\n",
       "  <tbody>\n",
       "    <tr>\n",
       "      <th>0</th>\n",
       "      <td>M83</td>\n",
       "      <td>Midnight City</td>\n",
       "      <td>Hurry Up, We're Dreaming</td>\n",
       "      <td>Synthpop</td>\n",
       "      <td>Happy</td>\n",
       "      <td>Electronic</td>\n",
       "      <td>NaN</td>\n",
       "      <td>243</td>\n",
       "      <td>M83__Midnight City</td>\n",
       "      <td>5305</td>\n",
       "    </tr>\n",
       "    <tr>\n",
       "      <th>1</th>\n",
       "      <td>Imagine Dragons</td>\n",
       "      <td>Radioactive</td>\n",
       "      <td>Night Visions</td>\n",
       "      <td>Indie</td>\n",
       "      <td>NaN</td>\n",
       "      <td>NaN</td>\n",
       "      <td>NaN</td>\n",
       "      <td>186</td>\n",
       "      <td>Imagine Dragons__Radioactive</td>\n",
       "      <td>3658</td>\n",
       "    </tr>\n",
       "  </tbody>\n",
       "</table>\n",
       "</div>"
      ],
      "text/plain": [
       "            artist      song_name                     album     genre   mood  \\\n",
       "0              M83  Midnight City  Hurry Up, We're Dreaming  Synthpop  Happy   \n",
       "1  Imagine Dragons    Radioactive             Night Visions     Indie    NaN   \n",
       "\n",
       "        style theme  duration                         track  track_id  \n",
       "0  Electronic   NaN       243            M83__Midnight City      5305  \n",
       "1         NaN   NaN       186  Imagine Dragons__Radioactive      3658  "
      ]
     },
     "execution_count": 43,
     "metadata": {},
     "output_type": "execute_result"
    }
   ],
   "source": [
    "new_track_info = track_info[track_info['track'].isin(items)]\n",
    "new_track_info['track_id'] = item_encoder.transform(new_track_info['track'])\n",
    "new_track_info = new_track_info.drop_duplicates()#.shape\n",
    "new_track_info.head(2)"
   ]
  },
  {
   "cell_type": "markdown",
   "id": "e2507d18",
   "metadata": {},
   "source": [
    "Надо хешануть жанры"
   ]
  },
  {
   "cell_type": "code",
   "execution_count": 44,
   "id": "6aed1d00",
   "metadata": {},
   "outputs": [],
   "source": [
    "genre_encoder = LabelEncoder()\n",
    "\n",
    "genre_encoder.fit(list(set(new_track_info['genre'])))\n",
    "\n",
    "new_track_info['genre_id'] = genre_encoder.transform(new_track_info['genre'])"
   ]
  },
  {
   "cell_type": "code",
   "execution_count": 45,
   "id": "f7edfd7c",
   "metadata": {},
   "outputs": [
    {
     "data": {
      "text/html": [
       "<div>\n",
       "<style scoped>\n",
       "    .dataframe tbody tr th:only-of-type {\n",
       "        vertical-align: middle;\n",
       "    }\n",
       "\n",
       "    .dataframe tbody tr th {\n",
       "        vertical-align: top;\n",
       "    }\n",
       "\n",
       "    .dataframe thead th {\n",
       "        text-align: right;\n",
       "    }\n",
       "</style>\n",
       "<table border=\"1\" class=\"dataframe\">\n",
       "  <thead>\n",
       "    <tr style=\"text-align: right;\">\n",
       "      <th></th>\n",
       "      <th>track_id</th>\n",
       "      <th>duration</th>\n",
       "      <th>artist</th>\n",
       "      <th>genre_id</th>\n",
       "    </tr>\n",
       "  </thead>\n",
       "  <tbody>\n",
       "    <tr>\n",
       "      <th>0</th>\n",
       "      <td>5305</td>\n",
       "      <td>243</td>\n",
       "      <td>M83</td>\n",
       "      <td>82</td>\n",
       "    </tr>\n",
       "    <tr>\n",
       "      <th>1</th>\n",
       "      <td>3658</td>\n",
       "      <td>186</td>\n",
       "      <td>Imagine Dragons</td>\n",
       "      <td>41</td>\n",
       "    </tr>\n",
       "    <tr>\n",
       "      <th>2</th>\n",
       "      <td>6374</td>\n",
       "      <td>266</td>\n",
       "      <td>Of Monsters and Men</td>\n",
       "      <td>41</td>\n",
       "    </tr>\n",
       "    <tr>\n",
       "      <th>3</th>\n",
       "      <td>541</td>\n",
       "      <td>249</td>\n",
       "      <td>Avicii</td>\n",
       "      <td>40</td>\n",
       "    </tr>\n",
       "    <tr>\n",
       "      <th>4</th>\n",
       "      <td>5168</td>\n",
       "      <td>190</td>\n",
       "      <td>Lorde</td>\n",
       "      <td>58</td>\n",
       "    </tr>\n",
       "    <tr>\n",
       "      <th>...</th>\n",
       "      <td>...</td>\n",
       "      <td>...</td>\n",
       "      <td>...</td>\n",
       "      <td>...</td>\n",
       "    </tr>\n",
       "    <tr>\n",
       "      <th>8286</th>\n",
       "      <td>9326</td>\n",
       "      <td>223</td>\n",
       "      <td>Toby Keith</td>\n",
       "      <td>52</td>\n",
       "    </tr>\n",
       "    <tr>\n",
       "      <th>8287</th>\n",
       "      <td>6266</td>\n",
       "      <td>278</td>\n",
       "      <td>Nine Inch Nails</td>\n",
       "      <td>44</td>\n",
       "    </tr>\n",
       "    <tr>\n",
       "      <th>8288</th>\n",
       "      <td>5713</td>\n",
       "      <td>245</td>\n",
       "      <td>Metronomy</td>\n",
       "      <td>54</td>\n",
       "    </tr>\n",
       "    <tr>\n",
       "      <th>8291</th>\n",
       "      <td>5760</td>\n",
       "      <td>338</td>\n",
       "      <td>Michael Jackson</td>\n",
       "      <td>58</td>\n",
       "    </tr>\n",
       "    <tr>\n",
       "      <th>8298</th>\n",
       "      <td>7761</td>\n",
       "      <td>258</td>\n",
       "      <td>Skrillex</td>\n",
       "      <td>21</td>\n",
       "    </tr>\n",
       "  </tbody>\n",
       "</table>\n",
       "<p>6346 rows × 4 columns</p>\n",
       "</div>"
      ],
      "text/plain": [
       "      track_id  duration               artist  genre_id\n",
       "0         5305       243                  M83        82\n",
       "1         3658       186      Imagine Dragons        41\n",
       "2         6374       266  Of Monsters and Men        41\n",
       "3          541       249               Avicii        40\n",
       "4         5168       190                Lorde        58\n",
       "...        ...       ...                  ...       ...\n",
       "8286      9326       223           Toby Keith        52\n",
       "8287      6266       278      Nine Inch Nails        44\n",
       "8288      5713       245            Metronomy        54\n",
       "8291      5760       338      Michael Jackson        58\n",
       "8298      7761       258             Skrillex        21\n",
       "\n",
       "[6346 rows x 4 columns]"
      ]
     },
     "execution_count": 45,
     "metadata": {},
     "output_type": "execute_result"
    }
   ],
   "source": [
    "aaa = new_track_info[['track_id', 'duration', 'artist', 'genre_id']]\n",
    "aaa"
   ]
  },
  {
   "cell_type": "code",
   "execution_count": 46,
   "id": "497eb825",
   "metadata": {},
   "outputs": [],
   "source": [
    "aaa_pivot = aaa.pivot(index = 'track_id', columns = 'genre_id', values = 'duration')"
   ]
  },
  {
   "cell_type": "code",
   "execution_count": 47,
   "id": "94b1b0e7",
   "metadata": {},
   "outputs": [
    {
     "data": {
      "text/plain": [
       "(6346, 88)"
      ]
     },
     "execution_count": 47,
     "metadata": {},
     "output_type": "execute_result"
    }
   ],
   "source": [
    "shape = (len(aaa['track_id'].unique()), len(aaa['genre_id'].unique()))\n",
    "shape"
   ]
  },
  {
   "cell_type": "code",
   "execution_count": 48,
   "id": "53628f28",
   "metadata": {},
   "outputs": [],
   "source": [
    "nuka = scipy.sparse.csr_matrix(aaa_pivot.values)"
   ]
  },
  {
   "cell_type": "markdown",
   "id": "baf3c5f7",
   "metadata": {},
   "source": [
    "# Обрежем данные под те, что есть в фичах"
   ]
  },
  {
   "cell_type": "code",
   "execution_count": 49,
   "id": "0a5c4f74",
   "metadata": {},
   "outputs": [],
   "source": [
    "tracks_in_features = set(aaa.track_id)"
   ]
  },
  {
   "cell_type": "code",
   "execution_count": 50,
   "id": "04480b07",
   "metadata": {},
   "outputs": [
    {
     "data": {
      "text/plain": [
       "6346"
      ]
     },
     "execution_count": 50,
     "metadata": {},
     "output_type": "execute_result"
    }
   ],
   "source": [
    "len(tracks_in_features)"
   ]
  },
  {
   "cell_type": "code",
   "execution_count": 51,
   "id": "c2cd8fbc",
   "metadata": {},
   "outputs": [],
   "source": [
    "cut_train = train[train['song_id'].isin(tracks_in_features)]\n",
    "\n",
    "cut_test = test[test['song_id'].isin(tracks_in_features)]\n",
    "\n",
    "cut_train = cut_train[cut_train['new_user_id'].isin(set(cut_train['new_user_id']) & set(cut_test['new_user_id']))]\n",
    "cut_test = cut_test[cut_test['new_user_id'].isin(set(cut_train['new_user_id']) & set(cut_test['new_user_id']))]"
   ]
  },
  {
   "cell_type": "code",
   "execution_count": 52,
   "id": "bc2e5868",
   "metadata": {},
   "outputs": [
    {
     "data": {
      "text/html": [
       "<div>\n",
       "<style scoped>\n",
       "    .dataframe tbody tr th:only-of-type {\n",
       "        vertical-align: middle;\n",
       "    }\n",
       "\n",
       "    .dataframe tbody tr th {\n",
       "        vertical-align: top;\n",
       "    }\n",
       "\n",
       "    .dataframe thead th {\n",
       "        text-align: right;\n",
       "    }\n",
       "</style>\n",
       "<table border=\"1\" class=\"dataframe\">\n",
       "  <thead>\n",
       "    <tr style=\"text-align: right;\">\n",
       "      <th></th>\n",
       "      <th>user_id</th>\n",
       "      <th>song</th>\n",
       "      <th>new_user_id</th>\n",
       "      <th>song_id</th>\n",
       "      <th>connect</th>\n",
       "    </tr>\n",
       "  </thead>\n",
       "  <tbody>\n",
       "    <tr>\n",
       "      <th>547000</th>\n",
       "      <td>656541f8c9c6919b36a9a20a71b1bfe1</td>\n",
       "      <td>Cat Power__Sea of Love</td>\n",
       "      <td>5454</td>\n",
       "      <td>1426</td>\n",
       "      <td>1</td>\n",
       "    </tr>\n",
       "    <tr>\n",
       "      <th>3615951</th>\n",
       "      <td>1ce89904757d749a9caa9c128471779e</td>\n",
       "      <td>Jeff Buckley__Lover, You Should've Come Over</td>\n",
       "      <td>1542</td>\n",
       "      <td>4030</td>\n",
       "      <td>1</td>\n",
       "    </tr>\n",
       "  </tbody>\n",
       "</table>\n",
       "</div>"
      ],
      "text/plain": [
       "                                  user_id  \\\n",
       "547000   656541f8c9c6919b36a9a20a71b1bfe1   \n",
       "3615951  1ce89904757d749a9caa9c128471779e   \n",
       "\n",
       "                                                 song  new_user_id  song_id  \\\n",
       "547000                         Cat Power__Sea of Love         5454     1426   \n",
       "3615951  Jeff Buckley__Lover, You Should've Come Over         1542     4030   \n",
       "\n",
       "         connect  \n",
       "547000         1  \n",
       "3615951        1  "
      ]
     },
     "execution_count": 52,
     "metadata": {},
     "output_type": "execute_result"
    }
   ],
   "source": [
    "cut_test.head(2)"
   ]
  },
  {
   "cell_type": "markdown",
   "id": "71c05227",
   "metadata": {},
   "source": [
    "Проверяем данные"
   ]
  },
  {
   "cell_type": "code",
   "execution_count": 53,
   "id": "edc34a29",
   "metadata": {},
   "outputs": [
    {
     "data": {
      "text/plain": [
       "12994"
      ]
     },
     "execution_count": 53,
     "metadata": {},
     "output_type": "execute_result"
    }
   ],
   "source": [
    "len(set(cut_train['new_user_id']) & set(cut_test['new_user_id']))"
   ]
  },
  {
   "cell_type": "code",
   "execution_count": 54,
   "id": "f0b3a445",
   "metadata": {},
   "outputs": [
    {
     "data": {
      "text/plain": [
       "(12994, 12994)"
      ]
     },
     "execution_count": 54,
     "metadata": {},
     "output_type": "execute_result"
    }
   ],
   "source": [
    "len(set(cut_train['new_user_id'])), len(set(cut_test['new_user_id']))"
   ]
  },
  {
   "cell_type": "code",
   "execution_count": 55,
   "id": "0418923d",
   "metadata": {},
   "outputs": [
    {
     "data": {
      "text/plain": [
       "(6346, 6346)"
      ]
     },
     "execution_count": 55,
     "metadata": {},
     "output_type": "execute_result"
    }
   ],
   "source": [
    "len(set(cut_train['song_id'])), len(set(cut_test['song_id']))"
   ]
  },
  {
   "cell_type": "code",
   "execution_count": 56,
   "id": "6cb4f52d",
   "metadata": {},
   "outputs": [],
   "source": [
    "from lightfm.data import Dataset # тут некоторая магия создания разряженной матрицы"
   ]
  },
  {
   "cell_type": "code",
   "execution_count": 57,
   "id": "0e9438cc",
   "metadata": {},
   "outputs": [],
   "source": [
    "cut_train_dataset = Dataset()\n",
    "cut_train_dataset.fit(cut_train['new_user_id'],\n",
    "                      cut_train['song_id'])"
   ]
  },
  {
   "cell_type": "code",
   "execution_count": 58,
   "id": "5ee80d7c",
   "metadata": {},
   "outputs": [
    {
     "data": {
      "text/html": [
       "<div>\n",
       "<style scoped>\n",
       "    .dataframe tbody tr th:only-of-type {\n",
       "        vertical-align: middle;\n",
       "    }\n",
       "\n",
       "    .dataframe tbody tr th {\n",
       "        vertical-align: top;\n",
       "    }\n",
       "\n",
       "    .dataframe thead th {\n",
       "        text-align: right;\n",
       "    }\n",
       "</style>\n",
       "<table border=\"1\" class=\"dataframe\">\n",
       "  <thead>\n",
       "    <tr style=\"text-align: right;\">\n",
       "      <th></th>\n",
       "      <th>new_user_id</th>\n",
       "      <th>song_id</th>\n",
       "    </tr>\n",
       "  </thead>\n",
       "  <tbody>\n",
       "    <tr>\n",
       "      <th>8177716</th>\n",
       "      <td>5057</td>\n",
       "      <td>8379</td>\n",
       "    </tr>\n",
       "    <tr>\n",
       "      <th>12055012</th>\n",
       "      <td>11940</td>\n",
       "      <td>8522</td>\n",
       "    </tr>\n",
       "    <tr>\n",
       "      <th>3634214</th>\n",
       "      <td>8915</td>\n",
       "      <td>5641</td>\n",
       "    </tr>\n",
       "    <tr>\n",
       "      <th>411150</th>\n",
       "      <td>1622</td>\n",
       "      <td>4346</td>\n",
       "    </tr>\n",
       "    <tr>\n",
       "      <th>2560609</th>\n",
       "      <td>12157</td>\n",
       "      <td>7620</td>\n",
       "    </tr>\n",
       "    <tr>\n",
       "      <th>...</th>\n",
       "      <td>...</td>\n",
       "      <td>...</td>\n",
       "    </tr>\n",
       "    <tr>\n",
       "      <th>9040656</th>\n",
       "      <td>989</td>\n",
       "      <td>9589</td>\n",
       "    </tr>\n",
       "    <tr>\n",
       "      <th>2712393</th>\n",
       "      <td>12238</td>\n",
       "      <td>9105</td>\n",
       "    </tr>\n",
       "    <tr>\n",
       "      <th>2180517</th>\n",
       "      <td>2239</td>\n",
       "      <td>2677</td>\n",
       "    </tr>\n",
       "    <tr>\n",
       "      <th>9281224</th>\n",
       "      <td>12272</td>\n",
       "      <td>6374</td>\n",
       "    </tr>\n",
       "    <tr>\n",
       "      <th>1618189</th>\n",
       "      <td>10283</td>\n",
       "      <td>9203</td>\n",
       "    </tr>\n",
       "  </tbody>\n",
       "</table>\n",
       "<p>1493445 rows × 2 columns</p>\n",
       "</div>"
      ],
      "text/plain": [
       "          new_user_id  song_id\n",
       "8177716          5057     8379\n",
       "12055012        11940     8522\n",
       "3634214          8915     5641\n",
       "411150           1622     4346\n",
       "2560609         12157     7620\n",
       "...               ...      ...\n",
       "9040656           989     9589\n",
       "2712393         12238     9105\n",
       "2180517          2239     2677\n",
       "9281224         12272     6374\n",
       "1618189         10283     9203\n",
       "\n",
       "[1493445 rows x 2 columns]"
      ]
     },
     "execution_count": 58,
     "metadata": {},
     "output_type": "execute_result"
    }
   ],
   "source": [
    "cut_train.iloc[:, [2, 3]]"
   ]
  },
  {
   "cell_type": "code",
   "execution_count": 59,
   "id": "25b5505f",
   "metadata": {},
   "outputs": [
    {
     "name": "stdout",
     "output_type": "stream",
     "text": [
      "<12994x6346 sparse matrix of type '<class 'numpy.int32'>'\n",
      "\twith 1493445 stored elements in COOrdinate format>\n"
     ]
    }
   ],
   "source": [
    "(cut_train_coo, weights) = cut_train_dataset.build_interactions((x[1],x[0]) for x in cut_train.iloc[:, [3, 2]].to_numpy())\n",
    "\n",
    "print(repr(cut_train_coo))"
   ]
  },
  {
   "cell_type": "code",
   "execution_count": 60,
   "id": "affe6065",
   "metadata": {},
   "outputs": [],
   "source": [
    "cut_test_dataset = Dataset()\n",
    "cut_test_dataset.fit(cut_test['new_user_id'],\n",
    "                     cut_test['song_id'])"
   ]
  },
  {
   "cell_type": "code",
   "execution_count": 61,
   "id": "391640a3",
   "metadata": {},
   "outputs": [
    {
     "name": "stdout",
     "output_type": "stream",
     "text": [
      "<12994x6346 sparse matrix of type '<class 'numpy.int32'>'\n",
      "\twith 264562 stored elements in COOrdinate format>\n"
     ]
    }
   ],
   "source": [
    "(cut_test_coo, weights) = cut_test_dataset.build_interactions((x[1],x[0]) for x in cut_test.iloc[:, [3, 2]].to_numpy())\n",
    "\n",
    "print(repr(cut_test_coo))\n"
   ]
  },
  {
   "cell_type": "code",
   "execution_count": 76,
   "id": "9f44bfc7",
   "metadata": {},
   "outputs": [],
   "source": [
    "# items_dataset = Dataset() # решение оказалось не верным, нужно вместе с датасетом формировать, оставил, что бы помнить\n",
    "# items_dataset.fit(aaa['track_id'], aaa['genre_id'])\n",
    "\n",
    "# (items_coo, weights) = items_dataset.build_interactions((x[1],x[0]) for x in aaa.iloc[:, [2, 0]].to_numpy())\n",
    "\n",
    "# print(repr(items_coo))"
   ]
  },
  {
   "cell_type": "markdown",
   "id": "c9821276",
   "metadata": {},
   "source": [
    "Опробуем модель на новых данных"
   ]
  },
  {
   "cell_type": "code",
   "execution_count": 62,
   "id": "8f87265b",
   "metadata": {},
   "outputs": [
    {
     "name": "stderr",
     "output_type": "stream",
     "text": [
      " 10%|████▍                                       | 1/10 [00:36<05:24, 36.02s/it]"
     ]
    },
    {
     "name": "stdout",
     "output_type": "stream",
     "text": [
      "0.0012030438900552892\n"
     ]
    },
    {
     "name": "stderr",
     "output_type": "stream",
     "text": [
      "\r",
      " 20%|████████▊                                   | 2/10 [01:11<04:44, 35.62s/it]"
     ]
    },
    {
     "name": "stdout",
     "output_type": "stream",
     "text": [
      "0.0012583158310268251\n"
     ]
    },
    {
     "name": "stderr",
     "output_type": "stream",
     "text": [
      "\r",
      " 30%|█████████████▏                              | 3/10 [01:46<04:07, 35.30s/it]"
     ]
    },
    {
     "name": "stdout",
     "output_type": "stream",
     "text": [
      "0.0012005356306129104\n"
     ]
    },
    {
     "name": "stderr",
     "output_type": "stream",
     "text": [
      "\r",
      " 40%|█████████████████▌                          | 4/10 [02:20<03:30, 35.01s/it]"
     ]
    },
    {
     "name": "stdout",
     "output_type": "stream",
     "text": [
      "0.001201241035691643\n"
     ]
    },
    {
     "name": "stderr",
     "output_type": "stream",
     "text": [
      "\r",
      " 50%|██████████████████████                      | 5/10 [02:55<02:53, 34.71s/it]"
     ]
    },
    {
     "name": "stdout",
     "output_type": "stream",
     "text": [
      "0.0011859762815851398\n"
     ]
    },
    {
     "name": "stderr",
     "output_type": "stream",
     "text": [
      "\r",
      " 60%|██████████████████████████▍                 | 6/10 [03:28<02:17, 34.43s/it]"
     ]
    },
    {
     "name": "stdout",
     "output_type": "stream",
     "text": [
      "0.0012031714057291725\n"
     ]
    },
    {
     "name": "stderr",
     "output_type": "stream",
     "text": [
      "\r",
      " 70%|██████████████████████████████▊             | 7/10 [04:02<01:42, 34.16s/it]"
     ]
    },
    {
     "name": "stdout",
     "output_type": "stream",
     "text": [
      "0.0012100148419135954\n"
     ]
    },
    {
     "name": "stderr",
     "output_type": "stream",
     "text": [
      "\r",
      " 80%|███████████████████████████████████▏        | 8/10 [04:36<01:07, 33.96s/it]"
     ]
    },
    {
     "name": "stdout",
     "output_type": "stream",
     "text": [
      "0.0012110383893866987\n"
     ]
    },
    {
     "name": "stderr",
     "output_type": "stream",
     "text": [
      "\r",
      " 90%|███████████████████████████████████████▌    | 9/10 [05:09<00:33, 33.75s/it]"
     ]
    },
    {
     "name": "stdout",
     "output_type": "stream",
     "text": [
      "0.0011996443657855294\n"
     ]
    },
    {
     "name": "stderr",
     "output_type": "stream",
     "text": [
      "100%|███████████████████████████████████████████| 10/10 [05:42<00:00, 34.24s/it]"
     ]
    },
    {
     "name": "stdout",
     "output_type": "stream",
     "text": [
      "0.0011760394602754291\n"
     ]
    },
    {
     "name": "stderr",
     "output_type": "stream",
     "text": [
      "\n"
     ]
    },
    {
     "data": {
      "text/plain": [
       "<lightfm.lightfm.LightFM at 0x7f87e4ee7dc0>"
      ]
     },
     "execution_count": 62,
     "metadata": {},
     "output_type": "execute_result"
    }
   ],
   "source": [
    "lightFM_eval(no_components = 100, loss='warp',\n",
    "             random_state = 42, learning_rate = 0.01,\n",
    "             test_sparse = cut_test_coo, train_sparse = cut_train_coo,\n",
    "             sample_weight = cut_train_coo, epochs = 10, num_threads = 6)"
   ]
  },
  {
   "cell_type": "markdown",
   "id": "46cd8d05",
   "metadata": {},
   "source": [
    "Качество сильно упало(((("
   ]
  },
  {
   "cell_type": "markdown",
   "id": "922af0c6",
   "metadata": {},
   "source": [
    "Но все равно попробуем добавить фичи, иначе все было зря)"
   ]
  },
  {
   "cell_type": "markdown",
   "id": "97880f31",
   "metadata": {},
   "source": [
    "# Модель c фичами"
   ]
  },
  {
   "cell_type": "markdown",
   "id": "84e9bed6",
   "metadata": {},
   "source": [
    "Для этого пришлось несного подшаманить данные, с имеющимися не работало (писал в законмментированной ячейке)"
   ]
  },
  {
   "cell_type": "markdown",
   "id": "938baba1",
   "metadata": {},
   "source": [
    "## немного правлю данные"
   ]
  },
  {
   "cell_type": "code",
   "execution_count": 64,
   "id": "7b5dcaa8",
   "metadata": {},
   "outputs": [],
   "source": [
    "df = cut_train.iloc[:, 2:].copy(deep = True)"
   ]
  },
  {
   "cell_type": "code",
   "execution_count": 65,
   "id": "e83d7b40",
   "metadata": {},
   "outputs": [],
   "source": [
    "df_test = cut_test.iloc[:, 2:].copy(deep = True)"
   ]
  },
  {
   "cell_type": "code",
   "execution_count": 67,
   "id": "485a94f1",
   "metadata": {},
   "outputs": [],
   "source": [
    "features = aaa.iloc[:, [0, 2, 3]]\n",
    "# features"
   ]
  },
  {
   "cell_type": "code",
   "execution_count": 68,
   "id": "c1634aa7",
   "metadata": {},
   "outputs": [],
   "source": [
    "true_solution = Dataset()"
   ]
  },
  {
   "cell_type": "code",
   "execution_count": 69,
   "id": "d1c50e6e",
   "metadata": {
    "scrolled": true
   },
   "outputs": [],
   "source": [
    "uf = []\n",
    "col = ['genre']*len(features.genre_id.unique()) + ['artist']*len(features.artist.unique())\n",
    "unique_f1 = list(features.genre_id.unique()) + list(features.artist.unique()) \n",
    "#print('f1:', unique_f1)\n",
    "for x,y in zip(col, unique_f1):\n",
    "    res = str(x)+ \":\" +str(y)\n",
    "    uf.append(res)\n",
    "#     print(res)"
   ]
  },
  {
   "cell_type": "code",
   "execution_count": 70,
   "id": "c1806bb1",
   "metadata": {},
   "outputs": [
    {
     "data": {
      "text/plain": [
       "['genre:82', 'genre:41', 'genre:40']"
      ]
     },
     "execution_count": 70,
     "metadata": {},
     "output_type": "execute_result"
    }
   ],
   "source": [
    "uf[:3]"
   ]
  },
  {
   "cell_type": "code",
   "execution_count": 71,
   "id": "063afae0",
   "metadata": {},
   "outputs": [],
   "source": [
    "true_solution.fit(\n",
    "        df['new_user_id'].unique(), # all the users\n",
    "        df['song_id'].unique(), # all the items\n",
    "        item_features = uf # additional item features\n",
    ")"
   ]
  },
  {
   "cell_type": "code",
   "execution_count": 72,
   "id": "9d5277a2",
   "metadata": {},
   "outputs": [],
   "source": [
    "(interactions, weights) = true_solution.build_interactions([(x[0], x[1], x[2]) for x in df.values])"
   ]
  },
  {
   "cell_type": "code",
   "execution_count": 78,
   "id": "a12bfd06",
   "metadata": {},
   "outputs": [],
   "source": [
    "def feature_colon_value(my_list):\n",
    "\n",
    "    result = []\n",
    "    ll = ['genre:', 'artist:']\n",
    "    aa = my_list\n",
    "    for x,y in zip(ll,aa):\n",
    "        res = str(x) +\"\"+ str(y)\n",
    "        result.append(res)\n",
    "    return result"
   ]
  },
  {
   "cell_type": "code",
   "execution_count": 79,
   "id": "a0a90853",
   "metadata": {},
   "outputs": [],
   "source": [
    "ad_subset = features[[\"genre_id\", \"artist\"]] \n",
    "ad_list = [list(x) for x in ad_subset.values]\n",
    "feature_list = []\n",
    "for item in ad_list:\n",
    "    feature_list.append(feature_colon_value(item))\n",
    "# print(f'Final output: {feature_list}')"
   ]
  },
  {
   "cell_type": "code",
   "execution_count": 80,
   "id": "a32b2e84",
   "metadata": {},
   "outputs": [],
   "source": [
    "item_tuple = list(zip(features.track_id, feature_list))"
   ]
  },
  {
   "cell_type": "code",
   "execution_count": 81,
   "id": "0c7c8805",
   "metadata": {},
   "outputs": [
    {
     "data": {
      "text/plain": [
       "[(5305, ['genre:82', 'artist:M83']),\n",
       " (3658, ['genre:41', 'artist:Imagine Dragons']),\n",
       " (6374, ['genre:41', 'artist:Of Monsters and Men'])]"
      ]
     },
     "execution_count": 81,
     "metadata": {},
     "output_type": "execute_result"
    }
   ],
   "source": [
    "item_tuple[:3]"
   ]
  },
  {
   "cell_type": "code",
   "execution_count": 82,
   "id": "532c1615",
   "metadata": {},
   "outputs": [],
   "source": [
    "item_features = true_solution.build_item_features(item_tuple, normalize= False)"
   ]
  },
  {
   "cell_type": "code",
   "execution_count": 83,
   "id": "72487c0e",
   "metadata": {},
   "outputs": [],
   "source": [
    "true_test_dataset = Dataset()\n",
    "true_test_dataset.fit(\n",
    "        df_test['new_user_id'].unique(), # all the users\n",
    "        df_test['song_id'].unique(), # all the items\n",
    "        item_features = uf # additional user features\n",
    ")\n",
    "\n",
    "(test_interactions, test_weights) = true_test_dataset.build_interactions([(x[0], x[1], x[2]) for x in df_test.values])"
   ]
  },
  {
   "cell_type": "markdown",
   "id": "67faca39",
   "metadata": {},
   "source": [
    "Теперь все имеется, можно тестить модель"
   ]
  },
  {
   "cell_type": "code",
   "execution_count": 93,
   "id": "a1b2e289",
   "metadata": {},
   "outputs": [
    {
     "data": {
      "text/plain": [
       "<12994x6346 sparse matrix of type '<class 'numpy.float32'>'\n",
       "\twith 1493445 stored elements in COOrdinate format>"
      ]
     },
     "execution_count": 93,
     "metadata": {},
     "output_type": "execute_result"
    }
   ],
   "source": [
    "interactions"
   ]
  },
  {
   "cell_type": "code",
   "execution_count": 95,
   "id": "7c15a47d",
   "metadata": {},
   "outputs": [
    {
     "data": {
      "text/plain": [
       "<8130x6346 sparse matrix of type '<class 'numpy.float32'>'\n",
       "\twith 19038 stored elements in Compressed Sparse Column format>"
      ]
     },
     "execution_count": 95,
     "metadata": {},
     "output_type": "execute_result"
    }
   ],
   "source": [
    "item_features.T"
   ]
  },
  {
   "cell_type": "markdown",
   "id": "cc8d5291",
   "metadata": {},
   "source": [
    "## Тестируем модель с фичами"
   ]
  },
  {
   "cell_type": "code",
   "execution_count": 97,
   "id": "afcb8cf9",
   "metadata": {},
   "outputs": [
    {
     "name": "stderr",
     "output_type": "stream",
     "text": [
      " 10%|████▍                                       | 1/10 [00:35<05:20, 35.65s/it]"
     ]
    },
    {
     "name": "stdout",
     "output_type": "stream",
     "text": [
      "0.0012030438900552892\n"
     ]
    },
    {
     "name": "stderr",
     "output_type": "stream",
     "text": [
      "\r",
      " 20%|████████▊                                   | 2/10 [01:11<04:44, 35.56s/it]"
     ]
    },
    {
     "name": "stdout",
     "output_type": "stream",
     "text": [
      "0.0012583158310268251\n"
     ]
    },
    {
     "name": "stderr",
     "output_type": "stream",
     "text": [
      "\r",
      " 30%|█████████████▏                              | 3/10 [01:46<04:07, 35.29s/it]"
     ]
    },
    {
     "name": "stdout",
     "output_type": "stream",
     "text": [
      "0.0012005356306129104\n"
     ]
    },
    {
     "name": "stderr",
     "output_type": "stream",
     "text": [
      "\r",
      " 40%|█████████████████▌                          | 4/10 [02:20<03:30, 35.01s/it]"
     ]
    },
    {
     "name": "stdout",
     "output_type": "stream",
     "text": [
      "0.001201241035691643\n"
     ]
    },
    {
     "name": "stderr",
     "output_type": "stream",
     "text": [
      "\r",
      " 50%|██████████████████████                      | 5/10 [02:55<02:53, 34.79s/it]"
     ]
    },
    {
     "name": "stdout",
     "output_type": "stream",
     "text": [
      "0.0011859762815851398\n"
     ]
    },
    {
     "name": "stderr",
     "output_type": "stream",
     "text": [
      "\r",
      " 60%|██████████████████████████▍                 | 6/10 [03:28<02:17, 34.49s/it]"
     ]
    },
    {
     "name": "stdout",
     "output_type": "stream",
     "text": [
      "0.0012031714057291725\n"
     ]
    },
    {
     "name": "stderr",
     "output_type": "stream",
     "text": [
      "\r",
      " 70%|██████████████████████████████▊             | 7/10 [04:02<01:42, 34.20s/it]"
     ]
    },
    {
     "name": "stdout",
     "output_type": "stream",
     "text": [
      "0.0012100148419135954\n"
     ]
    },
    {
     "name": "stderr",
     "output_type": "stream",
     "text": [
      "\r",
      " 80%|███████████████████████████████████▏        | 8/10 [04:36<01:07, 33.95s/it]"
     ]
    },
    {
     "name": "stdout",
     "output_type": "stream",
     "text": [
      "0.0012110383893866987\n"
     ]
    },
    {
     "name": "stderr",
     "output_type": "stream",
     "text": [
      "\r",
      " 90%|███████████████████████████████████████▌    | 9/10 [05:09<00:33, 33.76s/it]"
     ]
    },
    {
     "name": "stdout",
     "output_type": "stream",
     "text": [
      "0.0011996443657855294\n"
     ]
    },
    {
     "name": "stderr",
     "output_type": "stream",
     "text": [
      "100%|███████████████████████████████████████████| 10/10 [05:42<00:00, 34.25s/it]"
     ]
    },
    {
     "name": "stdout",
     "output_type": "stream",
     "text": [
      "0.0011760394602754291\n"
     ]
    },
    {
     "name": "stderr",
     "output_type": "stream",
     "text": [
      "\n"
     ]
    }
   ],
   "source": [
    "model_with_features = lightFM_eval(no_components = 100, loss='warp',\n",
    "                                 random_state = 42, learning_rate = 0.01,\n",
    "                                 test_sparse = test_interactions, train_sparse = interactions,\n",
    "                                 sample_weight = interactions, epochs = 10, num_threads = 6,\n",
    "                                 item_features = item_features.T)"
   ]
  },
  {
   "cell_type": "markdown",
   "id": "73697dbf",
   "metadata": {},
   "source": [
    "Качество относительно последней модели не изменилось"
   ]
  },
  {
   "cell_type": "markdown",
   "id": "41245c9b",
   "metadata": {},
   "source": [
    "Дальше с этой моделью будем пытаться подбирать гиперпараметры, крутить фичи и добавлять новые\n",
    "\n",
    "Возможно, получится достать фичи тех песен, которые у нас не подтянулись, что бы не сокращать датасет (А именно из-за этого и упало качество)\n",
    "\n",
    "Как итог -- лучшая модель на данный момент это модель на наборе данных с 10к самых популярных песен без доп фичей на 1 тысяче эпох.\n",
    "\n",
    "precision at 20 = 0.048\n",
    "\n",
    "Так же в дальнейшем планируется подготовить алгоритмы аггрегирования предсказаний для высчитывания других метрик (они уже частично разработаны в других файлах)"
   ]
  }
 ],
 "metadata": {
  "kernelspec": {
   "display_name": "Python 3 (ipykernel)",
   "language": "python",
   "name": "python3"
  },
  "language_info": {
   "codemirror_mode": {
    "name": "ipython",
    "version": 3
   },
   "file_extension": ".py",
   "mimetype": "text/x-python",
   "name": "python",
   "nbconvert_exporter": "python",
   "pygments_lexer": "ipython3",
   "version": "3.9.7"
  }
 },
 "nbformat": 4,
 "nbformat_minor": 5
}
