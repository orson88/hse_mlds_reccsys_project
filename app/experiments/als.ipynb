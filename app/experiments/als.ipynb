{
 "cells": [
  {
   "cell_type": "code",
   "execution_count": 65,
   "metadata": {},
   "outputs": [],
   "source": [
    "import pandas as pd\n",
    "import numpy as np\n",
    "import json\n",
    "import pickle\n",
    "from implicit.als import AlternatingLeastSquares\n",
    "from scipy.sparse import csr_matrix\n",
    "from sklearn.model_selection import train_test_split\n",
    "from scipy.sparse import save_npz"
   ]
  },
  {
   "cell_type": "code",
   "execution_count": 2,
   "metadata": {},
   "outputs": [],
   "source": [
    "df = pd.read_csv('/Users/vlad/Downloads/spotify_dataset.csv', skiprows=1,\n",
    "                         names=['user_id', 'artistname', 'trackname', 'playlistname'],\n",
    "                         on_bad_lines='skip')"
   ]
  },
  {
   "cell_type": "code",
   "execution_count": 3,
   "metadata": {},
   "outputs": [],
   "source": [
    "df['artistname'].fillna('', inplace=True)\n",
    "df['trackname'].fillna('', inplace=True)\n",
    "\n",
    "df['song'] = df['artistname'] + '__' + df['trackname']"
   ]
  },
  {
   "cell_type": "code",
   "execution_count": null,
   "metadata": {},
   "outputs": [],
   "source": [
    "# songs = df=['song'].value_counts()"
   ]
  },
  {
   "cell_type": "code",
   "execution_count": 4,
   "metadata": {},
   "outputs": [],
   "source": [
    "with open('songs.json') as f:\n",
    "    top_songs = json.load(f)"
   ]
  },
  {
   "cell_type": "markdown",
   "metadata": {},
   "source": [
    "### most popular songs"
   ]
  },
  {
   "cell_type": "code",
   "execution_count": 6,
   "metadata": {},
   "outputs": [],
   "source": [
    "most_popular = set(top_songs[:9999])\n",
    "\n",
    "# df = df[df['song'].isin(most_popular)]"
   ]
  },
  {
   "cell_type": "code",
   "execution_count": 9,
   "metadata": {},
   "outputs": [],
   "source": [
    "train, test = train_test_split(df, test_size=0.15)"
   ]
  },
  {
   "cell_type": "code",
   "execution_count": 10,
   "metadata": {},
   "outputs": [
    {
     "name": "stderr",
     "output_type": "stream",
     "text": [
      "<ipython-input-10-f48e56fc3baa>:1: UserWarning: Boolean Series key will be reindexed to match DataFrame index.\n",
      "  train = train[df['song'].isin(most_popular)]\n"
     ]
    }
   ],
   "source": [
    "train = train[df['song'].isin(most_popular)]"
   ]
  },
  {
   "cell_type": "markdown",
   "metadata": {},
   "source": [
    "### Test dataset for quality evaluation"
   ]
  },
  {
   "cell_type": "code",
   "execution_count": 17,
   "metadata": {},
   "outputs": [],
   "source": [
    "test = test[test['user_id'].isin(set(train['user_id'].to_list()))]\n",
    "\n",
    "result = test.groupby('user_id')['song'].unique().reset_index()"
   ]
  },
  {
   "cell_type": "code",
   "execution_count": 91,
   "metadata": {},
   "outputs": [],
   "source": [
    "with open('test_index.json', 'w') as f:\n",
    "    json.dump(test.index.to_list(), f)"
   ]
  },
  {
   "cell_type": "code",
   "execution_count": 23,
   "metadata": {},
   "outputs": [
    {
     "data": {
      "text/html": [
       "<div>\n",
       "<style scoped>\n",
       "    .dataframe tbody tr th:only-of-type {\n",
       "        vertical-align: middle;\n",
       "    }\n",
       "\n",
       "    .dataframe tbody tr th {\n",
       "        vertical-align: top;\n",
       "    }\n",
       "\n",
       "    .dataframe thead th {\n",
       "        text-align: right;\n",
       "    }\n",
       "</style>\n",
       "<table border=\"1\" class=\"dataframe\">\n",
       "  <thead>\n",
       "    <tr style=\"text-align: right;\">\n",
       "      <th></th>\n",
       "      <th>user_id</th>\n",
       "      <th>song</th>\n",
       "    </tr>\n",
       "  </thead>\n",
       "  <tbody>\n",
       "    <tr>\n",
       "      <th>0</th>\n",
       "      <td>00055176fea33f6e027cd3302289378b</td>\n",
       "      <td>[5 Seconds Of Summer__Everything I Didn't Say,...</td>\n",
       "    </tr>\n",
       "    <tr>\n",
       "      <th>1</th>\n",
       "      <td>0007f3dd09c91198371454c608d47f22</td>\n",
       "      <td>[The Neighbourhood__Afraid, Daughter__Youth, S...</td>\n",
       "    </tr>\n",
       "    <tr>\n",
       "      <th>2</th>\n",
       "      <td>000b0f32b5739f052b9d40fcc5c41079</td>\n",
       "      <td>[Samuel Ljungblahd__Want To, Need To, Got to (...</td>\n",
       "    </tr>\n",
       "    <tr>\n",
       "      <th>3</th>\n",
       "      <td>000c11a16c89aa4b14b328080f5954ee</td>\n",
       "      <td>[Cat Stevens__Wild World, Jake Bugg__All Your ...</td>\n",
       "    </tr>\n",
       "    <tr>\n",
       "      <th>4</th>\n",
       "      <td>00123e0f544dee3ab006aa7f1e5725a7</td>\n",
       "      <td>[Barefoot Jerry__I'm Proud to be a Redneck, To...</td>\n",
       "    </tr>\n",
       "  </tbody>\n",
       "</table>\n",
       "</div>"
      ],
      "text/plain": [
       "                            user_id  \\\n",
       "0  00055176fea33f6e027cd3302289378b   \n",
       "1  0007f3dd09c91198371454c608d47f22   \n",
       "2  000b0f32b5739f052b9d40fcc5c41079   \n",
       "3  000c11a16c89aa4b14b328080f5954ee   \n",
       "4  00123e0f544dee3ab006aa7f1e5725a7   \n",
       "\n",
       "                                                song  \n",
       "0  [5 Seconds Of Summer__Everything I Didn't Say,...  \n",
       "1  [The Neighbourhood__Afraid, Daughter__Youth, S...  \n",
       "2  [Samuel Ljungblahd__Want To, Need To, Got to (...  \n",
       "3  [Cat Stevens__Wild World, Jake Bugg__All Your ...  \n",
       "4  [Barefoot Jerry__I'm Proud to be a Redneck, To...  "
      ]
     },
     "execution_count": 23,
     "metadata": {},
     "output_type": "execute_result"
    }
   ],
   "source": [
    "result.head()"
   ]
  },
  {
   "cell_type": "code",
   "execution_count": 92,
   "metadata": {},
   "outputs": [
    {
     "data": {
      "text/plain": [
       "(14560, 3)"
      ]
     },
     "execution_count": 92,
     "metadata": {},
     "output_type": "execute_result"
    }
   ],
   "source": [
    "result.shape"
   ]
  },
  {
   "cell_type": "markdown",
   "metadata": {},
   "source": [
    "### encode user_id"
   ]
  },
  {
   "cell_type": "code",
   "execution_count": 25,
   "metadata": {},
   "outputs": [],
   "source": [
    "train['dummy'] = 1"
   ]
  },
  {
   "cell_type": "code",
   "execution_count": 26,
   "metadata": {},
   "outputs": [],
   "source": [
    "user_item_matrix = pd.pivot_table(train, \n",
    "                                  index='user_id', columns='song', \n",
    "                                  values='dummy',\n",
    "                                  aggfunc='count', \n",
    "                                  fill_value=0)"
   ]
  },
  {
   "cell_type": "code",
   "execution_count": 27,
   "metadata": {},
   "outputs": [],
   "source": [
    "user_item_matrix = user_item_matrix.astype(float)"
   ]
  },
  {
   "cell_type": "code",
   "execution_count": 28,
   "metadata": {},
   "outputs": [],
   "source": [
    "sparse_matrix = csr_matrix(user_item_matrix).tocsr()"
   ]
  },
  {
   "cell_type": "code",
   "execution_count": 69,
   "metadata": {},
   "outputs": [
    {
     "data": {
      "text/plain": [
       "<14910x9999 sparse matrix of type '<class 'numpy.float64'>'\n",
       "\twith 1943751 stored elements in Compressed Sparse Row format>"
      ]
     },
     "execution_count": 69,
     "metadata": {},
     "output_type": "execute_result"
    }
   ],
   "source": [
    "sparse_matrix"
   ]
  },
  {
   "cell_type": "code",
   "execution_count": 29,
   "metadata": {},
   "outputs": [],
   "source": [
    "als = AlternatingLeastSquares(factors=100, \n",
    "                              regularization=0.001,\n",
    "                              iterations=15, \n",
    "                              calculate_training_loss=True, \n",
    "                              num_threads=4)"
   ]
  },
  {
   "cell_type": "code",
   "execution_count": 30,
   "metadata": {},
   "outputs": [],
   "source": [
    "userids = user_item_matrix.index.values\n",
    "itemids = user_item_matrix.columns.values"
   ]
  },
  {
   "cell_type": "code",
   "execution_count": 31,
   "metadata": {},
   "outputs": [],
   "source": [
    "userid_to_id = {user_id: idx for idx, user_id in enumerate(userids)}\n",
    "id_to_userid = {val: key for key, val in userid_to_id.items()}\n",
    "\n",
    "item_to_id = {item_id: idx for idx, item_id in enumerate(itemids)}\n",
    "id_to_item = {val: key for key, val in item_to_id.items()}"
   ]
  },
  {
   "cell_type": "code",
   "execution_count": 97,
   "metadata": {},
   "outputs": [],
   "source": [
    "for name, dict_ in zip(('userid_to_id', 'id_to_userid', 'item_to_id', 'id_to_item'), \n",
    "                       (userid_to_id, id_to_userid, item_to_id, id_to_item)):\n",
    "    with open(f'app/data/{name}.json', 'w') as f:\n",
    "        json.dump(dict_, f)"
   ]
  },
  {
   "cell_type": "code",
   "execution_count": 33,
   "metadata": {},
   "outputs": [
    {
     "data": {
      "application/vnd.jupyter.widget-view+json": {
       "model_id": "4438320c285643fbb19f66f09df8c805",
       "version_major": 2,
       "version_minor": 0
      },
      "text/plain": [
       "HBox(children=(HTML(value=''), FloatProgress(value=0.0, max=15.0), HTML(value='')))"
      ]
     },
     "metadata": {},
     "output_type": "display_data"
    },
    {
     "name": "stdout",
     "output_type": "stream",
     "text": [
      "\n"
     ]
    }
   ],
   "source": [
    "als.fit(sparse_matrix.T, show_progress=True)"
   ]
  },
  {
   "cell_type": "code",
   "execution_count": 47,
   "metadata": {},
   "outputs": [],
   "source": [
    "def get_recommendations(model, user_id, user_items_matrix=sparse_matrix, n=5, *args, **kwargs):\n",
    "    recs = model.recommend(userid=userid_to_id[user_id], \n",
    "                         user_items=user_items_matrix,   # на вход user-item matrix   \n",
    "                         N=n, # кол-во рекомендаций    \n",
    "                         filter_already_liked_items=False,   \n",
    "                         filter_items=None,   \n",
    "                         recalculate_user=True, \n",
    "                         **kwargs)\n",
    "    \n",
    "    return [id_to_item[rec[0]] for rec in recs]"
   ]
  },
  {
   "cell_type": "code",
   "execution_count": 48,
   "metadata": {},
   "outputs": [
    {
     "data": {
      "text/plain": [
       "['Ed Sheeran__Thinking Out Loud',\n",
       " \"Ed Sheeran__Don't\",\n",
       " 'Mark Ronson__Uptown Funk',\n",
       " 'Ed Sheeran__Sing',\n",
       " 'Meghan Trainor__All About That Bass']"
      ]
     },
     "execution_count": 48,
     "metadata": {},
     "output_type": "execute_result"
    }
   ],
   "source": [
    "get_recommendations(als, user_id='00055176fea33f6e027cd3302289378b')"
   ]
  },
  {
   "cell_type": "code",
   "execution_count": 52,
   "metadata": {},
   "outputs": [],
   "source": [
    "from typing import List\n",
    "\n",
    "\n",
    "def precision_at_k(recommended_list: List[str], true_list: List[str], k=5) -> float:\n",
    "    true_list = np.array(true_list)\n",
    "    recommended_list = np.array(recommended_list)\n",
    "    recommended_list = recommended_list[:k]\n",
    "    \n",
    "    flags = np.isin(true_list, recommended_list)\n",
    "    precision = flags.sum() / len(recommended_list)\n",
    "    \n",
    "    return precision"
   ]
  },
  {
   "cell_type": "code",
   "execution_count": 54,
   "metadata": {},
   "outputs": [],
   "source": [
    "result['recs'] = result['user_id'].apply(lambda x: get_recommendations(als, x))"
   ]
  },
  {
   "cell_type": "code",
   "execution_count": 58,
   "metadata": {},
   "outputs": [],
   "source": [
    "result.rename(columns={'song': 'actual'}, inplace=True)"
   ]
  },
  {
   "cell_type": "code",
   "execution_count": 59,
   "metadata": {},
   "outputs": [
    {
     "data": {
      "text/html": [
       "<div>\n",
       "<style scoped>\n",
       "    .dataframe tbody tr th:only-of-type {\n",
       "        vertical-align: middle;\n",
       "    }\n",
       "\n",
       "    .dataframe tbody tr th {\n",
       "        vertical-align: top;\n",
       "    }\n",
       "\n",
       "    .dataframe thead th {\n",
       "        text-align: right;\n",
       "    }\n",
       "</style>\n",
       "<table border=\"1\" class=\"dataframe\">\n",
       "  <thead>\n",
       "    <tr style=\"text-align: right;\">\n",
       "      <th></th>\n",
       "      <th>user_id</th>\n",
       "      <th>actual</th>\n",
       "      <th>recs</th>\n",
       "    </tr>\n",
       "  </thead>\n",
       "  <tbody>\n",
       "    <tr>\n",
       "      <th>0</th>\n",
       "      <td>00055176fea33f6e027cd3302289378b</td>\n",
       "      <td>[5 Seconds Of Summer__Everything I Didn't Say,...</td>\n",
       "      <td>[Ed Sheeran__Thinking Out Loud, Ed Sheeran__Do...</td>\n",
       "    </tr>\n",
       "    <tr>\n",
       "      <th>1</th>\n",
       "      <td>0007f3dd09c91198371454c608d47f22</td>\n",
       "      <td>[The Neighbourhood__Afraid, Daughter__Youth, S...</td>\n",
       "      <td>[Ed Sheeran__I See Fire, Ed Sheeran__Thinking ...</td>\n",
       "    </tr>\n",
       "    <tr>\n",
       "      <th>2</th>\n",
       "      <td>000b0f32b5739f052b9d40fcc5c41079</td>\n",
       "      <td>[Samuel Ljungblahd__Want To, Need To, Got to (...</td>\n",
       "      <td>[First Aid Kit__Emmylou, First Aid Kit__The Li...</td>\n",
       "    </tr>\n",
       "    <tr>\n",
       "      <th>3</th>\n",
       "      <td>000c11a16c89aa4b14b328080f5954ee</td>\n",
       "      <td>[Cat Stevens__Wild World, Jake Bugg__All Your ...</td>\n",
       "      <td>[Mark Ronson__Uptown Funk, Haim__The Wire, Hai...</td>\n",
       "    </tr>\n",
       "    <tr>\n",
       "      <th>4</th>\n",
       "      <td>00123e0f544dee3ab006aa7f1e5725a7</td>\n",
       "      <td>[Barefoot Jerry__I'm Proud to be a Redneck, To...</td>\n",
       "      <td>[Led Zeppelin__Ramble On, Imagine Dragons__Rad...</td>\n",
       "    </tr>\n",
       "  </tbody>\n",
       "</table>\n",
       "</div>"
      ],
      "text/plain": [
       "                            user_id  \\\n",
       "0  00055176fea33f6e027cd3302289378b   \n",
       "1  0007f3dd09c91198371454c608d47f22   \n",
       "2  000b0f32b5739f052b9d40fcc5c41079   \n",
       "3  000c11a16c89aa4b14b328080f5954ee   \n",
       "4  00123e0f544dee3ab006aa7f1e5725a7   \n",
       "\n",
       "                                              actual  \\\n",
       "0  [5 Seconds Of Summer__Everything I Didn't Say,...   \n",
       "1  [The Neighbourhood__Afraid, Daughter__Youth, S...   \n",
       "2  [Samuel Ljungblahd__Want To, Need To, Got to (...   \n",
       "3  [Cat Stevens__Wild World, Jake Bugg__All Your ...   \n",
       "4  [Barefoot Jerry__I'm Proud to be a Redneck, To...   \n",
       "\n",
       "                                                recs  \n",
       "0  [Ed Sheeran__Thinking Out Loud, Ed Sheeran__Do...  \n",
       "1  [Ed Sheeran__I See Fire, Ed Sheeran__Thinking ...  \n",
       "2  [First Aid Kit__Emmylou, First Aid Kit__The Li...  \n",
       "3  [Mark Ronson__Uptown Funk, Haim__The Wire, Hai...  \n",
       "4  [Led Zeppelin__Ramble On, Imagine Dragons__Rad...  "
      ]
     },
     "execution_count": 59,
     "metadata": {},
     "output_type": "execute_result"
    }
   ],
   "source": [
    "result.head()"
   ]
  },
  {
   "cell_type": "code",
   "execution_count": 63,
   "metadata": {},
   "outputs": [
    {
     "data": {
      "text/plain": [
       "0.09589285714285714"
      ]
     },
     "execution_count": 63,
     "metadata": {},
     "output_type": "execute_result"
    }
   ],
   "source": [
    "result.apply(lambda row: precision_at_k(row['recs'], row['actual']), axis=1).mean()"
   ]
  },
  {
   "cell_type": "code",
   "execution_count": 68,
   "metadata": {},
   "outputs": [],
   "source": [
    "save_npz('app/utils/sparse_matrix.npz', sparse_matrix)"
   ]
  },
  {
   "cell_type": "markdown",
   "metadata": {},
   "source": [
    "### Угадываем 0.5 из 5 рекомендованных песен, можно улучшать рекомендации:))"
   ]
  },
  {
   "cell_type": "code",
   "execution_count": 64,
   "metadata": {},
   "outputs": [],
   "source": [
    "with open('als_model.pkl', 'wb') as f:\n",
    "    pickle.dump(als, f)"
   ]
  },
  {
   "cell_type": "code",
   "execution_count": null,
   "metadata": {},
   "outputs": [],
   "source": []
  }
 ],
 "metadata": {
  "kernelspec": {
   "display_name": "Python 3",
   "language": "python",
   "name": "python3"
  },
  "language_info": {
   "codemirror_mode": {
    "name": "ipython",
    "version": 3
   },
   "file_extension": ".py",
   "mimetype": "text/x-python",
   "name": "python",
   "nbconvert_exporter": "python",
   "pygments_lexer": "ipython3",
   "version": "3.8.5"
  }
 },
 "nbformat": 4,
 "nbformat_minor": 4
}
