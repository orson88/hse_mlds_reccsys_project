{
 "cells": [
  {
   "cell_type": "code",
   "execution_count": 70,
   "id": "74edc850",
   "metadata": {},
   "outputs": [],
   "source": [
    "import pandas as pd\n",
    "import numpy as np\n",
    "from scipy.sparse import csr_matrix\n",
    "from sklearn.model_selection import train_test_split\n",
    "# from lightfm import LightFM\n",
    "from tqdm import tqdm\n",
    "# from lightfm.evaluation import precision_at_k\n",
    "# from sklearn.model_selection import LeavePOut\n",
    "from sklearn.model_selection import train_test_split\n",
    "from lightfm.data import Dataset\n",
    "from scipy.sparse import save_npz"
   ]
  },
  {
   "cell_type": "code",
   "execution_count": 21,
   "id": "9751d33f",
   "metadata": {},
   "outputs": [],
   "source": [
    "df = pd.read_csv('spotify_dataset.csv.zip', skiprows=1,\n",
    "                 usecols = [0, 1, 2],\n",
    "                 names=['user_id', 'artistname', 'trackname'],\n",
    "                 on_bad_lines='skip')"
   ]
  },
  {
   "cell_type": "code",
   "execution_count": 22,
   "id": "a01175bd",
   "metadata": {},
   "outputs": [],
   "source": [
    "df['artistname'].fillna('', inplace=True)\n",
    "df['trackname'].fillna('', inplace=True)\n",
    "\n",
    "df['song'] = df['artistname'] + '__' + df['trackname']"
   ]
  },
  {
   "cell_type": "code",
   "execution_count": 23,
   "id": "7aeefe4e",
   "metadata": {},
   "outputs": [],
   "source": [
    "df.drop(columns=['artistname', 'trackname'], inplace = True)"
   ]
  },
  {
   "cell_type": "code",
   "execution_count": 24,
   "id": "c0e3e289",
   "metadata": {},
   "outputs": [
    {
     "data": {
      "text/html": [
       "<div>\n",
       "<style scoped>\n",
       "    .dataframe tbody tr th:only-of-type {\n",
       "        vertical-align: middle;\n",
       "    }\n",
       "\n",
       "    .dataframe tbody tr th {\n",
       "        vertical-align: top;\n",
       "    }\n",
       "\n",
       "    .dataframe thead th {\n",
       "        text-align: right;\n",
       "    }\n",
       "</style>\n",
       "<table border=\"1\" class=\"dataframe\">\n",
       "  <thead>\n",
       "    <tr style=\"text-align: right;\">\n",
       "      <th></th>\n",
       "      <th>user_id</th>\n",
       "      <th>song</th>\n",
       "    </tr>\n",
       "  </thead>\n",
       "  <tbody>\n",
       "    <tr>\n",
       "      <th>0</th>\n",
       "      <td>9cc0cfd4d7d7885102480dd99e7a90d6</td>\n",
       "      <td>Elvis Costello__(The Angels Wanna Wear My) Red...</td>\n",
       "    </tr>\n",
       "    <tr>\n",
       "      <th>1</th>\n",
       "      <td>9cc0cfd4d7d7885102480dd99e7a90d6</td>\n",
       "      <td>Elvis Costello &amp; The Attractions__(What's So F...</td>\n",
       "    </tr>\n",
       "    <tr>\n",
       "      <th>2</th>\n",
       "      <td>9cc0cfd4d7d7885102480dd99e7a90d6</td>\n",
       "      <td>Tiffany Page__7 Years Too Late</td>\n",
       "    </tr>\n",
       "    <tr>\n",
       "      <th>3</th>\n",
       "      <td>9cc0cfd4d7d7885102480dd99e7a90d6</td>\n",
       "      <td>Elvis Costello &amp; The Attractions__Accidents Wi...</td>\n",
       "    </tr>\n",
       "    <tr>\n",
       "      <th>4</th>\n",
       "      <td>9cc0cfd4d7d7885102480dd99e7a90d6</td>\n",
       "      <td>Elvis Costello__Alison</td>\n",
       "    </tr>\n",
       "    <tr>\n",
       "      <th>...</th>\n",
       "      <td>...</td>\n",
       "      <td>...</td>\n",
       "    </tr>\n",
       "    <tr>\n",
       "      <th>12901974</th>\n",
       "      <td>2302bf9c64dc63d88a750215ed187f2c</td>\n",
       "      <td>Mötley Crüe__Wild Side</td>\n",
       "    </tr>\n",
       "    <tr>\n",
       "      <th>12901975</th>\n",
       "      <td>2302bf9c64dc63d88a750215ed187f2c</td>\n",
       "      <td>John Lennon__Woman</td>\n",
       "    </tr>\n",
       "    <tr>\n",
       "      <th>12901976</th>\n",
       "      <td>2302bf9c64dc63d88a750215ed187f2c</td>\n",
       "      <td>Tom Petty__You Don't Know How It Feels</td>\n",
       "    </tr>\n",
       "    <tr>\n",
       "      <th>12901977</th>\n",
       "      <td>2302bf9c64dc63d88a750215ed187f2c</td>\n",
       "      <td>Tom Petty__You Wreck Me</td>\n",
       "    </tr>\n",
       "    <tr>\n",
       "      <th>12901978</th>\n",
       "      <td>2302bf9c64dc63d88a750215ed187f2c</td>\n",
       "      <td>Skid Row__Youth Gone Wild</td>\n",
       "    </tr>\n",
       "  </tbody>\n",
       "</table>\n",
       "<p>12901979 rows × 2 columns</p>\n",
       "</div>"
      ],
      "text/plain": [
       "                                   user_id  \\\n",
       "0         9cc0cfd4d7d7885102480dd99e7a90d6   \n",
       "1         9cc0cfd4d7d7885102480dd99e7a90d6   \n",
       "2         9cc0cfd4d7d7885102480dd99e7a90d6   \n",
       "3         9cc0cfd4d7d7885102480dd99e7a90d6   \n",
       "4         9cc0cfd4d7d7885102480dd99e7a90d6   \n",
       "...                                    ...   \n",
       "12901974  2302bf9c64dc63d88a750215ed187f2c   \n",
       "12901975  2302bf9c64dc63d88a750215ed187f2c   \n",
       "12901976  2302bf9c64dc63d88a750215ed187f2c   \n",
       "12901977  2302bf9c64dc63d88a750215ed187f2c   \n",
       "12901978  2302bf9c64dc63d88a750215ed187f2c   \n",
       "\n",
       "                                                       song  \n",
       "0         Elvis Costello__(The Angels Wanna Wear My) Red...  \n",
       "1         Elvis Costello & The Attractions__(What's So F...  \n",
       "2                            Tiffany Page__7 Years Too Late  \n",
       "3         Elvis Costello & The Attractions__Accidents Wi...  \n",
       "4                                    Elvis Costello__Alison  \n",
       "...                                                     ...  \n",
       "12901974                             Mötley Crüe__Wild Side  \n",
       "12901975                                 John Lennon__Woman  \n",
       "12901976             Tom Petty__You Don't Know How It Feels  \n",
       "12901977                            Tom Petty__You Wreck Me  \n",
       "12901978                          Skid Row__Youth Gone Wild  \n",
       "\n",
       "[12901979 rows x 2 columns]"
      ]
     },
     "execution_count": 24,
     "metadata": {},
     "output_type": "execute_result"
    }
   ],
   "source": [
    "df"
   ]
  },
  {
   "cell_type": "code",
   "execution_count": 25,
   "id": "e063b780",
   "metadata": {},
   "outputs": [],
   "source": [
    "songs = df['song'].value_counts()"
   ]
  },
  {
   "cell_type": "code",
   "execution_count": 26,
   "id": "96eb6b55",
   "metadata": {},
   "outputs": [],
   "source": [
    "# df[df['songs'] == songs.index[:9999]]"
   ]
  },
  {
   "cell_type": "code",
   "execution_count": 27,
   "id": "8e8871e4",
   "metadata": {},
   "outputs": [],
   "source": [
    "most_popular = set(songs[:10000].index)"
   ]
  },
  {
   "cell_type": "code",
   "execution_count": 28,
   "id": "8f8221ec",
   "metadata": {},
   "outputs": [],
   "source": [
    "df = df[df['song'].isin(most_popular)]"
   ]
  },
  {
   "cell_type": "code",
   "execution_count": 29,
   "id": "a7eb48dd",
   "metadata": {},
   "outputs": [
    {
     "data": {
      "text/html": [
       "<div>\n",
       "<style scoped>\n",
       "    .dataframe tbody tr th:only-of-type {\n",
       "        vertical-align: middle;\n",
       "    }\n",
       "\n",
       "    .dataframe tbody tr th {\n",
       "        vertical-align: top;\n",
       "    }\n",
       "\n",
       "    .dataframe thead th {\n",
       "        text-align: right;\n",
       "    }\n",
       "</style>\n",
       "<table border=\"1\" class=\"dataframe\">\n",
       "  <thead>\n",
       "    <tr style=\"text-align: right;\">\n",
       "      <th></th>\n",
       "      <th>user_id</th>\n",
       "      <th>song</th>\n",
       "    </tr>\n",
       "  </thead>\n",
       "  <tbody>\n",
       "    <tr>\n",
       "      <th>4</th>\n",
       "      <td>9cc0cfd4d7d7885102480dd99e7a90d6</td>\n",
       "      <td>Elvis Costello__Alison</td>\n",
       "    </tr>\n",
       "    <tr>\n",
       "      <th>13</th>\n",
       "      <td>9cc0cfd4d7d7885102480dd99e7a90d6</td>\n",
       "      <td>Crowded House__Don't Dream It's Over</td>\n",
       "    </tr>\n",
       "    <tr>\n",
       "      <th>15</th>\n",
       "      <td>9cc0cfd4d7d7885102480dd99e7a90d6</td>\n",
       "      <td>Crowded House__Fall At Your Feet</td>\n",
       "    </tr>\n",
       "    <tr>\n",
       "      <th>25</th>\n",
       "      <td>9cc0cfd4d7d7885102480dd99e7a90d6</td>\n",
       "      <td>Joshua Radin__I'd Rather Be With You [Radio Edit]</td>\n",
       "    </tr>\n",
       "    <tr>\n",
       "      <th>33</th>\n",
       "      <td>9cc0cfd4d7d7885102480dd99e7a90d6</td>\n",
       "      <td>Paul McCartney__Live And Let Die</td>\n",
       "    </tr>\n",
       "    <tr>\n",
       "      <th>...</th>\n",
       "      <td>...</td>\n",
       "      <td>...</td>\n",
       "    </tr>\n",
       "    <tr>\n",
       "      <th>12901972</th>\n",
       "      <td>2302bf9c64dc63d88a750215ed187f2c</td>\n",
       "      <td>U2__When Love Comes To Town</td>\n",
       "    </tr>\n",
       "    <tr>\n",
       "      <th>12901973</th>\n",
       "      <td>2302bf9c64dc63d88a750215ed187f2c</td>\n",
       "      <td>Stone Temple Pilots__Wicked Garden</td>\n",
       "    </tr>\n",
       "    <tr>\n",
       "      <th>12901974</th>\n",
       "      <td>2302bf9c64dc63d88a750215ed187f2c</td>\n",
       "      <td>Mötley Crüe__Wild Side</td>\n",
       "    </tr>\n",
       "    <tr>\n",
       "      <th>12901976</th>\n",
       "      <td>2302bf9c64dc63d88a750215ed187f2c</td>\n",
       "      <td>Tom Petty__You Don't Know How It Feels</td>\n",
       "    </tr>\n",
       "    <tr>\n",
       "      <th>12901978</th>\n",
       "      <td>2302bf9c64dc63d88a750215ed187f2c</td>\n",
       "      <td>Skid Row__Youth Gone Wild</td>\n",
       "    </tr>\n",
       "  </tbody>\n",
       "</table>\n",
       "<p>2670918 rows × 2 columns</p>\n",
       "</div>"
      ],
      "text/plain": [
       "                                   user_id  \\\n",
       "4         9cc0cfd4d7d7885102480dd99e7a90d6   \n",
       "13        9cc0cfd4d7d7885102480dd99e7a90d6   \n",
       "15        9cc0cfd4d7d7885102480dd99e7a90d6   \n",
       "25        9cc0cfd4d7d7885102480dd99e7a90d6   \n",
       "33        9cc0cfd4d7d7885102480dd99e7a90d6   \n",
       "...                                    ...   \n",
       "12901972  2302bf9c64dc63d88a750215ed187f2c   \n",
       "12901973  2302bf9c64dc63d88a750215ed187f2c   \n",
       "12901974  2302bf9c64dc63d88a750215ed187f2c   \n",
       "12901976  2302bf9c64dc63d88a750215ed187f2c   \n",
       "12901978  2302bf9c64dc63d88a750215ed187f2c   \n",
       "\n",
       "                                                       song  \n",
       "4                                    Elvis Costello__Alison  \n",
       "13                     Crowded House__Don't Dream It's Over  \n",
       "15                         Crowded House__Fall At Your Feet  \n",
       "25        Joshua Radin__I'd Rather Be With You [Radio Edit]  \n",
       "33                         Paul McCartney__Live And Let Die  \n",
       "...                                                     ...  \n",
       "12901972                        U2__When Love Comes To Town  \n",
       "12901973                 Stone Temple Pilots__Wicked Garden  \n",
       "12901974                             Mötley Crüe__Wild Side  \n",
       "12901976             Tom Petty__You Don't Know How It Feels  \n",
       "12901978                          Skid Row__Youth Gone Wild  \n",
       "\n",
       "[2670918 rows x 2 columns]"
      ]
     },
     "execution_count": 29,
     "metadata": {},
     "output_type": "execute_result"
    }
   ],
   "source": [
    "df"
   ]
  },
  {
   "cell_type": "code",
   "execution_count": 52,
   "id": "8d4f0d26",
   "metadata": {},
   "outputs": [
    {
     "data": {
      "text/plain": [
       "14985"
      ]
     },
     "execution_count": 52,
     "metadata": {},
     "output_type": "execute_result"
    }
   ],
   "source": [
    "len(set(df['user_id']))"
   ]
  },
  {
   "cell_type": "code",
   "execution_count": 36,
   "id": "5d5419c9",
   "metadata": {},
   "outputs": [],
   "source": [
    "train, test = train_test_split(df, test_size=0.15)"
   ]
  },
  {
   "cell_type": "code",
   "execution_count": 44,
   "id": "b88ed1db",
   "metadata": {},
   "outputs": [
    {
     "data": {
      "text/plain": [
       "1288"
      ]
     },
     "execution_count": 44,
     "metadata": {},
     "output_type": "execute_result"
    }
   ],
   "source": [
    "len(set(train['user_id'].unique())-set(test['user_id'].unique()))"
   ]
  },
  {
   "cell_type": "code",
   "execution_count": 50,
   "id": "0461df97",
   "metadata": {},
   "outputs": [
    {
     "data": {
      "text/plain": [
       "13619"
      ]
     },
     "execution_count": 50,
     "metadata": {},
     "output_type": "execute_result"
    }
   ],
   "source": [
    "len(set(test['user_id'])&set(train['user_id']))"
   ]
  },
  {
   "cell_type": "code",
   "execution_count": 57,
   "id": "16139e85",
   "metadata": {},
   "outputs": [
    {
     "data": {
      "text/html": [
       "<div>\n",
       "<style scoped>\n",
       "    .dataframe tbody tr th:only-of-type {\n",
       "        vertical-align: middle;\n",
       "    }\n",
       "\n",
       "    .dataframe tbody tr th {\n",
       "        vertical-align: top;\n",
       "    }\n",
       "\n",
       "    .dataframe thead th {\n",
       "        text-align: right;\n",
       "    }\n",
       "</style>\n",
       "<table border=\"1\" class=\"dataframe\">\n",
       "  <thead>\n",
       "    <tr style=\"text-align: right;\">\n",
       "      <th></th>\n",
       "      <th>user_id</th>\n",
       "      <th>song</th>\n",
       "    </tr>\n",
       "  </thead>\n",
       "  <tbody>\n",
       "    <tr>\n",
       "      <th>7861575</th>\n",
       "      <td>bdafbf940f0e1f283feab1e39d1199af</td>\n",
       "      <td>Coldplay__Christmas Lights</td>\n",
       "    </tr>\n",
       "    <tr>\n",
       "      <th>6382075</th>\n",
       "      <td>05cd5a5d37f5c53c277e471177fce94f</td>\n",
       "      <td>MGMT__Electric Feel</td>\n",
       "    </tr>\n",
       "    <tr>\n",
       "      <th>12187177</th>\n",
       "      <td>2be3f4ae729911f567f8409bd4158499</td>\n",
       "      <td>Sara Bareilles__Love Song</td>\n",
       "    </tr>\n",
       "    <tr>\n",
       "      <th>6715534</th>\n",
       "      <td>b4eb611886dbb3272b07b449a681b6c9</td>\n",
       "      <td>Beck__Loser</td>\n",
       "    </tr>\n",
       "    <tr>\n",
       "      <th>3934572</th>\n",
       "      <td>f853ce21c490a78a5ac6fd60d431b88e</td>\n",
       "      <td>Supertramp__The Logical Song - 2010 Remastered</td>\n",
       "    </tr>\n",
       "    <tr>\n",
       "      <th>...</th>\n",
       "      <td>...</td>\n",
       "      <td>...</td>\n",
       "    </tr>\n",
       "    <tr>\n",
       "      <th>11278664</th>\n",
       "      <td>8eae7b06f7ea4c19b82ba1b82fe6d130</td>\n",
       "      <td>The Black Keys__These Days</td>\n",
       "    </tr>\n",
       "    <tr>\n",
       "      <th>8796487</th>\n",
       "      <td>e7e5985a7a6d9d8404614fa4fdfe2418</td>\n",
       "      <td>Drake__Marvins Room</td>\n",
       "    </tr>\n",
       "    <tr>\n",
       "      <th>8756857</th>\n",
       "      <td>729872f82d51739a9c898f113787ce52</td>\n",
       "      <td>The 1975__Girls</td>\n",
       "    </tr>\n",
       "    <tr>\n",
       "      <th>11261024</th>\n",
       "      <td>ff07dd0a6facfba39bca491ec9dd5068</td>\n",
       "      <td>Sex Pistols__God Save The Queen</td>\n",
       "    </tr>\n",
       "    <tr>\n",
       "      <th>5480913</th>\n",
       "      <td>359ef6e1634604d1123b37b0260fc5c2</td>\n",
       "      <td>Destiny's Child__Bootylicious</td>\n",
       "    </tr>\n",
       "  </tbody>\n",
       "</table>\n",
       "<p>400555 rows × 2 columns</p>\n",
       "</div>"
      ],
      "text/plain": [
       "                                   user_id  \\\n",
       "7861575   bdafbf940f0e1f283feab1e39d1199af   \n",
       "6382075   05cd5a5d37f5c53c277e471177fce94f   \n",
       "12187177  2be3f4ae729911f567f8409bd4158499   \n",
       "6715534   b4eb611886dbb3272b07b449a681b6c9   \n",
       "3934572   f853ce21c490a78a5ac6fd60d431b88e   \n",
       "...                                    ...   \n",
       "11278664  8eae7b06f7ea4c19b82ba1b82fe6d130   \n",
       "8796487   e7e5985a7a6d9d8404614fa4fdfe2418   \n",
       "8756857   729872f82d51739a9c898f113787ce52   \n",
       "11261024  ff07dd0a6facfba39bca491ec9dd5068   \n",
       "5480913   359ef6e1634604d1123b37b0260fc5c2   \n",
       "\n",
       "                                                    song  \n",
       "7861575                       Coldplay__Christmas Lights  \n",
       "6382075                              MGMT__Electric Feel  \n",
       "12187177                       Sara Bareilles__Love Song  \n",
       "6715534                                      Beck__Loser  \n",
       "3934572   Supertramp__The Logical Song - 2010 Remastered  \n",
       "...                                                  ...  \n",
       "11278664                      The Black Keys__These Days  \n",
       "8796487                              Drake__Marvins Room  \n",
       "8756857                                  The 1975__Girls  \n",
       "11261024                 Sex Pistols__God Save The Queen  \n",
       "5480913                    Destiny's Child__Bootylicious  \n",
       "\n",
       "[400555 rows x 2 columns]"
      ]
     },
     "execution_count": 57,
     "metadata": {},
     "output_type": "execute_result"
    }
   ],
   "source": [
    "test[test['user_id'].isin(set(train['user_id']))]"
   ]
  },
  {
   "cell_type": "code",
   "execution_count": 59,
   "id": "58928897",
   "metadata": {},
   "outputs": [],
   "source": [
    "test = test[test['user_id'].isin(set(train['user_id']))]"
   ]
  },
  {
   "cell_type": "code",
   "execution_count": 60,
   "id": "46690b39",
   "metadata": {},
   "outputs": [],
   "source": [
    "train.to_csv(\"train.csv\", index = False)\n",
    "test.to_csv(\"test.csv\", index = False)"
   ]
  },
  {
   "cell_type": "code",
   "execution_count": null,
   "id": "ee20d24e",
   "metadata": {},
   "outputs": [],
   "source": []
  },
  {
   "cell_type": "code",
   "execution_count": 63,
   "id": "56dd39b8",
   "metadata": {},
   "outputs": [],
   "source": [
    "train_dataset = Dataset()\n",
    "train_dataset.fit(train['user_id'],\n",
    "                  train['song'])\n",
    "\n",
    "\n",
    "test_dataset = Dataset()\n",
    "test_dataset.fit(test['user_id'],\n",
    "                 test['song'])"
   ]
  },
  {
   "cell_type": "code",
   "execution_count": 64,
   "id": "04e2bc3c",
   "metadata": {},
   "outputs": [
    {
     "name": "stdout",
     "output_type": "stream",
     "text": [
      "Num train users: 14907, num_train_items 10000.\n",
      "Num test users: 13619, num_test_items 10000.\n"
     ]
    }
   ],
   "source": [
    "num_users, num_items = train_dataset.interactions_shape()\n",
    "print('Num train users: {}, num_train_items {}.'.format(num_users, num_items))\n",
    "\n",
    "num_users, num_items = test_dataset.interactions_shape()\n",
    "print('Num test users: {}, num_test_items {}.'.format(num_users, num_items))"
   ]
  },
  {
   "cell_type": "code",
   "execution_count": 65,
   "id": "816efe3f",
   "metadata": {},
   "outputs": [],
   "source": [
    "def df_to_tuple_iterator(df):\n",
    "    return zip(*df.values.T)"
   ]
  },
  {
   "cell_type": "code",
   "execution_count": 67,
   "id": "9b45db06",
   "metadata": {},
   "outputs": [
    {
     "data": {
      "text/plain": [
       "<14907x10000 sparse matrix of type '<class 'numpy.int32'>'\n",
       "\twith 2270280 stored elements in COOrdinate format>"
      ]
     },
     "execution_count": 67,
     "metadata": {},
     "output_type": "execute_result"
    }
   ],
   "source": [
    "train_mat, train_mat_weights = train_dataset.build_interactions(df_to_tuple_iterator(train[['user_id',\n",
    "                                                                                            'song']]))\n",
    "train_mat"
   ]
  },
  {
   "cell_type": "code",
   "execution_count": 68,
   "id": "a9f74917",
   "metadata": {},
   "outputs": [
    {
     "data": {
      "text/plain": [
       "<13619x10000 sparse matrix of type '<class 'numpy.int32'>'\n",
       "\twith 400555 stored elements in COOrdinate format>"
      ]
     },
     "execution_count": 68,
     "metadata": {},
     "output_type": "execute_result"
    }
   ],
   "source": [
    "test_mat, test_mat_weights = test_dataset.build_interactions(df_to_tuple_iterator(test[['user_id',\n",
    "                                                                                        'song']]))\n",
    "test_mat"
   ]
  },
  {
   "cell_type": "code",
   "execution_count": 71,
   "id": "95734959",
   "metadata": {},
   "outputs": [],
   "source": [
    "save_npz('train_sparse.npz', train_mat)\n",
    "save_npz('test_sparse.npz', test_mat)"
   ]
  },
  {
   "cell_type": "code",
   "execution_count": null,
   "id": "fd9d5d61",
   "metadata": {},
   "outputs": [],
   "source": []
  },
  {
   "cell_type": "code",
   "execution_count": null,
   "id": "0b2024cf",
   "metadata": {},
   "outputs": [],
   "source": []
  },
  {
   "cell_type": "code",
   "execution_count": null,
   "id": "118687f9",
   "metadata": {},
   "outputs": [],
   "source": []
  },
  {
   "cell_type": "code",
   "execution_count": null,
   "id": "df713ff5",
   "metadata": {},
   "outputs": [],
   "source": []
  }
 ],
 "metadata": {
  "kernelspec": {
   "display_name": "Python 3 (ipykernel)",
   "language": "python",
   "name": "python3"
  },
  "language_info": {
   "codemirror_mode": {
    "name": "ipython",
    "version": 3
   },
   "file_extension": ".py",
   "mimetype": "text/x-python",
   "name": "python",
   "nbconvert_exporter": "python",
   "pygments_lexer": "ipython3",
   "version": "3.9.7"
  }
 },
 "nbformat": 4,
 "nbformat_minor": 5
}
