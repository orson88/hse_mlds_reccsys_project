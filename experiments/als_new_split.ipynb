{
 "cells": [
  {
   "cell_type": "code",
   "execution_count": 52,
   "metadata": {},
   "outputs": [],
   "source": [
    "import sys\n",
    "import pickle\n",
    "import pandas as pd\n",
    "sys.path.append('../utils')\n",
    "\n",
    "from baseline import Baseline\n",
    "from get_test import get_test\n",
    "from baseline import Baseline\n",
    "from metrics import precision_at_k\n",
    "from scipy.sparse import load_npz, save_npz\n",
    "from scipy.sparse import csr_matrix\n",
    "from implicit.als import AlternatingLeastSquares"
   ]
  },
  {
   "cell_type": "code",
   "execution_count": 2,
   "metadata": {},
   "outputs": [],
   "source": [
    "test = pd.read_csv('../data/test.csv', sep=',')\n",
    "result = test.groupby('user_id')['song'].unique().reset_index().rename(columns={'song': 'actual'})"
   ]
  },
  {
   "cell_type": "code",
   "execution_count": 4,
   "metadata": {},
   "outputs": [],
   "source": [
    "user_item_matrix_ = load_npz('../data/train_sparse.npz')\n",
    "user_item_matrix_ = user_item_matrix_.astype('float')"
   ]
  },
  {
   "cell_type": "code",
   "execution_count": 5,
   "metadata": {
    "scrolled": true
   },
   "outputs": [
    {
     "data": {
      "text/plain": [
       "<14907x10000 sparse matrix of type '<class 'numpy.float64'>'\n",
       "\twith 1943605 stored elements in COOrdinate format>"
      ]
     },
     "execution_count": 5,
     "metadata": {},
     "output_type": "execute_result"
    }
   ],
   "source": [
    "user_item_matrix_"
   ]
  },
  {
   "cell_type": "code",
   "execution_count": 6,
   "metadata": {},
   "outputs": [],
   "source": [
    "train = pd.read_csv('~/Downloads/train.csv')"
   ]
  },
  {
   "cell_type": "code",
   "execution_count": 8,
   "metadata": {},
   "outputs": [],
   "source": [
    "train['dummy'] = 1\n",
    "\n",
    "user_item_matrix = pd.pivot_table(train, \n",
    "                                  index='user_id', columns='song', \n",
    "                                  values='dummy',\n",
    "                                  aggfunc='count', \n",
    "                                  fill_value=0)\n",
    "\n",
    "user_item_matrix = user_item_matrix.astype('float')"
   ]
  },
  {
   "cell_type": "code",
   "execution_count": 21,
   "metadata": {},
   "outputs": [],
   "source": []
  },
  {
   "cell_type": "code",
   "execution_count": 9,
   "metadata": {},
   "outputs": [],
   "source": [
    "sparse_matrix = csr_matrix(user_item_matrix).tocsr()"
   ]
  },
  {
   "cell_type": "code",
   "execution_count": 10,
   "metadata": {},
   "outputs": [
    {
     "data": {
      "text/plain": [
       "<14907x10000 sparse matrix of type '<class 'numpy.longlong'>'\n",
       "\twith 1943605 stored elements in Compressed Sparse Row format>"
      ]
     },
     "execution_count": 10,
     "metadata": {},
     "output_type": "execute_result"
    }
   ],
   "source": [
    "sparse_matrix"
   ]
  },
  {
   "cell_type": "code",
   "execution_count": 11,
   "metadata": {},
   "outputs": [],
   "source": [
    "userids = user_item_matrix.index.values\n",
    "itemids = user_item_matrix.columns.values"
   ]
  },
  {
   "cell_type": "code",
   "execution_count": 12,
   "metadata": {},
   "outputs": [],
   "source": [
    "userid_to_id = {user_id: idx for idx, user_id in enumerate(userids)}\n",
    "id_to_userid = {val: key for key, val in userid_to_id.items()}\n",
    "\n",
    "item_to_id = {item_id: idx for idx, item_id in enumerate(itemids)}\n",
    "id_to_item = {val: key for key, val in item_to_id.items()}"
   ]
  },
  {
   "cell_type": "code",
   "execution_count": 38,
   "metadata": {},
   "outputs": [],
   "source": [
    "def get_recommendations(model, user_id, user_items_matrix=sparse_matrix, n=5, *args, **kwargs):\n",
    "    recs = model.recommend(userid=userid_to_id[user_id], \n",
    "                         user_items=user_items_matrix,   # на вход user-item matrix   \n",
    "                         N=n, # кол-во рекомендаций    \n",
    "                         filter_already_liked_items=False,   \n",
    "                         filter_items=None,   \n",
    "                         recalculate_user=True, \n",
    "                         **kwargs)\n",
    "    \n",
    "    return [id_to_item[rec[0]] for rec in recs]"
   ]
  },
  {
   "cell_type": "code",
   "execution_count": 15,
   "metadata": {},
   "outputs": [],
   "source": [
    "als_100 = AlternatingLeastSquares(factors=100, \n",
    "                              regularization=0.001,\n",
    "                              iterations=15, \n",
    "                              calculate_training_loss=True, \n",
    "                              num_threads=4)"
   ]
  },
  {
   "cell_type": "code",
   "execution_count": 37,
   "metadata": {},
   "outputs": [
    {
     "data": {
      "application/vnd.jupyter.widget-view+json": {
       "model_id": "c39dd51320494c62bd5e8fba195901e2",
       "version_major": 2,
       "version_minor": 0
      },
      "text/plain": [
       "HBox(children=(HTML(value=''), FloatProgress(value=0.0, max=15.0), HTML(value='')))"
      ]
     },
     "metadata": {},
     "output_type": "display_data"
    },
    {
     "name": "stdout",
     "output_type": "stream",
     "text": [
      "\n"
     ]
    }
   ],
   "source": [
    "als_100.fit(sparse_matrix.T, show_progress=True)"
   ]
  },
  {
   "cell_type": "code",
   "execution_count": 29,
   "metadata": {},
   "outputs": [
    {
     "data": {
      "text/html": [
       "<div>\n",
       "<style scoped>\n",
       "    .dataframe tbody tr th:only-of-type {\n",
       "        vertical-align: middle;\n",
       "    }\n",
       "\n",
       "    .dataframe tbody tr th {\n",
       "        vertical-align: top;\n",
       "    }\n",
       "\n",
       "    .dataframe thead th {\n",
       "        text-align: right;\n",
       "    }\n",
       "</style>\n",
       "<table border=\"1\" class=\"dataframe\">\n",
       "  <thead>\n",
       "    <tr style=\"text-align: right;\">\n",
       "      <th></th>\n",
       "      <th>user_id</th>\n",
       "      <th>actual</th>\n",
       "    </tr>\n",
       "  </thead>\n",
       "  <tbody>\n",
       "    <tr>\n",
       "      <th>0</th>\n",
       "      <td>00055176fea33f6e027cd3302289378b</td>\n",
       "      <td>[Imagine Dragons__I Bet My Life, Meghan Traino...</td>\n",
       "    </tr>\n",
       "    <tr>\n",
       "      <th>1</th>\n",
       "      <td>0007f3dd09c91198371454c608d47f22</td>\n",
       "      <td>[Lana Del Rey__Black Beauty, Evanescence__My I...</td>\n",
       "    </tr>\n",
       "    <tr>\n",
       "      <th>2</th>\n",
       "      <td>000b0f32b5739f052b9d40fcc5c41079</td>\n",
       "      <td>[Veronica Maggio__Hela huset, First Aid Kit__S...</td>\n",
       "    </tr>\n",
       "    <tr>\n",
       "      <th>3</th>\n",
       "      <td>000c11a16c89aa4b14b328080f5954ee</td>\n",
       "      <td>[Bastille__Pompeii, Pharrell Williams__Know Wh...</td>\n",
       "    </tr>\n",
       "    <tr>\n",
       "      <th>4</th>\n",
       "      <td>00123e0f544dee3ab006aa7f1e5725a7</td>\n",
       "      <td>[Creedence Clearwater Revival__Long As I Can S...</td>\n",
       "    </tr>\n",
       "    <tr>\n",
       "      <th>...</th>\n",
       "      <td>...</td>\n",
       "      <td>...</td>\n",
       "    </tr>\n",
       "    <tr>\n",
       "      <th>13614</th>\n",
       "      <td>ffe32d5412269f3041c58cbf0dde3306</td>\n",
       "      <td>[Diana Ross__I'm Coming Out, Aretha Franklin__...</td>\n",
       "    </tr>\n",
       "    <tr>\n",
       "      <th>13615</th>\n",
       "      <td>ffec270eae226caa14ddaef291d73fff</td>\n",
       "      <td>[Walk the Moon__Shut Up and Dance]</td>\n",
       "    </tr>\n",
       "    <tr>\n",
       "      <th>13616</th>\n",
       "      <td>fff60baf392613ed33f745b89a9b38f7</td>\n",
       "      <td>[Shaggy__Boombastic, Interpol__Everything Is W...</td>\n",
       "    </tr>\n",
       "    <tr>\n",
       "      <th>13617</th>\n",
       "      <td>fff616055993498d6127f3f467cf9f2b</td>\n",
       "      <td>[Matt and Kim__Let's Go, CAZZETTE__Sleepless -...</td>\n",
       "    </tr>\n",
       "    <tr>\n",
       "      <th>13618</th>\n",
       "      <td>fff77dadf8528083c920b9c018847e8b</td>\n",
       "      <td>[The Naked And Famous__All Of This, Mariah Car...</td>\n",
       "    </tr>\n",
       "  </tbody>\n",
       "</table>\n",
       "<p>13619 rows × 2 columns</p>\n",
       "</div>"
      ],
      "text/plain": [
       "                                user_id  \\\n",
       "0      00055176fea33f6e027cd3302289378b   \n",
       "1      0007f3dd09c91198371454c608d47f22   \n",
       "2      000b0f32b5739f052b9d40fcc5c41079   \n",
       "3      000c11a16c89aa4b14b328080f5954ee   \n",
       "4      00123e0f544dee3ab006aa7f1e5725a7   \n",
       "...                                 ...   \n",
       "13614  ffe32d5412269f3041c58cbf0dde3306   \n",
       "13615  ffec270eae226caa14ddaef291d73fff   \n",
       "13616  fff60baf392613ed33f745b89a9b38f7   \n",
       "13617  fff616055993498d6127f3f467cf9f2b   \n",
       "13618  fff77dadf8528083c920b9c018847e8b   \n",
       "\n",
       "                                                  actual  \n",
       "0      [Imagine Dragons__I Bet My Life, Meghan Traino...  \n",
       "1      [Lana Del Rey__Black Beauty, Evanescence__My I...  \n",
       "2      [Veronica Maggio__Hela huset, First Aid Kit__S...  \n",
       "3      [Bastille__Pompeii, Pharrell Williams__Know Wh...  \n",
       "4      [Creedence Clearwater Revival__Long As I Can S...  \n",
       "...                                                  ...  \n",
       "13614  [Diana Ross__I'm Coming Out, Aretha Franklin__...  \n",
       "13615                 [Walk the Moon__Shut Up and Dance]  \n",
       "13616  [Shaggy__Boombastic, Interpol__Everything Is W...  \n",
       "13617  [Matt and Kim__Let's Go, CAZZETTE__Sleepless -...  \n",
       "13618  [The Naked And Famous__All Of This, Mariah Car...  \n",
       "\n",
       "[13619 rows x 2 columns]"
      ]
     },
     "execution_count": 29,
     "metadata": {},
     "output_type": "execute_result"
    }
   ],
   "source": [
    "result"
   ]
  },
  {
   "cell_type": "code",
   "execution_count": 39,
   "metadata": {},
   "outputs": [],
   "source": [
    "result['als_100'] = result['user_id'].apply(lambda x: get_recommendations(als_100, x))"
   ]
  },
  {
   "cell_type": "code",
   "execution_count": 40,
   "metadata": {},
   "outputs": [
    {
     "data": {
      "text/html": [
       "<div>\n",
       "<style scoped>\n",
       "    .dataframe tbody tr th:only-of-type {\n",
       "        vertical-align: middle;\n",
       "    }\n",
       "\n",
       "    .dataframe tbody tr th {\n",
       "        vertical-align: top;\n",
       "    }\n",
       "\n",
       "    .dataframe thead th {\n",
       "        text-align: right;\n",
       "    }\n",
       "</style>\n",
       "<table border=\"1\" class=\"dataframe\">\n",
       "  <thead>\n",
       "    <tr style=\"text-align: right;\">\n",
       "      <th></th>\n",
       "      <th>user_id</th>\n",
       "      <th>actual</th>\n",
       "      <th>als_100</th>\n",
       "    </tr>\n",
       "  </thead>\n",
       "  <tbody>\n",
       "    <tr>\n",
       "      <th>0</th>\n",
       "      <td>00055176fea33f6e027cd3302289378b</td>\n",
       "      <td>[Imagine Dragons__I Bet My Life, Meghan Traino...</td>\n",
       "      <td>[Ed Sheeran__Thinking Out Loud, Mark Ronson__U...</td>\n",
       "    </tr>\n",
       "    <tr>\n",
       "      <th>1</th>\n",
       "      <td>0007f3dd09c91198371454c608d47f22</td>\n",
       "      <td>[Lana Del Rey__Black Beauty, Evanescence__My I...</td>\n",
       "      <td>[Ed Sheeran__The A Team, Ed Sheeran__I See Fir...</td>\n",
       "    </tr>\n",
       "    <tr>\n",
       "      <th>2</th>\n",
       "      <td>000b0f32b5739f052b9d40fcc5c41079</td>\n",
       "      <td>[Veronica Maggio__Hela huset, First Aid Kit__S...</td>\n",
       "      <td>[First Aid Kit__Emmylou, First Aid Kit__The Li...</td>\n",
       "    </tr>\n",
       "    <tr>\n",
       "      <th>3</th>\n",
       "      <td>000c11a16c89aa4b14b328080f5954ee</td>\n",
       "      <td>[Bastille__Pompeii, Pharrell Williams__Know Wh...</td>\n",
       "      <td>[Mark Ronson__Uptown Funk, Lorde__Royals, Disc...</td>\n",
       "    </tr>\n",
       "    <tr>\n",
       "      <th>4</th>\n",
       "      <td>00123e0f544dee3ab006aa7f1e5725a7</td>\n",
       "      <td>[Creedence Clearwater Revival__Long As I Can S...</td>\n",
       "      <td>[Led Zeppelin__Immigrant Song, Led Zeppelin__W...</td>\n",
       "    </tr>\n",
       "    <tr>\n",
       "      <th>...</th>\n",
       "      <td>...</td>\n",
       "      <td>...</td>\n",
       "      <td>...</td>\n",
       "    </tr>\n",
       "    <tr>\n",
       "      <th>13614</th>\n",
       "      <td>ffe32d5412269f3041c58cbf0dde3306</td>\n",
       "      <td>[Diana Ross__I'm Coming Out, Aretha Franklin__...</td>\n",
       "      <td>[Stevie Wonder__Signed, Sealed, Delivered (I'm...</td>\n",
       "    </tr>\n",
       "    <tr>\n",
       "      <th>13615</th>\n",
       "      <td>ffec270eae226caa14ddaef291d73fff</td>\n",
       "      <td>[Walk the Moon__Shut Up and Dance]</td>\n",
       "      <td>[Calvin Harris__Under Control, Tiësto__Red Lig...</td>\n",
       "    </tr>\n",
       "    <tr>\n",
       "      <th>13616</th>\n",
       "      <td>fff60baf392613ed33f745b89a9b38f7</td>\n",
       "      <td>[Shaggy__Boombastic, Interpol__Everything Is W...</td>\n",
       "      <td>[Soft Cell__Tainted Love, Blondie__Call Me, Cu...</td>\n",
       "    </tr>\n",
       "    <tr>\n",
       "      <th>13617</th>\n",
       "      <td>fff616055993498d6127f3f467cf9f2b</td>\n",
       "      <td>[Matt and Kim__Let's Go, CAZZETTE__Sleepless -...</td>\n",
       "      <td>[Bon Iver__Holocene, Bon Iver__Skinny Love, Ba...</td>\n",
       "    </tr>\n",
       "    <tr>\n",
       "      <th>13618</th>\n",
       "      <td>fff77dadf8528083c920b9c018847e8b</td>\n",
       "      <td>[The Naked And Famous__All Of This, Mariah Car...</td>\n",
       "      <td>[The xx__Crystalised, The xx__Intro, Two Door ...</td>\n",
       "    </tr>\n",
       "  </tbody>\n",
       "</table>\n",
       "<p>13619 rows × 3 columns</p>\n",
       "</div>"
      ],
      "text/plain": [
       "                                user_id  \\\n",
       "0      00055176fea33f6e027cd3302289378b   \n",
       "1      0007f3dd09c91198371454c608d47f22   \n",
       "2      000b0f32b5739f052b9d40fcc5c41079   \n",
       "3      000c11a16c89aa4b14b328080f5954ee   \n",
       "4      00123e0f544dee3ab006aa7f1e5725a7   \n",
       "...                                 ...   \n",
       "13614  ffe32d5412269f3041c58cbf0dde3306   \n",
       "13615  ffec270eae226caa14ddaef291d73fff   \n",
       "13616  fff60baf392613ed33f745b89a9b38f7   \n",
       "13617  fff616055993498d6127f3f467cf9f2b   \n",
       "13618  fff77dadf8528083c920b9c018847e8b   \n",
       "\n",
       "                                                  actual  \\\n",
       "0      [Imagine Dragons__I Bet My Life, Meghan Traino...   \n",
       "1      [Lana Del Rey__Black Beauty, Evanescence__My I...   \n",
       "2      [Veronica Maggio__Hela huset, First Aid Kit__S...   \n",
       "3      [Bastille__Pompeii, Pharrell Williams__Know Wh...   \n",
       "4      [Creedence Clearwater Revival__Long As I Can S...   \n",
       "...                                                  ...   \n",
       "13614  [Diana Ross__I'm Coming Out, Aretha Franklin__...   \n",
       "13615                 [Walk the Moon__Shut Up and Dance]   \n",
       "13616  [Shaggy__Boombastic, Interpol__Everything Is W...   \n",
       "13617  [Matt and Kim__Let's Go, CAZZETTE__Sleepless -...   \n",
       "13618  [The Naked And Famous__All Of This, Mariah Car...   \n",
       "\n",
       "                                                 als_100  \n",
       "0      [Ed Sheeran__Thinking Out Loud, Mark Ronson__U...  \n",
       "1      [Ed Sheeran__The A Team, Ed Sheeran__I See Fir...  \n",
       "2      [First Aid Kit__Emmylou, First Aid Kit__The Li...  \n",
       "3      [Mark Ronson__Uptown Funk, Lorde__Royals, Disc...  \n",
       "4      [Led Zeppelin__Immigrant Song, Led Zeppelin__W...  \n",
       "...                                                  ...  \n",
       "13614  [Stevie Wonder__Signed, Sealed, Delivered (I'm...  \n",
       "13615  [Calvin Harris__Under Control, Tiësto__Red Lig...  \n",
       "13616  [Soft Cell__Tainted Love, Blondie__Call Me, Cu...  \n",
       "13617  [Bon Iver__Holocene, Bon Iver__Skinny Love, Ba...  \n",
       "13618  [The xx__Crystalised, The xx__Intro, Two Door ...  \n",
       "\n",
       "[13619 rows x 3 columns]"
      ]
     },
     "execution_count": 40,
     "metadata": {},
     "output_type": "execute_result"
    }
   ],
   "source": [
    "result"
   ]
  },
  {
   "cell_type": "code",
   "execution_count": 42,
   "metadata": {},
   "outputs": [
    {
     "data": {
      "text/plain": [
       "0.09997797195095087"
      ]
     },
     "execution_count": 42,
     "metadata": {},
     "output_type": "execute_result"
    }
   ],
   "source": [
    "result.apply(lambda row: precision_at_k(row['als_100'], row['actual']), axis=1).mean()"
   ]
  },
  {
   "cell_type": "code",
   "execution_count": 51,
   "metadata": {
    "scrolled": true
   },
   "outputs": [],
   "source": [
    "with open('../models/als_100.pickle', 'wb') as f:\n",
    "    pickle.dump(als_100, f)"
   ]
  },
  {
   "cell_type": "code",
   "execution_count": 53,
   "metadata": {},
   "outputs": [],
   "source": [
    "save_npz('../data/train_user_item_matrix.npz', sparse_matrix)"
   ]
  },
  {
   "cell_type": "code",
   "execution_count": 43,
   "metadata": {},
   "outputs": [],
   "source": [
    "als_256 = AlternatingLeastSquares(factors=256, \n",
    "                              regularization=0.001,\n",
    "                              iterations=15, \n",
    "                              calculate_training_loss=True, \n",
    "                              num_threads=4)"
   ]
  },
  {
   "cell_type": "code",
   "execution_count": 46,
   "metadata": {},
   "outputs": [
    {
     "data": {
      "application/vnd.jupyter.widget-view+json": {
       "model_id": "16bafbd8359348c1ac3c2c07fb265e15",
       "version_major": 2,
       "version_minor": 0
      },
      "text/plain": [
       "HBox(children=(HTML(value=''), FloatProgress(value=0.0, max=15.0), HTML(value='')))"
      ]
     },
     "metadata": {},
     "output_type": "display_data"
    },
    {
     "name": "stdout",
     "output_type": "stream",
     "text": [
      "\n"
     ]
    }
   ],
   "source": [
    "als_256.fit(sparse_matrix.T, show_progress=True)"
   ]
  },
  {
   "cell_type": "code",
   "execution_count": 47,
   "metadata": {},
   "outputs": [],
   "source": [
    "result['als_256'] = result['user_id'].apply(lambda x: get_recommendations(als_256, x))"
   ]
  },
  {
   "cell_type": "code",
   "execution_count": 48,
   "metadata": {},
   "outputs": [
    {
     "data": {
      "text/plain": [
       "0.09225346941772525"
      ]
     },
     "execution_count": 48,
     "metadata": {},
     "output_type": "execute_result"
    }
   ],
   "source": [
    "result.apply(lambda row: precision_at_k(row['als_256'], row['actual']), axis=1).mean()"
   ]
  },
  {
   "cell_type": "code",
   "execution_count": null,
   "metadata": {},
   "outputs": [],
   "source": []
  }
 ],
 "metadata": {
  "kernelspec": {
   "display_name": "Python 3",
   "language": "python",
   "name": "python3"
  },
  "language_info": {
   "codemirror_mode": {
    "name": "ipython",
    "version": 3
   },
   "file_extension": ".py",
   "mimetype": "text/x-python",
   "name": "python",
   "nbconvert_exporter": "python",
   "pygments_lexer": "ipython3",
   "version": "3.8.5"
  }
 },
 "nbformat": 4,
 "nbformat_minor": 4
}
