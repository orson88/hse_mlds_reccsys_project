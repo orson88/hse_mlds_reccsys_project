{
 "cells": [
  {
   "cell_type": "code",
   "execution_count": 1,
   "id": "f63139f8-c469-487c-a32c-93f814c62fa6",
   "metadata": {},
   "outputs": [],
   "source": [
    "import os\n",
    "from pathlib import Path\n",
    "\n",
    "import torch\n",
    "import numpy as np\n",
    "import pandas as pd\n",
    "from torch import nn\n",
    "from scipy.sparse import load_npz\n",
    "\n",
    "os.sys.path.append('/hse_mlds_recsys_project')\n",
    "from app.models.nn_models import NNModel, MatrixFactorization\n",
    "from app.utils.metrics import precision_at_k"
   ]
  },
  {
   "cell_type": "code",
   "execution_count": 2,
   "id": "7c1f7d0e-d2f2-4e80-abcc-c4fb134da349",
   "metadata": {},
   "outputs": [],
   "source": [
    "root_dir = Path('/hse_mlds_recsys_project/')"
   ]
  },
  {
   "cell_type": "code",
   "execution_count": 7,
   "id": "90af6434-f65e-4439-8088-caa25335c46a",
   "metadata": {},
   "outputs": [],
   "source": [
    "# class MatrixFactorization(torch.nn.Module):\n",
    "#     def __init__(self, n_users, n_items, n_factors=150):\n",
    "#         super().__init__()\n",
    "#         self.user_factors = torch.nn.Embedding(n_users, n_factors, sparse=True)\n",
    "#         self.item_factors = torch.nn.Embedding(n_items, n_factors, sparse=True)\n",
    "\n",
    "#     def forward(self, user, item):\n",
    "#         return (self.user_factors(user) * self.item_factors(item)).sum(1)\n",
    "\n",
    "\n",
    "user_item_matrix = load_npz(root_dir / 'app' / 'data' / 'train_user_item_matrix.npz').astype('float')\n",
    "n_users, n_items = user_item_matrix.shape\n",
    "\n",
    "criterion = nn.MSELoss()\n",
    "# net = MatrixFactorization(n_users, n_items, n_factors=150)\n",
    "# optimizer = torch.optim.SGD(net.parameters(), lr=1e-6)\n",
    "\n",
    "# rows, cols = user_item_matrix.nonzero()\n",
    "# p = np.random.permutation(len(rows))\n",
    "# rows, cols = rows[p], cols[p]\n",
    "\n",
    "# for row, col in zip(rows, cols):\n",
    "#     # Set gradients to zero\n",
    "#     optimizer.zero_grad()\n",
    "    \n",
    "#     # Turn data into tensors\n",
    "#     rating = torch.FloatTensor([user_item_matrix[row, col]])\n",
    "#     row = torch.LongTensor([row])\n",
    "#     col = torch.LongTensor([col])\n",
    "\n",
    "#     # Predict and calculate loss\n",
    "#     prediction = net(row, col)\n",
    "#     loss = criterion(prediction, rating)\n",
    "\n",
    "#     # Backpropagate\n",
    "#     loss.backward()\n",
    "\n",
    "#     # Update the parameters\n",
    "#     optimizer.step()"
   ]
  },
  {
   "cell_type": "code",
   "execution_count": 3,
   "id": "99dfc1ed-0f5d-41ee-b0ae-373bed787764",
   "metadata": {},
   "outputs": [
    {
     "name": "stdout",
     "output_type": "stream",
     "text": [
      "Collecting wget\n",
      "  Downloading wget-3.2.zip (10 kB)\n",
      "Building wheels for collected packages: wget\n",
      "  Building wheel for wget (setup.py) ... \u001b[?25ldone\n",
      "\u001b[?25h  Created wheel for wget: filename=wget-3.2-py3-none-any.whl size=9680 sha256=3177cd51b2a8bc5a376be8f49f65a3e944b3bb269404c274dcb75b75b3b7de84\n",
      "  Stored in directory: /root/.cache/pip/wheels/04/5f/3e/46cc37c5d698415694d83f607f833f83f0149e49b3af9d0f38\n",
      "Successfully built wget\n",
      "Installing collected packages: wget\n",
      "Successfully installed wget-3.2\n",
      "\u001b[33mWARNING: Running pip as the 'root' user can result in broken permissions and conflicting behaviour with the system package manager. It is recommended to use a virtual environment instead: https://pip.pypa.io/warnings/venv\u001b[0m\n"
     ]
    }
   ],
   "source": [
    "! pip install wget"
   ]
  },
  {
   "cell_type": "code",
   "execution_count": 5,
   "id": "b60fb38c-272e-48a7-af37-08f5991c25a6",
   "metadata": {},
   "outputs": [],
   "source": [
    "import wget"
   ]
  },
  {
   "cell_type": "code",
   "execution_count": 7,
   "id": "a10f29cf-d7d0-4e5f-9721-485834942503",
   "metadata": {},
   "outputs": [],
   "source": [
    "model_params_path = wget.download('https://docs.google.com/uc?export=download&id=1rcAthDY3_TDTlALK3MXKJJzFedcou6vU')\n",
    "net_model = NNModel(MatrixFactorization, model_params_path, n_users=n_users, n_items=n_items)\n",
    "\n",
    "Path(model_params_path).unlink()"
   ]
  },
  {
   "cell_type": "code",
   "execution_count": 22,
   "id": "603ed8ae-4b6d-4d5d-86f7-79fb5b7acb23",
   "metadata": {},
   "outputs": [
    {
     "name": "stdout",
     "output_type": "stream",
     "text": [
      "CPU times: user 11.1 ms, sys: 2.27 ms, total: 13.4 ms\n",
      "Wall time: 7.14 ms\n"
     ]
    },
    {
     "data": {
      "text/plain": [
       "['Frank Ocean__Pilot Jones',\n",
       " 'Ciara__Goodies',\n",
       " 'Franz Ferdinand__Do You Want To',\n",
       " 'Madonna__Borderline',\n",
       " \"Metronomy__I'm Aquarius\"]"
      ]
     },
     "execution_count": 22,
     "metadata": {},
     "output_type": "execute_result"
    }
   ],
   "source": [
    "%%time\n",
    "net_model.get_recommendations('00055176fea33f6e027cd3302289378b')"
   ]
  },
  {
   "cell_type": "code",
   "execution_count": 10,
   "id": "ff0a50b5-cb50-4346-a8b2-61838e562a0a",
   "metadata": {},
   "outputs": [],
   "source": [
    "test = pd.read_csv('../datasets/test.csv.zip', compression='zip')\n",
    "result = test.groupby('user_id')['song'].unique().reset_index().rename(columns={'song': 'actual'})"
   ]
  },
  {
   "cell_type": "code",
   "execution_count": 25,
   "id": "bcb80422-8af1-4571-8bd4-02e14602042d",
   "metadata": {
    "scrolled": true
   },
   "outputs": [
    {
     "name": "stdout",
     "output_type": "stream",
     "text": [
      "CPU times: user 1min, sys: 142 ms, total: 1min\n",
      "Wall time: 15.5 s\n"
     ]
    },
    {
     "data": {
      "text/html": [
       "<div>\n",
       "<style scoped>\n",
       "    .dataframe tbody tr th:only-of-type {\n",
       "        vertical-align: middle;\n",
       "    }\n",
       "\n",
       "    .dataframe tbody tr th {\n",
       "        vertical-align: top;\n",
       "    }\n",
       "\n",
       "    .dataframe thead th {\n",
       "        text-align: right;\n",
       "    }\n",
       "</style>\n",
       "<table border=\"1\" class=\"dataframe\">\n",
       "  <thead>\n",
       "    <tr style=\"text-align: right;\">\n",
       "      <th></th>\n",
       "      <th>user_id</th>\n",
       "      <th>actual</th>\n",
       "      <th>mf_150</th>\n",
       "    </tr>\n",
       "  </thead>\n",
       "  <tbody>\n",
       "    <tr>\n",
       "      <th>0</th>\n",
       "      <td>00055176fea33f6e027cd3302289378b</td>\n",
       "      <td>[Demi Lovato__Give Your Heart A Break, Ed Shee...</td>\n",
       "      <td>[Frank Ocean__Pilot Jones, Ciara__Goodies, Fra...</td>\n",
       "    </tr>\n",
       "    <tr>\n",
       "      <th>1</th>\n",
       "      <td>0007f3dd09c91198371454c608d47f22</td>\n",
       "      <td>[Ben Howard__Keep Your Head Up, Ed Sheeran__Sm...</td>\n",
       "      <td>[Muse__Panic Station, System Of A Down__Deer D...</td>\n",
       "    </tr>\n",
       "    <tr>\n",
       "      <th>2</th>\n",
       "      <td>000b0f32b5739f052b9d40fcc5c41079</td>\n",
       "      <td>[Lars Winnerbäck__Om du lämnade mig nu]</td>\n",
       "      <td>[The Shins__Caring Is Creepy, The xx__Shelter,...</td>\n",
       "    </tr>\n",
       "    <tr>\n",
       "      <th>3</th>\n",
       "      <td>000c11a16c89aa4b14b328080f5954ee</td>\n",
       "      <td>[Arctic Monkeys__Why'd You Only Call Me When Y...</td>\n",
       "      <td>[Tina Turner__The Best, Daft Punk__Arrival, Me...</td>\n",
       "    </tr>\n",
       "    <tr>\n",
       "      <th>4</th>\n",
       "      <td>00123e0f544dee3ab006aa7f1e5725a7</td>\n",
       "      <td>[Foster The People__Don't Stop (Color on the W...</td>\n",
       "      <td>[Garbage__#1 Crush, Jessie J__Do It Like A Dud...</td>\n",
       "    </tr>\n",
       "  </tbody>\n",
       "</table>\n",
       "</div>"
      ],
      "text/plain": [
       "                            user_id   \n",
       "0  00055176fea33f6e027cd3302289378b  \\\n",
       "1  0007f3dd09c91198371454c608d47f22   \n",
       "2  000b0f32b5739f052b9d40fcc5c41079   \n",
       "3  000c11a16c89aa4b14b328080f5954ee   \n",
       "4  00123e0f544dee3ab006aa7f1e5725a7   \n",
       "\n",
       "                                              actual   \n",
       "0  [Demi Lovato__Give Your Heart A Break, Ed Shee...  \\\n",
       "1  [Ben Howard__Keep Your Head Up, Ed Sheeran__Sm...   \n",
       "2            [Lars Winnerbäck__Om du lämnade mig nu]   \n",
       "3  [Arctic Monkeys__Why'd You Only Call Me When Y...   \n",
       "4  [Foster The People__Don't Stop (Color on the W...   \n",
       "\n",
       "                                              mf_150  \n",
       "0  [Frank Ocean__Pilot Jones, Ciara__Goodies, Fra...  \n",
       "1  [Muse__Panic Station, System Of A Down__Deer D...  \n",
       "2  [The Shins__Caring Is Creepy, The xx__Shelter,...  \n",
       "3  [Tina Turner__The Best, Daft Punk__Arrival, Me...  \n",
       "4  [Garbage__#1 Crush, Jessie J__Do It Like A Dud...  "
      ]
     },
     "execution_count": 25,
     "metadata": {},
     "output_type": "execute_result"
    }
   ],
   "source": [
    "%%time\n",
    "result['mf_150'] = result['user_id'].apply(lambda x: net_model.get_recommendations(x, n=20))\n",
    "result.head()"
   ]
  },
  {
   "cell_type": "code",
   "execution_count": 29,
   "id": "9cb75702-eff5-4a77-8c9e-b6c9bbe7a632",
   "metadata": {},
   "outputs": [
    {
     "data": {
      "text/plain": [
       "0.0026603953847284486"
      ]
     },
     "execution_count": 29,
     "metadata": {},
     "output_type": "execute_result"
    }
   ],
   "source": [
    "result.apply(lambda row: precision_at_k(row['actual'], row['mf_150']), axis=1).mean()"
   ]
  },
  {
   "cell_type": "markdown",
   "id": "3fb58d5c-9538-4dd6-9626-4b6eb5557f8a",
   "metadata": {},
   "source": [
    "### lr 1e-3"
   ]
  },
  {
   "cell_type": "code",
   "execution_count": 8,
   "id": "cab39a40-4739-499b-94b9-aab217607fbf",
   "metadata": {},
   "outputs": [],
   "source": [
    "model_params_path = wget.download('https://docs.google.com/uc?export=download&id=1pkl7Iznw9xMc8ZzznIRFocYVK2Y1zoEC')\n",
    "model_params = torch.load(model_params_path, map_location=torch.device('cpu'))\n",
    "# net.load_state_dict(model_params['model_state'])\n",
    "net_model = NNModel(MatrixFactorization, net_params_path=model_params_path, n_users=n_users, n_items=n_items)\n",
    "\n",
    "Path(model_params_path).unlink()"
   ]
  },
  {
   "cell_type": "code",
   "execution_count": 11,
   "id": "fa72aa55-610e-4088-8a14-d127580efb89",
   "metadata": {},
   "outputs": [
    {
     "name": "stdout",
     "output_type": "stream",
     "text": [
      "CPU times: user 1min 37s, sys: 212 ms, total: 1min 38s\n",
      "Wall time: 24.7 s\n"
     ]
    },
    {
     "data": {
      "text/html": [
       "<div>\n",
       "<style scoped>\n",
       "    .dataframe tbody tr th:only-of-type {\n",
       "        vertical-align: middle;\n",
       "    }\n",
       "\n",
       "    .dataframe tbody tr th {\n",
       "        vertical-align: top;\n",
       "    }\n",
       "\n",
       "    .dataframe thead th {\n",
       "        text-align: right;\n",
       "    }\n",
       "</style>\n",
       "<table border=\"1\" class=\"dataframe\">\n",
       "  <thead>\n",
       "    <tr style=\"text-align: right;\">\n",
       "      <th></th>\n",
       "      <th>user_id</th>\n",
       "      <th>actual</th>\n",
       "      <th>mf_150_lr_003</th>\n",
       "    </tr>\n",
       "  </thead>\n",
       "  <tbody>\n",
       "    <tr>\n",
       "      <th>0</th>\n",
       "      <td>00055176fea33f6e027cd3302289378b</td>\n",
       "      <td>[Demi Lovato__Give Your Heart A Break, Ed Shee...</td>\n",
       "      <td>[Noah And The Whale__L.I.F.E.G.O.E.S.O.N., Foa...</td>\n",
       "    </tr>\n",
       "    <tr>\n",
       "      <th>1</th>\n",
       "      <td>0007f3dd09c91198371454c608d47f22</td>\n",
       "      <td>[Ben Howard__Keep Your Head Up, Ed Sheeran__Sm...</td>\n",
       "      <td>[Billy Joel__My Life, The Black Eyed Peas__Hey...</td>\n",
       "    </tr>\n",
       "    <tr>\n",
       "      <th>2</th>\n",
       "      <td>000b0f32b5739f052b9d40fcc5c41079</td>\n",
       "      <td>[Lars Winnerbäck__Om du lämnade mig nu]</td>\n",
       "      <td>[Death Cab for Cutie__The New Year, Rihanna__S...</td>\n",
       "    </tr>\n",
       "    <tr>\n",
       "      <th>3</th>\n",
       "      <td>000c11a16c89aa4b14b328080f5954ee</td>\n",
       "      <td>[Arctic Monkeys__Why'd You Only Call Me When Y...</td>\n",
       "      <td>[Pablo Alboran__Solamente Tú, James Taylor__Sw...</td>\n",
       "    </tr>\n",
       "    <tr>\n",
       "      <th>4</th>\n",
       "      <td>00123e0f544dee3ab006aa7f1e5725a7</td>\n",
       "      <td>[Foster The People__Don't Stop (Color on the W...</td>\n",
       "      <td>[Jake Bugg__A Song About Love, Goldfrapp__Ooh ...</td>\n",
       "    </tr>\n",
       "  </tbody>\n",
       "</table>\n",
       "</div>"
      ],
      "text/plain": [
       "                            user_id   \n",
       "0  00055176fea33f6e027cd3302289378b  \\\n",
       "1  0007f3dd09c91198371454c608d47f22   \n",
       "2  000b0f32b5739f052b9d40fcc5c41079   \n",
       "3  000c11a16c89aa4b14b328080f5954ee   \n",
       "4  00123e0f544dee3ab006aa7f1e5725a7   \n",
       "\n",
       "                                              actual   \n",
       "0  [Demi Lovato__Give Your Heart A Break, Ed Shee...  \\\n",
       "1  [Ben Howard__Keep Your Head Up, Ed Sheeran__Sm...   \n",
       "2            [Lars Winnerbäck__Om du lämnade mig nu]   \n",
       "3  [Arctic Monkeys__Why'd You Only Call Me When Y...   \n",
       "4  [Foster The People__Don't Stop (Color on the W...   \n",
       "\n",
       "                                       mf_150_lr_003  \n",
       "0  [Noah And The Whale__L.I.F.E.G.O.E.S.O.N., Foa...  \n",
       "1  [Billy Joel__My Life, The Black Eyed Peas__Hey...  \n",
       "2  [Death Cab for Cutie__The New Year, Rihanna__S...  \n",
       "3  [Pablo Alboran__Solamente Tú, James Taylor__Sw...  \n",
       "4  [Jake Bugg__A Song About Love, Goldfrapp__Ooh ...  "
      ]
     },
     "execution_count": 11,
     "metadata": {},
     "output_type": "execute_result"
    }
   ],
   "source": [
    "%%time\n",
    "result['mf_150_lr_003'] = result['user_id'].apply(lambda x: net_model.get_recommendations(x, n=20))\n",
    "result.head()"
   ]
  },
  {
   "cell_type": "code",
   "execution_count": 20,
   "id": "cbb1af9c-0952-4424-bd5b-6ecf4d2bc702",
   "metadata": {},
   "outputs": [
    {
     "data": {
      "text/plain": [
       "tensor([6319, 3070, 2443,  ...,   16,  868, 4246])"
      ]
     },
     "execution_count": 20,
     "metadata": {},
     "output_type": "execute_result"
    }
   ],
   "source": [
    "net_model.net.forward(torch.tensor(0), torch.arange(net_model.net.n_items)).argsort().flip(-1)"
   ]
  },
  {
   "cell_type": "code",
   "execution_count": 13,
   "id": "32708fcf-368f-4a14-997f-4b14b4584701",
   "metadata": {},
   "outputs": [
    {
     "data": {
      "text/plain": [
       "array([6319, 3070, 2443, ...,   16,  868, 4246])"
      ]
     },
     "execution_count": 13,
     "metadata": {},
     "output_type": "execute_result"
    }
   ],
   "source": [
    "net_model.net.predict(0)"
   ]
  },
  {
   "cell_type": "code",
   "execution_count": 35,
   "id": "48bd2464-8cf8-4eec-8eaf-4eabc8fc95bd",
   "metadata": {},
   "outputs": [
    {
     "name": "stdout",
     "output_type": "stream",
     "text": [
      "CPU times: user 51.3 s, sys: 1.04 ms, total: 51.3 s\n",
      "Wall time: 13 s\n"
     ]
    },
    {
     "data": {
      "text/html": [
       "<div>\n",
       "<style scoped>\n",
       "    .dataframe tbody tr th:only-of-type {\n",
       "        vertical-align: middle;\n",
       "    }\n",
       "\n",
       "    .dataframe tbody tr th {\n",
       "        vertical-align: top;\n",
       "    }\n",
       "\n",
       "    .dataframe thead th {\n",
       "        text-align: right;\n",
       "    }\n",
       "</style>\n",
       "<table border=\"1\" class=\"dataframe\">\n",
       "  <thead>\n",
       "    <tr style=\"text-align: right;\">\n",
       "      <th></th>\n",
       "      <th>user_id</th>\n",
       "      <th>actual</th>\n",
       "      <th>mf_biased_150_3_epoch</th>\n",
       "      <th>mf_150_lr_003</th>\n",
       "    </tr>\n",
       "  </thead>\n",
       "  <tbody>\n",
       "    <tr>\n",
       "      <th>0</th>\n",
       "      <td>00055176fea33f6e027cd3302289378b</td>\n",
       "      <td>[Demi Lovato__Give Your Heart A Break, Ed Shee...</td>\n",
       "      <td>[Tame Impala__She Just Won't Believe Me, The N...</td>\n",
       "      <td>[Noah And The Whale__L.I.F.E.G.O.E.S.O.N., Foa...</td>\n",
       "    </tr>\n",
       "    <tr>\n",
       "      <th>1</th>\n",
       "      <td>0007f3dd09c91198371454c608d47f22</td>\n",
       "      <td>[Ben Howard__Keep Your Head Up, Ed Sheeran__Sm...</td>\n",
       "      <td>[James Blunt__You're Beautiful, Candlebox__Far...</td>\n",
       "      <td>[Billy Joel__My Life, The Black Eyed Peas__Hey...</td>\n",
       "    </tr>\n",
       "    <tr>\n",
       "      <th>2</th>\n",
       "      <td>000b0f32b5739f052b9d40fcc5c41079</td>\n",
       "      <td>[Lars Winnerbäck__Om du lämnade mig nu]</td>\n",
       "      <td>[Little Dragon__Little Man, Incubus__Nice to K...</td>\n",
       "      <td>[Death Cab for Cutie__The New Year, Rihanna__S...</td>\n",
       "    </tr>\n",
       "    <tr>\n",
       "      <th>3</th>\n",
       "      <td>000c11a16c89aa4b14b328080f5954ee</td>\n",
       "      <td>[Arctic Monkeys__Why'd You Only Call Me When Y...</td>\n",
       "      <td>[Metallica__Blackened, Gnarls Barkley__Smiley ...</td>\n",
       "      <td>[Pablo Alboran__Solamente Tú, James Taylor__Sw...</td>\n",
       "    </tr>\n",
       "    <tr>\n",
       "      <th>4</th>\n",
       "      <td>00123e0f544dee3ab006aa7f1e5725a7</td>\n",
       "      <td>[Foster The People__Don't Stop (Color on the W...</td>\n",
       "      <td>[Drake__All Me, Sharon Van Etten__Every Time t...</td>\n",
       "      <td>[Jake Bugg__A Song About Love, Goldfrapp__Ooh ...</td>\n",
       "    </tr>\n",
       "  </tbody>\n",
       "</table>\n",
       "</div>"
      ],
      "text/plain": [
       "                            user_id   \n",
       "0  00055176fea33f6e027cd3302289378b  \\\n",
       "1  0007f3dd09c91198371454c608d47f22   \n",
       "2  000b0f32b5739f052b9d40fcc5c41079   \n",
       "3  000c11a16c89aa4b14b328080f5954ee   \n",
       "4  00123e0f544dee3ab006aa7f1e5725a7   \n",
       "\n",
       "                                              actual   \n",
       "0  [Demi Lovato__Give Your Heart A Break, Ed Shee...  \\\n",
       "1  [Ben Howard__Keep Your Head Up, Ed Sheeran__Sm...   \n",
       "2            [Lars Winnerbäck__Om du lämnade mig nu]   \n",
       "3  [Arctic Monkeys__Why'd You Only Call Me When Y...   \n",
       "4  [Foster The People__Don't Stop (Color on the W...   \n",
       "\n",
       "                               mf_biased_150_3_epoch   \n",
       "0  [Tame Impala__She Just Won't Believe Me, The N...  \\\n",
       "1  [James Blunt__You're Beautiful, Candlebox__Far...   \n",
       "2  [Little Dragon__Little Man, Incubus__Nice to K...   \n",
       "3  [Metallica__Blackened, Gnarls Barkley__Smiley ...   \n",
       "4  [Drake__All Me, Sharon Van Etten__Every Time t...   \n",
       "\n",
       "                                       mf_150_lr_003  \n",
       "0  [Noah And The Whale__L.I.F.E.G.O.E.S.O.N., Foa...  \n",
       "1  [Billy Joel__My Life, The Black Eyed Peas__Hey...  \n",
       "2  [Death Cab for Cutie__The New Year, Rihanna__S...  \n",
       "3  [Pablo Alboran__Solamente Tú, James Taylor__Sw...  \n",
       "4  [Jake Bugg__A Song About Love, Goldfrapp__Ooh ...  "
      ]
     },
     "execution_count": 35,
     "metadata": {},
     "output_type": "execute_result"
    }
   ],
   "source": [
    "%%time\n",
    "result['mf_150_lr_003'] = result['user_id'].apply(lambda x: net_model.get_recommendations(x, n=20))\n",
    "result.head()"
   ]
  },
  {
   "cell_type": "code",
   "execution_count": 36,
   "id": "c69d54c5-63a4-49ce-ac31-34bb9697b19a",
   "metadata": {},
   "outputs": [
    {
     "data": {
      "text/plain": [
       "0.002851473506283531"
      ]
     },
     "execution_count": 36,
     "metadata": {},
     "output_type": "execute_result"
    }
   ],
   "source": [
    "result.apply(lambda row: precision_at_k(row['actual'], row['mf_150_lr_003']), axis=1).mean()"
   ]
  },
  {
   "cell_type": "code",
   "execution_count": 18,
   "id": "b9cdeb39-eb5f-4c3e-85a6-10c4b8381fc7",
   "metadata": {},
   "outputs": [],
   "source": [
    "class BiasedMatrixFactorization(torch.nn.Module):\n",
    "    def __init__(self, n_users, n_items, n_factors=150):\n",
    "        super().__init__()\n",
    "        self.n_users = n_users\n",
    "        self.n_items = n_items\n",
    "        \n",
    "        self.user_factors = torch.nn.Embedding(n_users, n_factors, sparse=True)\n",
    "        self.item_factors = torch.nn.Embedding(n_items, n_factors, sparse=True)\n",
    "        self.user_biases = torch.nn.Embedding(n_users, 1, sparse=True)\n",
    "        self.item_biases = torch.nn.Embedding(n_items, 1, sparse=True)\n",
    "\n",
    "    def forward(self, user, item):\n",
    "        pred = self.user_biases(user) + self.item_biases(item)\n",
    "        pred += (\n",
    "            (self.user_factors(user) * self.item_factors(item))\n",
    "            .sum(dim=1, keepdim=True)\n",
    "        )\n",
    "        return pred.squeeze()\n",
    "\n",
    "    def predict(self, user_index) -> np.array:\n",
    "        with torch.inference_mode():\n",
    "            pred = self.forward(\n",
    "                user=torch.tensor([user_index]), \n",
    "                item=torch.arange(0, self.n_items)\n",
    "            ).numpy()\n",
    "\n",
    "        # sorting item scores descending\n",
    "        return np.flip(pred.argsort())"
   ]
  },
  {
   "cell_type": "code",
   "execution_count": 5,
   "id": "985556d1-6d85-43a6-a6f7-0c36a5e97776",
   "metadata": {},
   "outputs": [
    {
     "data": {
      "text/plain": [
       "array([0, 1, 2, 3, 4, 5, 6, 7, 8, 9])"
      ]
     },
     "execution_count": 5,
     "metadata": {},
     "output_type": "execute_result"
    }
   ],
   "source": [
    "torch.arange(0, 10).numpy()"
   ]
  },
  {
   "cell_type": "code",
   "execution_count": 44,
   "id": "b1911ff4-d155-4176-860f-61e5ababa659",
   "metadata": {},
   "outputs": [],
   "source": [
    "# net = BiasedMatrixFactorization(\n",
    "#     n_users=n_users,\n",
    "#     n_items=n_items,\n",
    "#     n_factors=150\n",
    "# )"
   ]
  },
  {
   "cell_type": "code",
   "execution_count": 8,
   "id": "cdb27227-1b86-419d-9f2a-f66321b55cc6",
   "metadata": {
    "scrolled": true
   },
   "outputs": [],
   "source": [
    "model_params_path = wget.download('https://docs.google.com/uc?export=download&id=1CqmjqDLVcjKb6w300FFjL2_mDABiwvff')\n",
    "# model_params = torch.load(model_params_path, map_location=torch.device('cpu'))\n",
    "# net.load_state_dict(model_params['model_state'])\n",
    "net_model = NNModel(BiasedMatrixFactorization, net_params_path=model_params_path, n_users=n_users, n_items=n_items)\n",
    "\n",
    "Path(model_params_path).unlink()"
   ]
  },
  {
   "cell_type": "code",
   "execution_count": 10,
   "id": "975e102b-47e7-42f9-bb1e-01804b26a070",
   "metadata": {},
   "outputs": [
    {
     "name": "stdout",
     "output_type": "stream",
     "text": [
      "CPU times: user 1min 46s, sys: 260 ms, total: 1min 47s\n",
      "Wall time: 26.9 s\n"
     ]
    },
    {
     "data": {
      "text/html": [
       "<div>\n",
       "<style scoped>\n",
       "    .dataframe tbody tr th:only-of-type {\n",
       "        vertical-align: middle;\n",
       "    }\n",
       "\n",
       "    .dataframe tbody tr th {\n",
       "        vertical-align: top;\n",
       "    }\n",
       "\n",
       "    .dataframe thead th {\n",
       "        text-align: right;\n",
       "    }\n",
       "</style>\n",
       "<table border=\"1\" class=\"dataframe\">\n",
       "  <thead>\n",
       "    <tr style=\"text-align: right;\">\n",
       "      <th></th>\n",
       "      <th>user_id</th>\n",
       "      <th>actual</th>\n",
       "      <th>mf_biased_150</th>\n",
       "    </tr>\n",
       "  </thead>\n",
       "  <tbody>\n",
       "    <tr>\n",
       "      <th>0</th>\n",
       "      <td>00055176fea33f6e027cd3302289378b</td>\n",
       "      <td>[Demi Lovato__Give Your Heart A Break, Ed Shee...</td>\n",
       "      <td>[Linkin Park__Faint, Generationals__When They ...</td>\n",
       "    </tr>\n",
       "    <tr>\n",
       "      <th>1</th>\n",
       "      <td>0007f3dd09c91198371454c608d47f22</td>\n",
       "      <td>[Ben Howard__Keep Your Head Up, Ed Sheeran__Sm...</td>\n",
       "      <td>[Caribou__Back Home, Queen__We Are The Champio...</td>\n",
       "    </tr>\n",
       "    <tr>\n",
       "      <th>2</th>\n",
       "      <td>000b0f32b5739f052b9d40fcc5c41079</td>\n",
       "      <td>[Lars Winnerbäck__Om du lämnade mig nu]</td>\n",
       "      <td>[Death From Above 1979__Trainwreck 1979, Van H...</td>\n",
       "    </tr>\n",
       "    <tr>\n",
       "      <th>3</th>\n",
       "      <td>000c11a16c89aa4b14b328080f5954ee</td>\n",
       "      <td>[Arctic Monkeys__Why'd You Only Call Me When Y...</td>\n",
       "      <td>[Ben Howard__Diamonds, Robbie Williams__Rock D...</td>\n",
       "    </tr>\n",
       "    <tr>\n",
       "      <th>4</th>\n",
       "      <td>00123e0f544dee3ab006aa7f1e5725a7</td>\n",
       "      <td>[Foster The People__Don't Stop (Color on the W...</td>\n",
       "      <td>[The Strokes__Under Control, Stereophonics__Ha...</td>\n",
       "    </tr>\n",
       "  </tbody>\n",
       "</table>\n",
       "</div>"
      ],
      "text/plain": [
       "                            user_id   \n",
       "0  00055176fea33f6e027cd3302289378b  \\\n",
       "1  0007f3dd09c91198371454c608d47f22   \n",
       "2  000b0f32b5739f052b9d40fcc5c41079   \n",
       "3  000c11a16c89aa4b14b328080f5954ee   \n",
       "4  00123e0f544dee3ab006aa7f1e5725a7   \n",
       "\n",
       "                                              actual   \n",
       "0  [Demi Lovato__Give Your Heart A Break, Ed Shee...  \\\n",
       "1  [Ben Howard__Keep Your Head Up, Ed Sheeran__Sm...   \n",
       "2            [Lars Winnerbäck__Om du lämnade mig nu]   \n",
       "3  [Arctic Monkeys__Why'd You Only Call Me When Y...   \n",
       "4  [Foster The People__Don't Stop (Color on the W...   \n",
       "\n",
       "                                       mf_biased_150  \n",
       "0  [Linkin Park__Faint, Generationals__When They ...  \n",
       "1  [Caribou__Back Home, Queen__We Are The Champio...  \n",
       "2  [Death From Above 1979__Trainwreck 1979, Van H...  \n",
       "3  [Ben Howard__Diamonds, Robbie Williams__Rock D...  \n",
       "4  [The Strokes__Under Control, Stereophonics__Ha...  "
      ]
     },
     "execution_count": 10,
     "metadata": {},
     "output_type": "execute_result"
    }
   ],
   "source": [
    "%%time\n",
    "result['mf_biased_150'] = result['user_id'].apply(lambda x: net_model.get_recommendations(x, n=20))\n",
    "result.head()"
   ]
  },
  {
   "cell_type": "code",
   "execution_count": 11,
   "id": "2a56e867-abc3-4622-8f24-8c9808872b97",
   "metadata": {},
   "outputs": [
    {
     "data": {
      "text/plain": [
       "0.002983758359667818"
      ]
     },
     "execution_count": 11,
     "metadata": {},
     "output_type": "execute_result"
    }
   ],
   "source": [
    "result.apply(lambda row: precision_at_k(row['actual'], row['mf_biased_150']), axis=1).mean()"
   ]
  },
  {
   "cell_type": "code",
   "execution_count": null,
   "id": "00083f44-f7c5-47fb-b269-2663a5f2a416",
   "metadata": {},
   "outputs": [],
   "source": [
    "data"
   ]
  },
  {
   "cell_type": "code",
   "execution_count": 14,
   "id": "1c54bd7f-8be4-40c9-b33a-deb14b88064d",
   "metadata": {},
   "outputs": [],
   "source": [
    "cpt = torch.load(root_dir / 'app' / 'data' / 'matrix_factorization_bias_adagrad_3_epoch.pt',  map_location=torch.device('cpu'))"
   ]
  },
  {
   "cell_type": "code",
   "execution_count": 19,
   "id": "bdc2a93b-6483-42d2-a130-35af1d469323",
   "metadata": {},
   "outputs": [],
   "source": [
    "# model_params_path = wget.download('https://docs.google.com/uc?export=download&id=1AT5vCXQpCFsdBs9oF0HirLX5Cj6FK8ht')\n",
    "net_model = NNModel(\n",
    "    BiasedMatrixFactorization, \n",
    "    root_dir / 'app' / 'data' / 'matrix_factorization_bias_adagrad_3_epoch.pt', \n",
    "    n_users=n_users, \n",
    "    n_items=n_items\n",
    ")\n",
    "\n",
    "Path(model_params_path).unlink()"
   ]
  },
  {
   "cell_type": "code",
   "execution_count": 22,
   "id": "b859b664-9b51-41b1-897e-efac7477109e",
   "metadata": {},
   "outputs": [
    {
     "name": "stdout",
     "output_type": "stream",
     "text": [
      "CPU times: user 1min 48s, sys: 325 ms, total: 1min 48s\n",
      "Wall time: 27.6 s\n"
     ]
    },
    {
     "data": {
      "text/html": [
       "<div>\n",
       "<style scoped>\n",
       "    .dataframe tbody tr th:only-of-type {\n",
       "        vertical-align: middle;\n",
       "    }\n",
       "\n",
       "    .dataframe tbody tr th {\n",
       "        vertical-align: top;\n",
       "    }\n",
       "\n",
       "    .dataframe thead th {\n",
       "        text-align: right;\n",
       "    }\n",
       "</style>\n",
       "<table border=\"1\" class=\"dataframe\">\n",
       "  <thead>\n",
       "    <tr style=\"text-align: right;\">\n",
       "      <th></th>\n",
       "      <th>user_id</th>\n",
       "      <th>actual</th>\n",
       "      <th>mf_biased_150_3_epoch</th>\n",
       "    </tr>\n",
       "  </thead>\n",
       "  <tbody>\n",
       "    <tr>\n",
       "      <th>0</th>\n",
       "      <td>00055176fea33f6e027cd3302289378b</td>\n",
       "      <td>[Demi Lovato__Give Your Heart A Break, Ed Shee...</td>\n",
       "      <td>[Tame Impala__She Just Won't Believe Me, The N...</td>\n",
       "    </tr>\n",
       "    <tr>\n",
       "      <th>1</th>\n",
       "      <td>0007f3dd09c91198371454c608d47f22</td>\n",
       "      <td>[Ben Howard__Keep Your Head Up, Ed Sheeran__Sm...</td>\n",
       "      <td>[James Blunt__You're Beautiful, Candlebox__Far...</td>\n",
       "    </tr>\n",
       "    <tr>\n",
       "      <th>2</th>\n",
       "      <td>000b0f32b5739f052b9d40fcc5c41079</td>\n",
       "      <td>[Lars Winnerbäck__Om du lämnade mig nu]</td>\n",
       "      <td>[Little Dragon__Little Man, Incubus__Nice to K...</td>\n",
       "    </tr>\n",
       "    <tr>\n",
       "      <th>3</th>\n",
       "      <td>000c11a16c89aa4b14b328080f5954ee</td>\n",
       "      <td>[Arctic Monkeys__Why'd You Only Call Me When Y...</td>\n",
       "      <td>[Metallica__Blackened, Gnarls Barkley__Smiley ...</td>\n",
       "    </tr>\n",
       "    <tr>\n",
       "      <th>4</th>\n",
       "      <td>00123e0f544dee3ab006aa7f1e5725a7</td>\n",
       "      <td>[Foster The People__Don't Stop (Color on the W...</td>\n",
       "      <td>[Drake__All Me, Sharon Van Etten__Every Time t...</td>\n",
       "    </tr>\n",
       "  </tbody>\n",
       "</table>\n",
       "</div>"
      ],
      "text/plain": [
       "                            user_id   \n",
       "0  00055176fea33f6e027cd3302289378b  \\\n",
       "1  0007f3dd09c91198371454c608d47f22   \n",
       "2  000b0f32b5739f052b9d40fcc5c41079   \n",
       "3  000c11a16c89aa4b14b328080f5954ee   \n",
       "4  00123e0f544dee3ab006aa7f1e5725a7   \n",
       "\n",
       "                                              actual   \n",
       "0  [Demi Lovato__Give Your Heart A Break, Ed Shee...  \\\n",
       "1  [Ben Howard__Keep Your Head Up, Ed Sheeran__Sm...   \n",
       "2            [Lars Winnerbäck__Om du lämnade mig nu]   \n",
       "3  [Arctic Monkeys__Why'd You Only Call Me When Y...   \n",
       "4  [Foster The People__Don't Stop (Color on the W...   \n",
       "\n",
       "                               mf_biased_150_3_epoch  \n",
       "0  [Tame Impala__She Just Won't Believe Me, The N...  \n",
       "1  [James Blunt__You're Beautiful, Candlebox__Far...  \n",
       "2  [Little Dragon__Little Man, Incubus__Nice to K...  \n",
       "3  [Metallica__Blackened, Gnarls Barkley__Smiley ...  \n",
       "4  [Drake__All Me, Sharon Van Etten__Every Time t...  "
      ]
     },
     "execution_count": 22,
     "metadata": {},
     "output_type": "execute_result"
    }
   ],
   "source": [
    "%%time\n",
    "result['mf_biased_150_3_epoch'] = result['user_id'].apply(lambda x: net_model.get_recommendations(x, n=20))\n",
    "result.head()"
   ]
  },
  {
   "cell_type": "code",
   "execution_count": 24,
   "id": "2dd6e4c7-ce07-4269-b56d-1f92b34e3b53",
   "metadata": {},
   "outputs": [
    {
     "data": {
      "text/plain": [
       "0.0029396634085397224"
      ]
     },
     "execution_count": 24,
     "metadata": {},
     "output_type": "execute_result"
    }
   ],
   "source": [
    "result.apply(lambda row: precision_at_k(row['actual'], row['mf_biased_150_3_epoch']), axis=1).mean()"
   ]
  },
  {
   "cell_type": "code",
   "execution_count": null,
   "id": "ae15d03a-61cb-40bd-bc70-0e23edae82f5",
   "metadata": {},
   "outputs": [],
   "source": []
  },
  {
   "cell_type": "code",
   "execution_count": null,
   "id": "10b155a2-2795-4fbf-90c5-9e590413442e",
   "metadata": {},
   "outputs": [],
   "source": []
  },
  {
   "cell_type": "code",
   "execution_count": 41,
   "id": "6a772107-6933-4e93-9019-a879588537ed",
   "metadata": {},
   "outputs": [],
   "source": [
    "adagrad_loss = torch.optim.Adagrad(model.parameters(), lr=1e-6)"
   ]
  },
  {
   "cell_type": "code",
   "execution_count": 45,
   "id": "7dd38f4c-8e75-453a-b465-83117129ce4a",
   "metadata": {},
   "outputs": [
    {
     "data": {
      "text/plain": [
       "(1938057, 1938057)"
      ]
     },
     "execution_count": 45,
     "metadata": {},
     "output_type": "execute_result"
    }
   ],
   "source": [
    "len(rows), len(cols)"
   ]
  },
  {
   "cell_type": "code",
   "execution_count": null,
   "id": "1fba0255-abbb-4ac0-86d3-7344c2748388",
   "metadata": {},
   "outputs": [],
   "source": [
    "# rows, cols = user_item_matrix.nonzero()\n",
    "# p = np.random.permutation(len(rows))\n",
    "# rows, cols = rows[p], cols[p]\n",
    "\n",
    "# for row, col in zip(rows, cols):\n",
    "#     # Set gradients to zero\n",
    "#     optimizer.zero_grad()\n",
    "    \n",
    "#     # Turn data into tensors\n",
    "#     rating = torch.FloatTensor([user_item_matrix[row, col]])\n",
    "#     row = torch.LongTensor([row])\n",
    "#     col = torch.LongTensor([col])\n",
    "\n",
    "#     # Predict and calculate loss\n",
    "#     prediction = net(row, col)\n",
    "#     loss = criterion(prediction, rating)\n",
    "\n",
    "#     # Backpropagate\n",
    "#     loss.backward()\n",
    "\n",
    "#     # Update the parameters\n",
    "#     optimizer.step()"
   ]
  }
 ],
 "metadata": {
  "kernelspec": {
   "display_name": "Python 3 (ipykernel)",
   "language": "python",
   "name": "python3"
  },
  "language_info": {
   "codemirror_mode": {
    "name": "ipython",
    "version": 3
   },
   "file_extension": ".py",
   "mimetype": "text/x-python",
   "name": "python",
   "nbconvert_exporter": "python",
   "pygments_lexer": "ipython3",
   "version": "3.9.5"
  }
 },
 "nbformat": 4,
 "nbformat_minor": 5
}
