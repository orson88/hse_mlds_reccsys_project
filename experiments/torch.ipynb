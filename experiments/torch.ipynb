{
 "cells": [
  {
   "cell_type": "code",
   "execution_count": 1,
   "id": "ebde69cd",
   "metadata": {},
   "outputs": [],
   "source": [
    "import os\n",
    "from pathlib import Path\n",
    "\n",
    "import torch\n",
    "import numpy as np\n",
    "import pandas as pd\n",
    "import wget\n",
    "from torch import nn\n",
    "from scipy.sparse import load_npz\n",
    "\n",
    "os.sys.path.append('/hse_mlds_recsys_project')\n",
    "from app.models.nn_models import NNModel, MatrixFactorization\n",
    "from app.utils.metrics import precision_at_k"
   ]
  },
  {
   "cell_type": "code",
   "execution_count": 2,
   "id": "43dbd8af",
   "metadata": {},
   "outputs": [],
   "source": [
    "root_dir = Path('/hse_mlds_recsys_project/')"
   ]
  },
  {
   "cell_type": "code",
   "execution_count": 12,
   "id": "93b8b897",
   "metadata": {},
   "outputs": [],
   "source": [
    "class MatrixFactorization(nn.Module):\n",
    "    def __init__(self, n_users: int, n_items: int, n_factors=150):\n",
    "        super().__init__()\n",
    "        self.n_users = n_users\n",
    "        self.n_items = n_items\n",
    "        self.user_factors = torch.nn.Embedding(n_users, n_factors, sparse=True)\n",
    "        self.item_factors = torch.nn.Embedding(n_items, n_factors, sparse=True)\n",
    "\n",
    "    def forward(self, user, item):\n",
    "        return (self.user_factors(user) * self.item_factors(item)).sum(1)\n",
    "\n",
    "    def predict(self, user_index) -> np.array:\n",
    "        with torch.inference_mode():\n",
    "            pred = self.forward(\n",
    "                torch.tensor([user_index]),\n",
    "                torch.arange(self.n_items)\n",
    "            ).numpy()\n",
    "\n",
    "        # sorting item scores descending\n",
    "        return np.flip(pred.argsort())"
   ]
  },
  {
   "cell_type": "code",
   "execution_count": 4,
   "id": "9bb6595f-3fcb-4ebe-a472-32aa8a55fb41",
   "metadata": {},
   "outputs": [],
   "source": [
    "device = torch.device('cuda:0' if torch.cuda.is_available() else 'cpu')"
   ]
  },
  {
   "cell_type": "code",
   "execution_count": 7,
   "id": "2ab924a8",
   "metadata": {},
   "outputs": [],
   "source": [
    "user_item_matrix = load_npz(root_dir / 'app' / 'data' / 'train_user_item_matrix.npz').astype('float')\n",
    "n_users, n_items = user_item_matrix.shape\n",
    "\n",
    "criterion = nn.MSELoss()\n",
    "\n",
    "net = MatrixFactorization(\n",
    "    n_users=n_users,\n",
    "    n_items=n_items,\n",
    "    n_factors=150\n",
    ").to(device)\n",
    "optimizer = torch.optim.SparseAdam(net.parameters(), lr=1e-2)\n",
    "\n",
    "mean_loss_log = []\n",
    "std_loss_log = []\n",
    "\n",
    "for epoch in tqdm_notebook(range(100)):\n",
    "    losses_log = []\n",
    "    for row in tqdm_notebook(list(range(n_users))):\n",
    "        optimizer.zero_grad()\n",
    "\n",
    "        rated_items = user_item_matrix[row].nonzero()[1]\n",
    "        ratings = torch.tensor(user_item_matrix[row, rated_items].data, dtype=torch.float32).to(device)\n",
    "        user = torch.tensor([row]).to(device)\n",
    "        rated_items = torch.tensor(rated_items).to(device)\n",
    "\n",
    "        pred = net(user, rated_items)\n",
    "\n",
    "        loss = criterion(pred, ratings)\n",
    "        loss.backward()\n",
    "        losses_log.append(loss.item())\n",
    "\n",
    "        optimizer.step()\n",
    "\n",
    "    mean_loss_log.append(np.array(losses_log).mean())\n",
    "    std_loss_log.append(np.array(losses_log).std())"
   ]
  },
  {
   "cell_type": "code",
   "execution_count": null,
   "id": "9cc7b660-ecec-4c52-bc1a-b6013c74c339",
   "metadata": {},
   "outputs": [],
   "source": [
    "torch.save({\n",
    "    'model_state': net.state_dict(),\n",
    "}, 'matrix_factorization_lr_1e2.pt')"
   ]
  },
  {
   "cell_type": "markdown",
   "id": "4f2fe697-ef10-4950-8ac6-c9d7201b1117",
   "metadata": {},
   "source": [
    "#### Обучал на gpu в коллабе. Сохранил модель в google drive"
   ]
  },
  {
   "cell_type": "code",
   "execution_count": 8,
   "id": "576b3b3b",
   "metadata": {},
   "outputs": [],
   "source": [
    "test = pd.read_csv('../datasets/test.csv.zip', compression='zip')\n",
    "result = test.groupby('user_id')['song'].unique().reset_index().rename(columns={'song': 'actual'})"
   ]
  },
  {
   "cell_type": "code",
   "execution_count": 13,
   "id": "2462a1fe",
   "metadata": {},
   "outputs": [],
   "source": [
    "model_id = '1-02guFWbJHBVCHBKR_IgfYlwDoEmGcnm'\n",
    "\n",
    "model_params_path = wget.download(f'https://docs.google.com/uc?export=download&id={model_id}')\n",
    "net_model = NNModel(MatrixFactorization, net_params_path=model_params_path, n_users=n_users, n_items=n_items)\n",
    "\n",
    "Path(model_params_path).unlink()"
   ]
  },
  {
   "cell_type": "code",
   "execution_count": 14,
   "id": "666018aa-5af1-4397-a86f-b11060abcc5c",
   "metadata": {},
   "outputs": [
    {
     "data": {
      "text/plain": [
       "NNModel(\n",
       "  (net): MatrixFactorization(\n",
       "    (user_factors): Embedding(13607, 150, sparse=True)\n",
       "    (item_factors): Embedding(10000, 150, sparse=True)\n",
       "  )\n",
       ")"
      ]
     },
     "execution_count": 14,
     "metadata": {},
     "output_type": "execute_result"
    }
   ],
   "source": [
    "net_model"
   ]
  },
  {
   "cell_type": "code",
   "execution_count": 15,
   "id": "6729329d",
   "metadata": {},
   "outputs": [
    {
     "name": "stdout",
     "output_type": "stream",
     "text": [
      "CPU times: user 1min 35s, sys: 32.1 ms, total: 1min 35s\n",
      "Wall time: 24.1 s\n"
     ]
    },
    {
     "data": {
      "text/html": [
       "<div>\n",
       "<style scoped>\n",
       "    .dataframe tbody tr th:only-of-type {\n",
       "        vertical-align: middle;\n",
       "    }\n",
       "\n",
       "    .dataframe tbody tr th {\n",
       "        vertical-align: top;\n",
       "    }\n",
       "\n",
       "    .dataframe thead th {\n",
       "        text-align: right;\n",
       "    }\n",
       "</style>\n",
       "<table border=\"1\" class=\"dataframe\">\n",
       "  <thead>\n",
       "    <tr style=\"text-align: right;\">\n",
       "      <th></th>\n",
       "      <th>user_id</th>\n",
       "      <th>actual</th>\n",
       "      <th>mf_150_lr_1e_2</th>\n",
       "    </tr>\n",
       "  </thead>\n",
       "  <tbody>\n",
       "    <tr>\n",
       "      <th>0</th>\n",
       "      <td>00055176fea33f6e027cd3302289378b</td>\n",
       "      <td>[Demi Lovato__Give Your Heart A Break, Ed Shee...</td>\n",
       "      <td>[Bridgit Mendler__Ready or Not, Maná__Clavado ...</td>\n",
       "    </tr>\n",
       "    <tr>\n",
       "      <th>1</th>\n",
       "      <td>0007f3dd09c91198371454c608d47f22</td>\n",
       "      <td>[Ben Howard__Keep Your Head Up, Ed Sheeran__Sm...</td>\n",
       "      <td>[Sara Bareilles__Winter Song, The Used__The Ta...</td>\n",
       "    </tr>\n",
       "    <tr>\n",
       "      <th>2</th>\n",
       "      <td>000b0f32b5739f052b9d40fcc5c41079</td>\n",
       "      <td>[Lars Winnerbäck__Om du lämnade mig nu]</td>\n",
       "      <td>[Beck__The Golden Age, Agnes Obel__Dorian, Bif...</td>\n",
       "    </tr>\n",
       "    <tr>\n",
       "      <th>3</th>\n",
       "      <td>000c11a16c89aa4b14b328080f5954ee</td>\n",
       "      <td>[Arctic Monkeys__Why'd You Only Call Me When Y...</td>\n",
       "      <td>[Jason Mraz__Love Someone, Golden Earring__Rad...</td>\n",
       "    </tr>\n",
       "    <tr>\n",
       "      <th>4</th>\n",
       "      <td>00123e0f544dee3ab006aa7f1e5725a7</td>\n",
       "      <td>[Foster The People__Don't Stop (Color on the W...</td>\n",
       "      <td>[Queen__You're My Best Friend, Martin Tungevaa...</td>\n",
       "    </tr>\n",
       "  </tbody>\n",
       "</table>\n",
       "</div>"
      ],
      "text/plain": [
       "                            user_id  \\\n",
       "0  00055176fea33f6e027cd3302289378b   \n",
       "1  0007f3dd09c91198371454c608d47f22   \n",
       "2  000b0f32b5739f052b9d40fcc5c41079   \n",
       "3  000c11a16c89aa4b14b328080f5954ee   \n",
       "4  00123e0f544dee3ab006aa7f1e5725a7   \n",
       "\n",
       "                                              actual  \\\n",
       "0  [Demi Lovato__Give Your Heart A Break, Ed Shee...   \n",
       "1  [Ben Howard__Keep Your Head Up, Ed Sheeran__Sm...   \n",
       "2            [Lars Winnerbäck__Om du lämnade mig nu]   \n",
       "3  [Arctic Monkeys__Why'd You Only Call Me When Y...   \n",
       "4  [Foster The People__Don't Stop (Color on the W...   \n",
       "\n",
       "                                      mf_150_lr_1e_2  \n",
       "0  [Bridgit Mendler__Ready or Not, Maná__Clavado ...  \n",
       "1  [Sara Bareilles__Winter Song, The Used__The Ta...  \n",
       "2  [Beck__The Golden Age, Agnes Obel__Dorian, Bif...  \n",
       "3  [Jason Mraz__Love Someone, Golden Earring__Rad...  \n",
       "4  [Queen__You're My Best Friend, Martin Tungevaa...  "
      ]
     },
     "execution_count": 15,
     "metadata": {},
     "output_type": "execute_result"
    }
   ],
   "source": [
    "%%time\n",
    "result['mf_150_lr_1e_2'] = result['user_id'].apply(lambda x: net_model.get_recommendations(x, n=20))\n",
    "result.head()"
   ]
  },
  {
   "cell_type": "code",
   "execution_count": 16,
   "id": "97c115f3-f5f8-47c9-b985-1592dd0d3cf9",
   "metadata": {},
   "outputs": [
    {
     "data": {
      "text/plain": [
       "0.001396340119056368"
      ]
     },
     "execution_count": 16,
     "metadata": {},
     "output_type": "execute_result"
    }
   ],
   "source": [
    "result.apply(lambda row: precision_at_k(row['actual'], row['mf_150_lr_1e_2']), axis=1).mean()"
   ]
  }
 ],
 "metadata": {
  "kernelspec": {
   "display_name": "Python 3 (ipykernel)",
   "language": "python",
   "name": "python3"
  },
  "language_info": {
   "codemirror_mode": {
    "name": "ipython",
    "version": 3
   },
   "file_extension": ".py",
   "mimetype": "text/x-python",
   "name": "python",
   "nbconvert_exporter": "python",
   "pygments_lexer": "ipython3",
   "version": "3.9.5"
  }
 },
 "nbformat": 4,
 "nbformat_minor": 5
}
