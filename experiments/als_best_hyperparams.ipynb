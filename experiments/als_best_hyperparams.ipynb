{
 "cells": [
  {
   "cell_type": "code",
   "execution_count": 1,
   "id": "57d1d27c-0539-450e-9f6d-60fb4272679b",
   "metadata": {
    "tags": []
   },
   "outputs": [],
   "source": [
    "import sys\n",
    "import pickle\n",
    "import pandas as pd\n",
    "from pathlib import Path\n",
    "import optuna\n",
    "sys.path.append('../app/utils')\n",
    "\n",
    "from get_test import get_test\n",
    "from metrics import precision_at_k\n",
    "from scipy.sparse import load_npz, save_npz\n",
    "from scipy.sparse import csr_matrix\n",
    "from implicit.als import AlternatingLeastSquares"
   ]
  },
  {
   "cell_type": "code",
   "execution_count": 2,
   "id": "aef0cadf-9f4a-4d41-9249-c9789e0c0c95",
   "metadata": {
    "tags": []
   },
   "outputs": [],
   "source": [
    "datasets_path = Path.cwd().parent / 'datasets'"
   ]
  },
  {
   "cell_type": "code",
   "execution_count": 3,
   "id": "69f4fee3-010c-4c74-9b38-802bcb57f6e9",
   "metadata": {
    "tags": []
   },
   "outputs": [],
   "source": [
    "data_path = Path.cwd().parent / 'app' / 'data'"
   ]
  },
  {
   "cell_type": "code",
   "execution_count": 4,
   "id": "0aeba616-41df-4a59-abb2-ff18067456bc",
   "metadata": {
    "tags": []
   },
   "outputs": [],
   "source": [
    "test = pd.read_csv(datasets_path / 'test.csv.zip', compression='zip')\n",
    "result = test.groupby('user_id')['song'].unique().reset_index().rename(columns={'song': 'actual'})"
   ]
  },
  {
   "cell_type": "code",
   "execution_count": 21,
   "id": "8d98ac50-032e-4c40-aa8a-71c259955198",
   "metadata": {
    "tags": []
   },
   "outputs": [],
   "source": [
    "user_item_matrix = load_npz(data_path / 'train_user_item_matrix.npz')\n",
    "user_item_matrix = user_item_matrix.astype('float').tocsr()"
   ]
  },
  {
   "cell_type": "code",
   "execution_count": 22,
   "id": "120eff18-baae-4ec1-ad95-81227bc6020e",
   "metadata": {
    "tags": []
   },
   "outputs": [
    {
     "data": {
      "text/plain": [
       "(13607, 10000)"
      ]
     },
     "execution_count": 22,
     "metadata": {},
     "output_type": "execute_result"
    }
   ],
   "source": [
    "user_item_matrix.shape"
   ]
  },
  {
   "cell_type": "code",
   "execution_count": 23,
   "id": "4305d272-ba96-4f79-82c9-8b36d3fe3787",
   "metadata": {
    "tags": []
   },
   "outputs": [],
   "source": [
    "with open(data_path / 'userids.pkl', 'rb') as f:\n",
    "    userids = pickle.load(f)\n",
    "\n",
    "with open(data_path / 'itemids.pkl', 'rb') as f:\n",
    "    itemids = pickle.load(f)\n",
    "\n",
    "userid_to_id = {user_id: idx for idx, user_id in enumerate(userids)}\n",
    "id_to_userid = {val: key for key, val in userid_to_id.items()}\n",
    "\n",
    "item_to_id = {item_id: idx for idx, item_id in enumerate(itemids)}\n",
    "id_to_item = {val: key for key, val in item_to_id.items()}"
   ]
  },
  {
   "cell_type": "code",
   "execution_count": 24,
   "id": "8827a585-46aa-4feb-8da9-f5401be241ae",
   "metadata": {
    "tags": []
   },
   "outputs": [],
   "source": [
    "def get_recommendations(model, user_id, user_items_matrix=user_item_matrix, n=5, *args, **kwargs):\n",
    "    user_index = userid_to_id[user_id]\n",
    "    recs = model.recommend(\n",
    "        userid=user_index, \n",
    "        user_items=user_items_matrix[user_index],\n",
    "        N=n, # кол-во рекомендаций    \n",
    "        filter_already_liked_items=False,   \n",
    "        filter_items=None,   \n",
    "        recalculate_user=False, \n",
    "        **kwargs\n",
    "    )\n",
    "    \n",
    "    return [id_to_item[rec] for rec in recs[0]]"
   ]
  },
  {
   "cell_type": "code",
   "execution_count": 9,
   "id": "e0d92190-6746-41f8-b2f0-0e8c8e6b9a9f",
   "metadata": {
    "tags": []
   },
   "outputs": [],
   "source": [
    "with open('../app/models/als_100.pkl', 'rb') as f:\n",
    "    als = pickle.load(f)"
   ]
  },
  {
   "cell_type": "code",
   "execution_count": 36,
   "id": "3b21b230-929c-4cef-a96a-b5cdddd0e519",
   "metadata": {
    "tags": []
   },
   "outputs": [],
   "source": [
    "# 1. Define an objective function to be maximized.\n",
    "def objective(trial):\n",
    "    # 2. Suggest values for the hyperparameters using a trial object.\n",
    "    factors = trial.suggest_int('factors', 50, 150)\n",
    "    regularization =  trial.suggest_float('regularization', 0.001, 0.1)\n",
    "    als = AlternatingLeastSquares(factors=factors, regularization=regularization, iterations=15)\n",
    "    als.fit(user_item_matrix, show_progress=False)\n",
    "    \n",
    "    result['als'] = result['user_id'].apply(lambda x: get_recommendations(als, x, n=20))\n",
    "    precision_at_5 = result.apply(lambda row: precision_at_k(row['actual'], row['als'], k=20), axis=1).mean()\n",
    "    \n",
    "    return precision_at_5"
   ]
  },
  {
   "cell_type": "code",
   "execution_count": 37,
   "id": "955bc43a-6f1e-4954-b272-44d98cca3fbd",
   "metadata": {
    "tags": []
   },
   "outputs": [
    {
     "name": "stderr",
     "output_type": "stream",
     "text": [
      "\u001b[32m[I 2023-03-04 13:44:17,766]\u001b[0m A new study created in memory with name: no-name-b60dbeb9-50eb-45bb-86e2-57ffe30c6725\u001b[0m\n",
      "\u001b[32m[I 2023-03-04 13:44:38,186]\u001b[0m Trial 0 finished with value: 0.08985816124053796 and parameters: {'factors': 105, 'regularization': 0.00745494172750023}. Best is trial 0 with value: 0.08985816124053796.\u001b[0m\n",
      "\u001b[32m[I 2023-03-04 13:45:00,738]\u001b[0m Trial 1 finished with value: 0.08901668258984347 and parameters: {'factors': 95, 'regularization': 0.09901910758006442}. Best is trial 0 with value: 0.08985816124053796.\u001b[0m\n",
      "\u001b[32m[I 2023-03-04 13:45:17,652]\u001b[0m Trial 2 finished with value: 0.08661350775336225 and parameters: {'factors': 75, 'regularization': 0.054581462545222045}. Best is trial 0 with value: 0.08985816124053796.\u001b[0m\n",
      "\u001b[32m[I 2023-03-04 13:45:37,795]\u001b[0m Trial 3 finished with value: 0.08958256779598736 and parameters: {'factors': 102, 'regularization': 0.09166240422707347}. Best is trial 0 with value: 0.08985816124053796.\u001b[0m\n",
      "\u001b[32m[I 2023-03-04 13:45:56,611]\u001b[0m Trial 4 finished with value: 0.08387227162489895 and parameters: {'factors': 63, 'regularization': 0.07559734753418831}. Best is trial 0 with value: 0.08985816124053796.\u001b[0m\n",
      "\u001b[32m[I 2023-03-04 13:46:16,486]\u001b[0m Trial 5 finished with value: 0.08733005070919381 and parameters: {'factors': 82, 'regularization': 0.022593255645765416}. Best is trial 0 with value: 0.08985816124053796.\u001b[0m\n",
      "\u001b[32m[I 2023-03-04 13:46:40,247]\u001b[0m Trial 6 finished with value: 0.0901705004776953 and parameters: {'factors': 117, 'regularization': 0.06705461701975833}. Best is trial 6 with value: 0.0901705004776953.\u001b[0m\n",
      "\u001b[32m[I 2023-03-04 13:47:01,764]\u001b[0m Trial 7 finished with value: 0.09058940251341221 and parameters: {'factors': 144, 'regularization': 0.04066812458214948}. Best is trial 7 with value: 0.09058940251341221.\u001b[0m\n",
      "\u001b[32m[I 2023-03-04 13:47:21,221]\u001b[0m Trial 8 finished with value: 0.08830748879253325 and parameters: {'factors': 90, 'regularization': 0.03148829976102644}. Best is trial 7 with value: 0.09058940251341221.\u001b[0m\n",
      "\u001b[32m[I 2023-03-04 13:47:46,534]\u001b[0m Trial 9 finished with value: 0.09075843315940327 and parameters: {'factors': 143, 'regularization': 0.036842663416970234}. Best is trial 9 with value: 0.09075843315940327.\u001b[0m\n",
      "\u001b[32m[I 2023-03-04 13:48:09,270]\u001b[0m Trial 10 finished with value: 0.09083559932387741 and parameters: {'factors': 150, 'regularization': 0.04984036451541832}. Best is trial 10 with value: 0.09083559932387741.\u001b[0m\n",
      "\u001b[32m[I 2023-03-04 13:48:31,466]\u001b[0m Trial 11 finished with value: 0.09088704343352687 and parameters: {'factors': 145, 'regularization': 0.04532311039366558}. Best is trial 11 with value: 0.09088704343352687.\u001b[0m\n",
      "\u001b[32m[I 2023-03-04 13:48:50,194]\u001b[0m Trial 12 finished with value: 0.09055265672080548 and parameters: {'factors': 128, 'regularization': 0.05313392032090443}. Best is trial 11 with value: 0.09088704343352687.\u001b[0m\n",
      "\u001b[32m[I 2023-03-04 13:49:13,282]\u001b[0m Trial 13 finished with value: 0.09119203351216285 and parameters: {'factors': 150, 'regularization': 0.050983849624629776}. Best is trial 13 with value: 0.09119203351216285.\u001b[0m\n",
      "\u001b[32m[I 2023-03-04 13:49:32,408]\u001b[0m Trial 14 finished with value: 0.09086499595796282 and parameters: {'factors': 129, 'regularization': 0.0669196054508012}. Best is trial 13 with value: 0.09119203351216285.\u001b[0m\n",
      "\u001b[32m[I 2023-03-04 13:49:52,767]\u001b[0m Trial 15 finished with value: 0.09058205335489088 and parameters: {'factors': 132, 'regularization': 0.02160945784429689}. Best is trial 13 with value: 0.09119203351216285.\u001b[0m\n",
      "\u001b[32m[I 2023-03-04 13:50:17,068]\u001b[0m Trial 16 finished with value: 0.09032115822738296 and parameters: {'factors': 115, 'regularization': 0.04538569777123958}. Best is trial 13 with value: 0.09119203351216285.\u001b[0m\n",
      "\u001b[32m[I 2023-03-04 13:50:34,332]\u001b[0m Trial 17 finished with value: 0.08149849342250312 and parameters: {'factors': 53, 'regularization': 0.06057748773819131}. Best is trial 13 with value: 0.09119203351216285.\u001b[0m\n",
      "\u001b[32m[I 2023-03-04 13:50:56,249]\u001b[0m Trial 18 finished with value: 0.09072536194605718 and parameters: {'factors': 137, 'regularization': 0.045999057475915456}. Best is trial 13 with value: 0.09119203351216285.\u001b[0m\n",
      "\u001b[32m[I 2023-03-04 13:51:20,347]\u001b[0m Trial 19 finished with value: 0.09045711766002794 and parameters: {'factors': 119, 'regularization': 0.030245665431902588}. Best is trial 13 with value: 0.09119203351216285.\u001b[0m\n",
      "\u001b[32m[I 2023-03-04 13:51:44,109]\u001b[0m Trial 20 finished with value: 0.09065554494010437 and parameters: {'factors': 150, 'regularization': 0.07698694897658948}. Best is trial 13 with value: 0.09119203351216285.\u001b[0m\n",
      "\u001b[32m[I 2023-03-04 13:52:09,842]\u001b[0m Trial 21 finished with value: 0.09075108400088189 and parameters: {'factors': 127, 'regularization': 0.06484361362388377}. Best is trial 13 with value: 0.09119203351216285.\u001b[0m\n",
      "\u001b[32m[I 2023-03-04 13:52:34,064]\u001b[0m Trial 22 finished with value: 0.09076210773866392 and parameters: {'factors': 139, 'regularization': 0.05721884954182015}. Best is trial 13 with value: 0.09119203351216285.\u001b[0m\n",
      "\u001b[32m[I 2023-03-04 13:52:59,900]\u001b[0m Trial 23 finished with value: 0.09078782979348865 and parameters: {'factors': 125, 'regularization': 0.07008317804263625}. Best is trial 13 with value: 0.09119203351216285.\u001b[0m\n",
      "\u001b[32m[I 2023-03-04 13:53:20,582]\u001b[0m Trial 24 finished with value: 0.0910266774454325 and parameters: {'factors': 136, 'regularization': 0.059830309594324796}. Best is trial 13 with value: 0.09119203351216285.\u001b[0m\n",
      "\u001b[32m[I 2023-03-04 13:53:41,058]\u001b[0m Trial 25 finished with value: 0.09071801278753583 and parameters: {'factors': 137, 'regularization': 0.04770810751540373}. Best is trial 13 with value: 0.09119203351216285.\u001b[0m\n",
      "\u001b[32m[I 2023-03-04 13:54:06,506]\u001b[0m Trial 26 finished with value: 0.09103035202469317 and parameters: {'factors': 147, 'regularization': 0.056881862681982705}. Best is trial 13 with value: 0.09119203351216285.\u001b[0m\n",
      "\u001b[32m[I 2023-03-04 13:54:30,449]\u001b[0m Trial 27 finished with value: 0.0906077754097156 and parameters: {'factors': 135, 'regularization': 0.05943313364372541}. Best is trial 13 with value: 0.09119203351216285.\u001b[0m\n",
      "\u001b[32m[I 2023-03-04 13:54:52,029]\u001b[0m Trial 28 finished with value: 0.0898214154479312 and parameters: {'factors': 110, 'regularization': 0.05331544838375907}. Best is trial 13 with value: 0.09119203351216285.\u001b[0m\n",
      "\u001b[32m[I 2023-03-04 13:55:17,633]\u001b[0m Trial 29 finished with value: 0.09053795840376277 and parameters: {'factors': 150, 'regularization': 0.05968198973871509}. Best is trial 13 with value: 0.09119203351216285.\u001b[0m\n",
      "\u001b[32m[I 2023-03-04 13:55:39,119]\u001b[0m Trial 30 finished with value: 0.08976997133828177 and parameters: {'factors': 107, 'regularization': 0.07517490351623005}. Best is trial 13 with value: 0.09119203351216285.\u001b[0m\n",
      "\u001b[32m[I 2023-03-04 13:56:04,971]\u001b[0m Trial 31 finished with value: 0.09082825016535608 and parameters: {'factors': 143, 'regularization': 0.04183285234168846}. Best is trial 13 with value: 0.09119203351216285.\u001b[0m\n",
      "\u001b[32m[I 2023-03-04 13:56:30,738]\u001b[0m Trial 32 finished with value: 0.0907657823179246 and parameters: {'factors': 146, 'regularization': 0.05021268255659651}. Best is trial 13 with value: 0.09119203351216285.\u001b[0m\n",
      "\u001b[32m[I 2023-03-04 13:56:52,116]\u001b[0m Trial 33 finished with value: 0.09078782979348865 and parameters: {'factors': 141, 'regularization': 0.05427785767470804}. Best is trial 13 with value: 0.09119203351216285.\u001b[0m\n",
      "\u001b[32m[I 2023-03-04 13:57:16,360]\u001b[0m Trial 34 finished with value: 0.09084662306165944 and parameters: {'factors': 122, 'regularization': 0.04283861127128891}. Best is trial 13 with value: 0.09119203351216285.\u001b[0m\n",
      "\u001b[32m[I 2023-03-04 13:57:41,019]\u001b[0m Trial 35 finished with value: 0.09066289409862571 and parameters: {'factors': 134, 'regularization': 0.062394402714392505}. Best is trial 13 with value: 0.09119203351216285.\u001b[0m\n",
      "\u001b[32m[I 2023-03-04 13:58:01,060]\u001b[0m Trial 36 finished with value: 0.08913794370544573 and parameters: {'factors': 99, 'regularization': 0.05511344779479645}. Best is trial 13 with value: 0.09119203351216285.\u001b[0m\n",
      "\u001b[32m[I 2023-03-04 13:58:23,665]\u001b[0m Trial 37 finished with value: 0.09071433820827517 and parameters: {'factors': 148, 'regularization': 0.05015616608373818}. Best is trial 13 with value: 0.09119203351216285.\u001b[0m\n",
      "\u001b[32m[I 2023-03-04 13:58:39,909]\u001b[0m Trial 38 finished with value: 0.0856066730359374 and parameters: {'factors': 70, 'regularization': 0.03676871370608889}. Best is trial 13 with value: 0.09119203351216285.\u001b[0m\n",
      "\u001b[32m[I 2023-03-04 13:59:07,670]\u001b[0m Trial 39 finished with value: 0.08817887851840964 and parameters: {'factors': 89, 'regularization': 0.07100061829585082}. Best is trial 13 with value: 0.09119203351216285.\u001b[0m\n",
      "\u001b[32m[I 2023-03-04 13:59:40,386]\u001b[0m Trial 40 finished with value: 0.09092011464687294 and parameters: {'factors': 142, 'regularization': 0.08782255856227819}. Best is trial 13 with value: 0.09119203351216285.\u001b[0m\n",
      "\u001b[32m[I 2023-03-04 14:00:06,893]\u001b[0m Trial 41 finished with value: 0.09085029764092012 and parameters: {'factors': 141, 'regularization': 0.0891295534671278}. Best is trial 13 with value: 0.09119203351216285.\u001b[0m\n",
      "\u001b[32m[I 2023-03-04 14:00:32,225]\u001b[0m Trial 42 finished with value: 0.09069963989123246 and parameters: {'factors': 144, 'regularization': 0.08349121155544266}. Best is trial 13 with value: 0.09119203351216285.\u001b[0m\n",
      "\u001b[32m[I 2023-03-04 14:00:55,951]\u001b[0m Trial 43 finished with value: 0.09077313147644596 and parameters: {'factors': 133, 'regularization': 0.0959179984192717}. Best is trial 13 with value: 0.09119203351216285.\u001b[0m\n",
      "\u001b[32m[I 2023-03-04 14:01:17,847]\u001b[0m Trial 44 finished with value: 0.09063349746454032 and parameters: {'factors': 144, 'regularization': 0.09972521691144208}. Best is trial 13 with value: 0.09119203351216285.\u001b[0m\n",
      "\u001b[32m[I 2023-03-04 14:01:42,745]\u001b[0m Trial 45 finished with value: 0.09070331447049314 and parameters: {'factors': 139, 'regularization': 0.06277297397661145}. Best is trial 13 with value: 0.09119203351216285.\u001b[0m\n",
      "\u001b[32m[I 2023-03-04 14:02:07,329]\u001b[0m Trial 46 finished with value: 0.09078415521422797 and parameters: {'factors': 131, 'regularization': 0.08167888586153384}. Best is trial 13 with value: 0.09119203351216285.\u001b[0m\n",
      "\u001b[32m[I 2023-03-04 14:02:33,194]\u001b[0m Trial 47 finished with value: 0.09081722642757405 and parameters: {'factors': 146, 'regularization': 0.06582312091501905}. Best is trial 13 with value: 0.09119203351216285.\u001b[0m\n",
      "\u001b[32m[I 2023-03-04 14:02:59,638]\u001b[0m Trial 48 finished with value: 0.09060042625119426 and parameters: {'factors': 124, 'regularization': 0.055618486433963846}. Best is trial 13 with value: 0.09119203351216285.\u001b[0m\n",
      "\u001b[32m[I 2023-03-04 14:03:22,487]\u001b[0m Trial 49 finished with value: 0.09033953112368634 and parameters: {'factors': 115, 'regularization': 0.046374486849442204}. Best is trial 13 with value: 0.09119203351216285.\u001b[0m\n",
      "\u001b[32m[I 2023-03-04 14:03:48,760]\u001b[0m Trial 50 finished with value: 0.09078415521422799 and parameters: {'factors': 147, 'regularization': 0.05134150244419903}. Best is trial 13 with value: 0.09119203351216285.\u001b[0m\n",
      "\u001b[32m[I 2023-03-04 14:04:13,076]\u001b[0m Trial 51 finished with value: 0.09040567355037848 and parameters: {'factors': 131, 'regularization': 0.06870348313811293}. Best is trial 13 with value: 0.09119203351216285.\u001b[0m\n",
      "\u001b[32m[I 2023-03-04 14:04:32,485]\u001b[0m Trial 52 finished with value: 0.09071801278753583 and parameters: {'factors': 129, 'regularization': 0.05950423836076131}. Best is trial 13 with value: 0.09119203351216285.\u001b[0m\n",
      "\u001b[32m[I 2023-03-04 14:04:54,175]\u001b[0m Trial 53 finished with value: 0.09075843315940324 and parameters: {'factors': 137, 'regularization': 0.06790327412351274}. Best is trial 13 with value: 0.09119203351216285.\u001b[0m\n",
      "\u001b[32m[I 2023-03-04 14:05:17,390]\u001b[0m Trial 54 finished with value: 0.09074740942162124 and parameters: {'factors': 150, 'regularization': 0.06371333682117312}. Best is trial 13 with value: 0.09119203351216285.\u001b[0m\n",
      "\u001b[32m[I 2023-03-04 14:05:39,661]\u001b[0m Trial 55 finished with value: 0.09035055486146837 and parameters: {'factors': 120, 'regularization': 0.057483313785586264}. Best is trial 13 with value: 0.09119203351216285.\u001b[0m\n",
      "\u001b[32m[I 2023-03-04 14:06:00,884]\u001b[0m Trial 56 finished with value: 0.09070331447049314 and parameters: {'factors': 140, 'regularization': 0.07281363026886567}. Best is trial 13 with value: 0.09119203351216285.\u001b[0m\n",
      "\u001b[32m[I 2023-03-04 14:06:27,575]\u001b[0m Trial 57 finished with value: 0.09085029764092012 and parameters: {'factors': 143, 'regularization': 0.06546298734306263}. Best is trial 13 with value: 0.09119203351216285.\u001b[0m\n",
      "\u001b[32m[I 2023-03-04 14:06:51,797]\u001b[0m Trial 58 finished with value: 0.09108179613434263 and parameters: {'factors': 135, 'regularization': 0.04838107097356074}. Best is trial 13 with value: 0.09119203351216285.\u001b[0m\n",
      "\u001b[32m[I 2023-03-04 14:07:15,285]\u001b[0m Trial 59 finished with value: 0.09078415521422799 and parameters: {'factors': 136, 'regularization': 0.03756001583808689}. Best is trial 13 with value: 0.09119203351216285.\u001b[0m\n",
      "\u001b[32m[I 2023-03-04 14:07:35,701]\u001b[0m Trial 60 finished with value: 0.0873447490262365 and parameters: {'factors': 81, 'regularization': 0.0473629772873273}. Best is trial 13 with value: 0.09119203351216285.\u001b[0m\n",
      "\u001b[32m[I 2023-03-04 14:08:02,924]\u001b[0m Trial 61 finished with value: 0.09078415521422797 and parameters: {'factors': 126, 'regularization': 0.05142959733951667}. Best is trial 13 with value: 0.09119203351216285.\u001b[0m\n",
      "\u001b[32m[I 2023-03-04 14:08:25,802]\u001b[0m Trial 62 finished with value: 0.09072903652531786 and parameters: {'factors': 140, 'regularization': 0.05788228425572714}. Best is trial 13 with value: 0.09119203351216285.\u001b[0m\n",
      "\u001b[32m[I 2023-03-04 14:08:51,026]\u001b[0m Trial 63 finished with value: 0.09072903652531786 and parameters: {'factors': 134, 'regularization': 0.053294462625085345}. Best is trial 13 with value: 0.09119203351216285.\u001b[0m\n",
      "\u001b[32m[I 2023-03-04 14:09:17,438]\u001b[0m Trial 64 finished with value: 0.09104505034173588 and parameters: {'factors': 146, 'regularization': 0.044918346392989805}. Best is trial 13 with value: 0.09119203351216285.\u001b[0m\n",
      "\u001b[32m[I 2023-03-04 14:09:43,614]\u001b[0m Trial 65 finished with value: 0.09083559932387741 and parameters: {'factors': 146, 'regularization': 0.04505304373284336}. Best is trial 13 with value: 0.09119203351216285.\u001b[0m\n",
      "\u001b[32m[I 2023-03-04 14:10:07,447]\u001b[0m Trial 66 finished with value: 0.09067024325714705 and parameters: {'factors': 150, 'regularization': 0.04220846180185095}. Best is trial 13 with value: 0.09119203351216285.\u001b[0m\n",
      "\u001b[32m[I 2023-03-04 14:10:32,311]\u001b[0m Trial 67 finished with value: 0.09057837877563019 and parameters: {'factors': 142, 'regularization': 0.049202809321827926}. Best is trial 13 with value: 0.09119203351216285.\u001b[0m\n",
      "\u001b[32m[I 2023-03-04 14:11:00,891]\u001b[0m Trial 68 finished with value: 0.09073638568383921 and parameters: {'factors': 147, 'regularization': 0.04387738882889229}. Best is trial 13 with value: 0.09119203351216285.\u001b[0m\n",
      "\u001b[32m[I 2023-03-04 14:11:25,437]\u001b[0m Trial 69 finished with value: 0.09051958550745942 and parameters: {'factors': 138, 'regularization': 0.04759949751550941}. Best is trial 13 with value: 0.09119203351216285.\u001b[0m\n",
      "\u001b[32m[I 2023-03-04 14:11:47,026]\u001b[0m Trial 70 finished with value: 0.09087234511648416 and parameters: {'factors': 145, 'regularization': 0.04046580406198584}. Best is trial 13 with value: 0.09119203351216285.\u001b[0m\n",
      "\u001b[32m[I 2023-03-04 14:12:10,953]\u001b[0m Trial 71 finished with value: 0.09081355184831337 and parameters: {'factors': 145, 'regularization': 0.039703753725178134}. Best is trial 13 with value: 0.09119203351216285.\u001b[0m\n",
      "\u001b[32m[I 2023-03-04 14:12:33,125]\u001b[0m Trial 72 finished with value: 0.09095318586021901 and parameters: {'factors': 148, 'regularization': 0.05241632637538511}. Best is trial 13 with value: 0.09119203351216285.\u001b[0m\n",
      "\u001b[32m[I 2023-03-04 14:12:55,801]\u001b[0m Trial 73 finished with value: 0.09074740942162123 and parameters: {'factors': 148, 'regularization': 0.05508025448226849}. Best is trial 13 with value: 0.09119203351216285.\u001b[0m\n",
      "\u001b[32m[I 2023-03-04 14:13:19,549]\u001b[0m Trial 74 finished with value: 0.09062614830601896 and parameters: {'factors': 141, 'regularization': 0.05193450509340541}. Best is trial 13 with value: 0.09119203351216285.\u001b[0m\n",
      "\u001b[32m[I 2023-03-04 14:13:46,770]\u001b[0m Trial 75 finished with value: 0.09052326008672007 and parameters: {'factors': 136, 'regularization': 0.061753959148422286}. Best is trial 13 with value: 0.09119203351216285.\u001b[0m\n",
      "\u001b[32m[I 2023-03-04 14:14:05,260]\u001b[0m Trial 76 finished with value: 0.08086279121040642 and parameters: {'factors': 50, 'regularization': 0.048798995597203625}. Best is trial 13 with value: 0.09119203351216285.\u001b[0m\n",
      "\u001b[32m[I 2023-03-04 14:14:32,744]\u001b[0m Trial 77 finished with value: 0.09082825016535608 and parameters: {'factors': 149, 'regularization': 0.045060762305982056}. Best is trial 13 with value: 0.09119203351216285.\u001b[0m\n",
      "\u001b[32m[I 2023-03-04 14:15:01,809]\u001b[0m Trial 78 finished with value: 0.09081355184831337 and parameters: {'factors': 143, 'regularization': 0.0568794170006792}. Best is trial 13 with value: 0.09119203351216285.\u001b[0m\n",
      "\u001b[32m[I 2023-03-04 14:15:26,817]\u001b[0m Trial 79 finished with value: 0.09086499595796282 and parameters: {'factors': 131, 'regularization': 0.05379464269612831}. Best is trial 13 with value: 0.09119203351216285.\u001b[0m\n",
      "\u001b[32m[I 2023-03-04 14:15:57,015]\u001b[0m Trial 80 finished with value: 0.0907069890497538 and parameters: {'factors': 139, 'regularization': 0.034852134857244824}. Best is trial 13 with value: 0.09119203351216285.\u001b[0m\n",
      "\u001b[32m[I 2023-03-04 14:16:26,496]\u001b[0m Trial 81 finished with value: 0.09072536194605718 and parameters: {'factors': 145, 'regularization': 0.042613641578308124}. Best is trial 13 with value: 0.09119203351216285.\u001b[0m\n",
      "\u001b[32m[I 2023-03-04 14:16:49,025]\u001b[0m Trial 82 finished with value: 0.08346806790622474 and parameters: {'factors': 60, 'regularization': 0.0503780417928179}. Best is trial 13 with value: 0.09119203351216285.\u001b[0m\n",
      "\u001b[32m[I 2023-03-04 14:17:18,699]\u001b[0m Trial 83 finished with value: 0.09048283971485266 and parameters: {'factors': 147, 'regularization': 0.04044715757312468}. Best is trial 13 with value: 0.09119203351216285.\u001b[0m\n",
      "\u001b[32m[I 2023-03-04 14:17:48,784]\u001b[0m Trial 84 finished with value: 0.09083192474461675 and parameters: {'factors': 143, 'regularization': 0.04581494705722357}. Best is trial 13 with value: 0.09119203351216285.\u001b[0m\n",
      "\u001b[32m[I 2023-03-04 14:18:17,638]\u001b[0m Trial 85 finished with value: 0.0908980671713089 and parameters: {'factors': 150, 'regularization': 0.04823686079329751}. Best is trial 13 with value: 0.09119203351216285.\u001b[0m\n",
      "\u001b[32m[I 2023-03-04 14:18:46,091]\u001b[0m Trial 86 finished with value: 0.09090174175056957 and parameters: {'factors': 150, 'regularization': 0.06085711390507284}. Best is trial 13 with value: 0.09119203351216285.\u001b[0m\n",
      "\u001b[32m[I 2023-03-04 14:19:12,605]\u001b[0m Trial 87 finished with value: 0.09069963989123246 and parameters: {'factors': 149, 'regularization': 0.06152229052607129}. Best is trial 13 with value: 0.09119203351216285.\u001b[0m\n",
      "\u001b[32m[I 2023-03-04 14:19:40,223]\u001b[0m Trial 88 finished with value: 0.09093848754317631 and parameters: {'factors': 150, 'regularization': 0.05977204233589634}. Best is trial 13 with value: 0.09119203351216285.\u001b[0m\n",
      "\u001b[32m[I 2023-03-04 14:20:10,049]\u001b[0m Trial 89 finished with value: 0.09086867053722349 and parameters: {'factors': 142, 'regularization': 0.0580132050582626}. Best is trial 13 with value: 0.09119203351216285.\u001b[0m\n",
      "\u001b[32m[I 2023-03-04 14:20:37,613]\u001b[0m Trial 90 finished with value: 0.09077313147644596 and parameters: {'factors': 138, 'regularization': 0.06300681738143754}. Best is trial 13 with value: 0.09119203351216285.\u001b[0m\n",
      "\u001b[32m[I 2023-03-04 14:21:07,547]\u001b[0m Trial 91 finished with value: 0.09096788417726172 and parameters: {'factors': 150, 'regularization': 0.054878324262683714}. Best is trial 13 with value: 0.09119203351216285.\u001b[0m\n",
      "\u001b[32m[I 2023-03-04 14:21:35,722]\u001b[0m Trial 92 finished with value: 0.09073638568383921 and parameters: {'factors': 147, 'regularization': 0.05575765881640019}. Best is trial 13 with value: 0.09119203351216285.\u001b[0m\n",
      "\u001b[32m[I 2023-03-04 14:22:05,934]\u001b[0m Trial 93 finished with value: 0.09074740942162124 and parameters: {'factors': 150, 'regularization': 0.05950427753453141}. Best is trial 13 with value: 0.09119203351216285.\u001b[0m\n",
      "\u001b[32m[I 2023-03-04 14:22:31,201]\u001b[0m Trial 94 finished with value: 0.09096420959800103 and parameters: {'factors': 145, 'regularization': 0.05267900563199588}. Best is trial 13 with value: 0.09119203351216285.\u001b[0m\n",
      "\u001b[32m[I 2023-03-04 14:22:56,678]\u001b[0m Trial 95 finished with value: 0.0907069890497538 and parameters: {'factors': 135, 'regularization': 0.05294434613359413}. Best is trial 13 with value: 0.09119203351216285.\u001b[0m\n",
      "\u001b[32m[I 2023-03-04 14:23:23,754]\u001b[0m Trial 96 finished with value: 0.09068861615345043 and parameters: {'factors': 141, 'regularization': 0.06454998150450102}. Best is trial 13 with value: 0.09119203351216285.\u001b[0m\n",
      "\u001b[32m[I 2023-03-04 14:23:50,539]\u001b[0m Trial 97 finished with value: 0.09071066362901449 and parameters: {'factors': 144, 'regularization': 0.05544996516067919}. Best is trial 13 with value: 0.09119203351216285.\u001b[0m\n",
      "\u001b[32m[I 2023-03-04 14:24:20,940]\u001b[0m Trial 98 finished with value: 0.09074740942162124 and parameters: {'factors': 147, 'regularization': 0.050995917328093374}. Best is trial 13 with value: 0.09119203351216285.\u001b[0m\n",
      "\u001b[32m[I 2023-03-04 14:24:44,815]\u001b[0m Trial 99 finished with value: 0.08940618799147497 and parameters: {'factors': 103, 'regularization': 0.06681746011318619}. Best is trial 13 with value: 0.09119203351216285.\u001b[0m\n"
     ]
    },
    {
     "name": "stdout",
     "output_type": "stream",
     "text": [
      "CPU times: user 1h 26min 1s, sys: 1h 1min 26s, total: 2h 27min 27s\n",
      "Wall time: 40min 27s\n"
     ]
    }
   ],
   "source": [
    "%%time\n",
    "# 3. Create a study object and optimize the objective function.\n",
    "study = optuna.create_study(direction='maximize')\n",
    "study.optimize(objective, n_trials=100)"
   ]
  },
  {
   "cell_type": "code",
   "execution_count": 38,
   "id": "42e6e535-8c50-4fd6-a554-6165310a5946",
   "metadata": {
    "tags": []
   },
   "outputs": [
    {
     "data": {
      "text/plain": [
       "{'factors': 150, 'regularization': 0.050983849624629776}"
      ]
     },
     "execution_count": 38,
     "metadata": {},
     "output_type": "execute_result"
    }
   ],
   "source": [
    "study.best_params"
   ]
  },
  {
   "cell_type": "code",
   "execution_count": 39,
   "id": "ab2bcbb3-5167-470f-9e4e-806cbca2c456",
   "metadata": {
    "tags": []
   },
   "outputs": [],
   "source": [
    "als = AlternatingLeastSquares(**study.best_params)\n",
    "als.fit(user_item_matrix, show_progress=False)"
   ]
  },
  {
   "cell_type": "code",
   "execution_count": 40,
   "id": "b8dd87ec-b4ae-45a1-8ca0-72cb93a40949",
   "metadata": {
    "tags": []
   },
   "outputs": [],
   "source": [
    "result['als'] = result['user_id'].apply(lambda x: get_recommendations(als, x, n=20))\n",
    "precision_at_20 = result.apply(lambda row: precision_at_k(row['actual'], row['als'], k=20), axis=1).mean()"
   ]
  },
  {
   "cell_type": "code",
   "execution_count": 41,
   "id": "86e7ff7c-5f4e-419e-8e22-1e86871336ab",
   "metadata": {
    "tags": []
   },
   "outputs": [
    {
     "data": {
      "text/plain": [
       "0.09083927390313809"
      ]
     },
     "execution_count": 41,
     "metadata": {},
     "output_type": "execute_result"
    }
   ],
   "source": [
    "precision_at_20"
   ]
  },
  {
   "cell_type": "code",
   "execution_count": 42,
   "id": "f60210b7-2653-4229-8eb3-3ae45b0345ca",
   "metadata": {
    "tags": []
   },
   "outputs": [],
   "source": [
    "result['als_5'] = result['user_id'].apply(lambda x: get_recommendations(als, x))\n",
    "precision_at_5 = result.apply(lambda row: precision_at_k(row['actual'], row['als_5']), axis=1).mean()"
   ]
  },
  {
   "cell_type": "code",
   "execution_count": 43,
   "id": "c99dcab4-510e-44b1-83d6-76f25d1fcc9f",
   "metadata": {
    "tags": []
   },
   "outputs": [
    {
     "data": {
      "text/plain": [
       "0.09999265084147864"
      ]
     },
     "execution_count": 43,
     "metadata": {},
     "output_type": "execute_result"
    }
   ],
   "source": [
    "precision_at_5"
   ]
  },
  {
   "cell_type": "code",
   "execution_count": 34,
   "id": "b3bf72f1-b7a0-41e8-995a-51a66de9e199",
   "metadata": {
    "tags": []
   },
   "outputs": [
    {
     "data": {
      "text/plain": [
       "0.10282942603071947"
      ]
     },
     "execution_count": 34,
     "metadata": {},
     "output_type": "execute_result"
    }
   ],
   "source": [
    "precision_at_5"
   ]
  },
  {
   "cell_type": "code",
   "execution_count": 44,
   "id": "511b49d7-7de8-4dda-a903-f0b368e87ccf",
   "metadata": {
    "tags": []
   },
   "outputs": [],
   "source": [
    "with open('../app/models/als_best_params.pkl', 'wb') as f:\n",
    "    pickle.dump(als, f)"
   ]
  },
  {
   "cell_type": "code",
   "execution_count": null,
   "id": "96e1d46f-b779-47cc-a711-0db5842e5692",
   "metadata": {},
   "outputs": [],
   "source": []
  }
 ],
 "metadata": {
  "kernelspec": {
   "display_name": "Python 3 (ipykernel)",
   "language": "python",
   "name": "python3"
  },
  "language_info": {
   "codemirror_mode": {
    "name": "ipython",
    "version": 3
   },
   "file_extension": ".py",
   "mimetype": "text/x-python",
   "name": "python",
   "nbconvert_exporter": "python",
   "pygments_lexer": "ipython3",
   "version": "3.9.5"
  }
 },
 "nbformat": 4,
 "nbformat_minor": 5
}
