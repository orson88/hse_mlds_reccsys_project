{
 "cells": [
  {
   "cell_type": "code",
   "execution_count": 1,
   "id": "20db5b1f",
   "metadata": {
    "tags": []
   },
   "outputs": [],
   "source": [
    "import sys\n",
    "import json\n",
    "import pickle\n",
    "\n",
    "import pandas as pd\n",
    "import numpy as np\n",
    "from scipy.sparse import csr_matrix, load_npz, save_npz"
   ]
  },
  {
   "cell_type": "code",
   "execution_count": 2,
   "id": "4e5c0960",
   "metadata": {
    "tags": []
   },
   "outputs": [],
   "source": [
    "sys.path.append('../app')"
   ]
  },
  {
   "cell_type": "code",
   "execution_count": 3,
   "id": "794007d9",
   "metadata": {
    "tags": []
   },
   "outputs": [],
   "source": [
    "from models import ALSModel\n",
    "from utils.metrics import precision_at_k, recall_at_k, ap_k, map_k"
   ]
  },
  {
   "cell_type": "code",
   "execution_count": 4,
   "id": "cda96fa0",
   "metadata": {
    "tags": []
   },
   "outputs": [],
   "source": [
    "# test = pd.read_csv('../app/data/test.csv', sep=',')\n",
    "test = pd.read_csv('../datasets/test.csv.zip', sep=',', compression='zip')\n",
    "result = test.groupby('user_id')['song'].unique().reset_index().rename(columns={'song': 'actual'})"
   ]
  },
  {
   "cell_type": "code",
   "execution_count": 5,
   "id": "8e7d6918",
   "metadata": {
    "tags": []
   },
   "outputs": [
    {
     "data": {
      "text/html": [
       "<div>\n",
       "<style scoped>\n",
       "    .dataframe tbody tr th:only-of-type {\n",
       "        vertical-align: middle;\n",
       "    }\n",
       "\n",
       "    .dataframe tbody tr th {\n",
       "        vertical-align: top;\n",
       "    }\n",
       "\n",
       "    .dataframe thead th {\n",
       "        text-align: right;\n",
       "    }\n",
       "</style>\n",
       "<table border=\"1\" class=\"dataframe\">\n",
       "  <thead>\n",
       "    <tr style=\"text-align: right;\">\n",
       "      <th></th>\n",
       "      <th>user_id</th>\n",
       "      <th>actual</th>\n",
       "    </tr>\n",
       "  </thead>\n",
       "  <tbody>\n",
       "    <tr>\n",
       "      <th>0</th>\n",
       "      <td>00055176fea33f6e027cd3302289378b</td>\n",
       "      <td>[Demi Lovato__Give Your Heart A Break, Ed Shee...</td>\n",
       "    </tr>\n",
       "    <tr>\n",
       "      <th>1</th>\n",
       "      <td>0007f3dd09c91198371454c608d47f22</td>\n",
       "      <td>[Ben Howard__Keep Your Head Up, Ed Sheeran__Sm...</td>\n",
       "    </tr>\n",
       "    <tr>\n",
       "      <th>2</th>\n",
       "      <td>000b0f32b5739f052b9d40fcc5c41079</td>\n",
       "      <td>[Lars Winnerbäck__Om du lämnade mig nu]</td>\n",
       "    </tr>\n",
       "    <tr>\n",
       "      <th>3</th>\n",
       "      <td>000c11a16c89aa4b14b328080f5954ee</td>\n",
       "      <td>[Arctic Monkeys__Why'd You Only Call Me When Y...</td>\n",
       "    </tr>\n",
       "    <tr>\n",
       "      <th>4</th>\n",
       "      <td>00123e0f544dee3ab006aa7f1e5725a7</td>\n",
       "      <td>[Foster The People__Don't Stop (Color on the W...</td>\n",
       "    </tr>\n",
       "    <tr>\n",
       "      <th>...</th>\n",
       "      <td>...</td>\n",
       "      <td>...</td>\n",
       "    </tr>\n",
       "    <tr>\n",
       "      <th>13602</th>\n",
       "      <td>ffe32d5412269f3041c58cbf0dde3306</td>\n",
       "      <td>[U2__Even Better Than The Real Thing]</td>\n",
       "    </tr>\n",
       "    <tr>\n",
       "      <th>13603</th>\n",
       "      <td>ffec270eae226caa14ddaef291d73fff</td>\n",
       "      <td>[Afrojack__Ten Feet Tall]</td>\n",
       "    </tr>\n",
       "    <tr>\n",
       "      <th>13604</th>\n",
       "      <td>fff60baf392613ed33f745b89a9b38f7</td>\n",
       "      <td>[Belinda Carlisle__Heaven Is A Place On Earth,...</td>\n",
       "    </tr>\n",
       "    <tr>\n",
       "      <th>13605</th>\n",
       "      <td>fff616055993498d6127f3f467cf9f2b</td>\n",
       "      <td>[Metric__Help I'm Alive, The Smiths__Asleep (2...</td>\n",
       "    </tr>\n",
       "    <tr>\n",
       "      <th>13606</th>\n",
       "      <td>fff77dadf8528083c920b9c018847e8b</td>\n",
       "      <td>[Britney Spears__Circus, Phoenix__Everything I...</td>\n",
       "    </tr>\n",
       "  </tbody>\n",
       "</table>\n",
       "<p>13607 rows × 2 columns</p>\n",
       "</div>"
      ],
      "text/plain": [
       "                                user_id  \\\n",
       "0      00055176fea33f6e027cd3302289378b   \n",
       "1      0007f3dd09c91198371454c608d47f22   \n",
       "2      000b0f32b5739f052b9d40fcc5c41079   \n",
       "3      000c11a16c89aa4b14b328080f5954ee   \n",
       "4      00123e0f544dee3ab006aa7f1e5725a7   \n",
       "...                                 ...   \n",
       "13602  ffe32d5412269f3041c58cbf0dde3306   \n",
       "13603  ffec270eae226caa14ddaef291d73fff   \n",
       "13604  fff60baf392613ed33f745b89a9b38f7   \n",
       "13605  fff616055993498d6127f3f467cf9f2b   \n",
       "13606  fff77dadf8528083c920b9c018847e8b   \n",
       "\n",
       "                                                  actual  \n",
       "0      [Demi Lovato__Give Your Heart A Break, Ed Shee...  \n",
       "1      [Ben Howard__Keep Your Head Up, Ed Sheeran__Sm...  \n",
       "2                [Lars Winnerbäck__Om du lämnade mig nu]  \n",
       "3      [Arctic Monkeys__Why'd You Only Call Me When Y...  \n",
       "4      [Foster The People__Don't Stop (Color on the W...  \n",
       "...                                                  ...  \n",
       "13602              [U2__Even Better Than The Real Thing]  \n",
       "13603                          [Afrojack__Ten Feet Tall]  \n",
       "13604  [Belinda Carlisle__Heaven Is A Place On Earth,...  \n",
       "13605  [Metric__Help I'm Alive, The Smiths__Asleep (2...  \n",
       "13606  [Britney Spears__Circus, Phoenix__Everything I...  \n",
       "\n",
       "[13607 rows x 2 columns]"
      ]
     },
     "execution_count": 5,
     "metadata": {},
     "output_type": "execute_result"
    }
   ],
   "source": [
    "result"
   ]
  },
  {
   "cell_type": "code",
   "execution_count": 38,
   "id": "ecf092f6",
   "metadata": {
    "tags": []
   },
   "outputs": [],
   "source": [
    "als_model = ALSModel('als_best_params.pkl')"
   ]
  },
  {
   "cell_type": "code",
   "execution_count": 7,
   "id": "f5657d24",
   "metadata": {
    "tags": []
   },
   "outputs": [],
   "source": [
    "result = result[result['user_id'].isin(als_model.userid_to_id)]"
   ]
  },
  {
   "cell_type": "code",
   "execution_count": 44,
   "id": "90a2eb50",
   "metadata": {
    "tags": []
   },
   "outputs": [],
   "source": [
    "result['als'] = result['user_id'].apply(lambda x: als_model.get_recommendations(x, n=5))"
   ]
  },
  {
   "cell_type": "code",
   "execution_count": 45,
   "id": "164f87ad-3177-4536-abf5-2abd51942253",
   "metadata": {
    "tags": []
   },
   "outputs": [],
   "source": [
    "result['als_20'] = result['user_id'].apply(lambda x: als_model.get_recommendations(x, n=20))"
   ]
  },
  {
   "cell_type": "code",
   "execution_count": 49,
   "id": "38379682",
   "metadata": {
    "tags": []
   },
   "outputs": [],
   "source": [
    "def calculate_metric(metric, col='als', k=5):\n",
    "    return result.apply(lambda row: metric(row['actual'], row[col], k=k), axis=1).mean()"
   ]
  },
  {
   "cell_type": "code",
   "execution_count": 50,
   "id": "c5a7c8b9",
   "metadata": {
    "tags": []
   },
   "outputs": [],
   "source": [
    "metrics = {}\n",
    "for metric_name, metric in zip(('precision_at_5', 'recall_at_5', 'ap_5', 'map_5'), \n",
    "                               (precision_at_k, recall_at_k, ap_k, map_k)):\n",
    "    metrics[metric_name] = calculate_metric(metric)\n",
    "    \n",
    "for metric_name, metric in zip(('precision_at_20', 'recall_at_20', 'ap_20', 'map_20'), \n",
    "                               (precision_at_k, recall_at_k, ap_k, map_k)):\n",
    "    metrics[metric_name] = calculate_metric(metric, col='als_20', k=20)"
   ]
  },
  {
   "cell_type": "code",
   "execution_count": 51,
   "id": "2c5adb39-1150-4c20-aff3-01cacc6fde4d",
   "metadata": {
    "tags": []
   },
   "outputs": [
    {
     "data": {
      "text/plain": [
       "{'precision_at_5': 0.0030719482619240095,\n",
       " 'recall_at_5': 0.0005434621785525629,\n",
       " 'ap_5': 0.0014551333872271626,\n",
       " 'map_5': 0.32837893486195835,\n",
       " 'precision_at_20': 0.0027485852869846405,\n",
       " 'recall_at_20': 0.002029893428875932,\n",
       " 'ap_20': 0.0006770261699178088,\n",
       " 'map_20': 0.22476323202795784}"
      ]
     },
     "execution_count": 51,
     "metadata": {},
     "output_type": "execute_result"
    }
   ],
   "source": [
    "metrics"
   ]
  },
  {
   "cell_type": "code",
   "execution_count": null,
   "id": "454e5af0-ae2c-4b6c-8efb-5f8dc4bc0928",
   "metadata": {},
   "outputs": [],
   "source": []
  },
  {
   "cell_type": "code",
   "execution_count": null,
   "id": "29a15818-9482-41fe-b91f-9290b48af2c0",
   "metadata": {},
   "outputs": [],
   "source": []
  },
  {
   "cell_type": "markdown",
   "id": "13df0a9c-8381-4841-975d-57e2a34060d8",
   "metadata": {},
   "source": [
    "#### base als"
   ]
  },
  {
   "cell_type": "code",
   "execution_count": 23,
   "id": "a427e183-f102-43d2-8493-2c629edc4e2c",
   "metadata": {
    "tags": []
   },
   "outputs": [],
   "source": [
    "als_model = ALSModel('als_100.pkl')"
   ]
  },
  {
   "cell_type": "code",
   "execution_count": 24,
   "id": "c614610a-12be-4110-be56-36821737d456",
   "metadata": {
    "tags": []
   },
   "outputs": [
    {
     "data": {
      "text/plain": [
       "['First Aid Kit__Emmylou',\n",
       " 'Avicii__Wake Me Up',\n",
       " \"First Aid Kit__The Lion's Roar\",\n",
       " 'Veronica Maggio__Jag kommer',\n",
       " 'First Aid Kit__My Silver Lining']"
      ]
     },
     "execution_count": 24,
     "metadata": {},
     "output_type": "execute_result"
    }
   ],
   "source": [
    "als_model.get_recommendations('000b0f32b5739f052b9d40fcc5c41079')"
   ]
  },
  {
   "cell_type": "code",
   "execution_count": 25,
   "id": "1c73d84c-433c-4a54-b20e-20da5f601b32",
   "metadata": {
    "tags": []
   },
   "outputs": [],
   "source": [
    "result['als'] = result['user_id'].apply(lambda x: als_model.get_recommendations(x, n=5))"
   ]
  },
  {
   "cell_type": "code",
   "execution_count": 28,
   "id": "da5b851f-3a77-45b7-98f7-74472ba22c61",
   "metadata": {
    "tags": []
   },
   "outputs": [],
   "source": [
    "metrics = {}\n",
    "for metric_name, metric in zip(('precision_at_5', 'recall_at_5', 'ap_5', 'map_5'), \n",
    "                               (precision_at_k, recall_at_k, ap_k, map_k)):\n",
    "    metrics[metric_name] = calculate_metric(metric)"
   ]
  },
  {
   "cell_type": "code",
   "execution_count": 29,
   "id": "8fb2bce1-b12f-4a7a-8169-942816c77adc",
   "metadata": {
    "tags": []
   },
   "outputs": [
    {
     "data": {
      "text/plain": [
       "{'precision_at_5': 0.10212390681266995,\n",
       " 'recall_at_5': 0.03817604818122016,\n",
       " 'ap_5': 0.02535091256888349,\n",
       " 'map_5': 0.2598869777529553}"
      ]
     },
     "execution_count": 29,
     "metadata": {},
     "output_type": "execute_result"
    }
   ],
   "source": [
    "metrics"
   ]
  },
  {
   "cell_type": "code",
   "execution_count": 31,
   "id": "5a0f267b-1b87-47b0-b5d6-6ee7b9423692",
   "metadata": {
    "tags": []
   },
   "outputs": [],
   "source": [
    "result['als_20'] = result['user_id'].apply(lambda x: als_model.get_recommendations(x, n=20))"
   ]
  },
  {
   "cell_type": "code",
   "execution_count": 36,
   "id": "dda971ad-217a-4611-a3c2-44babb67c727",
   "metadata": {
    "tags": []
   },
   "outputs": [],
   "source": [
    "for metric_name, metric in zip(('precision_at_20', 'recall_at_20', 'ap_20', 'map_20'), \n",
    "                               (precision_at_k, recall_at_k, ap_k, map_k)):\n",
    "    metrics[metric_name] = calculate_metric(metric, col='als_20', k=20)"
   ]
  },
  {
   "cell_type": "code",
   "execution_count": 37,
   "id": "820a9776-f965-4a88-a4ce-75ad217e4795",
   "metadata": {
    "tags": []
   },
   "outputs": [
    {
     "data": {
      "text/plain": [
       "{'precision_at_5': 0.10212390681266995,\n",
       " 'recall_at_5': 0.03817604818122016,\n",
       " 'ap_5': 0.02535091256888349,\n",
       " 'map_5': 0.2598869777529553,\n",
       " 'precision_at_20': 0.089259204821048,\n",
       " 'recall_at_20': 0.1223279525172394,\n",
       " 'ap_20': 0.04573830745996247,\n",
       " 'map_20': 0.2591817789898237}"
      ]
     },
     "execution_count": 37,
     "metadata": {},
     "output_type": "execute_result"
    }
   ],
   "source": [
    "metrics"
   ]
  },
  {
   "cell_type": "code",
   "execution_count": null,
   "id": "148f9625-6fb1-4fc6-8b11-72260ec2dae9",
   "metadata": {},
   "outputs": [],
   "source": []
  }
 ],
 "metadata": {
  "kernelspec": {
   "display_name": "Python 3 (ipykernel)",
   "language": "python",
   "name": "python3"
  },
  "language_info": {
   "codemirror_mode": {
    "name": "ipython",
    "version": 3
   },
   "file_extension": ".py",
   "mimetype": "text/x-python",
   "name": "python",
   "nbconvert_exporter": "python",
   "pygments_lexer": "ipython3",
   "version": "3.9.5"
  }
 },
 "nbformat": 4,
 "nbformat_minor": 5
}
