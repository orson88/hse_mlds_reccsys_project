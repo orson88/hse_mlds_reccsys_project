{
 "cells": [
  {
   "cell_type": "code",
   "execution_count": 1,
   "id": "b09fb869-6d38-4720-9880-72322d45cb8c",
   "metadata": {},
   "outputs": [],
   "source": [
    "import sys\n",
    "import json\n",
    "import pickle\n",
    "\n",
    "import pandas as pd\n",
    "import numpy as np\n",
    "from scipy.sparse import csr_matrix, load_npz, save_npz"
   ]
  },
  {
   "cell_type": "code",
   "execution_count": 2,
   "id": "f355c7b5-099c-46e9-82d2-3378da3dfc36",
   "metadata": {},
   "outputs": [],
   "source": [
    "sys.path.append('../app')"
   ]
  },
  {
   "cell_type": "code",
   "execution_count": 3,
   "id": "b3655431-734b-4539-9f2b-5fc8547304da",
   "metadata": {},
   "outputs": [],
   "source": [
    "from models import ALSModel\n",
    "from utils.metrics import precision_at_k, recall_at_k, ap_k, map_k"
   ]
  },
  {
   "cell_type": "code",
   "execution_count": 4,
   "id": "52d1b7b4-1821-468f-94eb-3b0f2b8f46a2",
   "metadata": {},
   "outputs": [],
   "source": [
    "test = pd.read_csv('../app/data/test.csv', sep=',')\n",
    "result = test.groupby('user_id')['song'].unique().reset_index().rename(columns={'song': 'actual'})"
   ]
  },
  {
   "cell_type": "code",
   "execution_count": 5,
   "id": "900170a3-fc43-41c5-be12-5dc14a1e4f16",
   "metadata": {},
   "outputs": [],
   "source": [
    "als_model = ALSModel('als_100.pkl')"
   ]
  },
  {
   "cell_type": "code",
   "execution_count": 8,
   "id": "bd97e8ae-a08a-4384-8985-929784aae0bf",
   "metadata": {},
   "outputs": [
    {
     "data": {
      "text/plain": [
       "(array([2465, 2457, 4057, 5541, 5434, 5532,  476, 7505, 2555,  473],\n",
       "       dtype=int32),\n",
       " array([0.23887599, 0.1903713 , 0.17900366, 0.16791387, 0.15695928,\n",
       "        0.15370278, 0.15346964, 0.14247274, 0.1420875 , 0.14184596],\n",
       "       dtype=float32))"
      ]
     },
     "execution_count": 8,
     "metadata": {},
     "output_type": "execute_result"
    }
   ],
   "source": [
    "als_model.model.recommend(0,\n",
    "                          als_model.user_item_matrix[0])"
   ]
  },
  {
   "cell_type": "code",
   "execution_count": 7,
   "id": "eb601450-743b-46c9-b007-ae42162e6e92",
   "metadata": {},
   "outputs": [],
   "source": [
    "res = als_model.model.recommend(als_model.userid_to_id['00055176fea33f6e027cd3302289378b'], \n",
    "                          als_model.user_item_matrix[0])"
   ]
  },
  {
   "cell_type": "code",
   "execution_count": 10,
   "id": "8eb55f59-453e-4572-987c-0492bb92ce62",
   "metadata": {},
   "outputs": [
    {
     "data": {
      "text/plain": [
       "array([2465, 2457, 4057, 5541, 5434, 5532,  476, 7505, 2555,  473],\n",
       "      dtype=int32)"
      ]
     },
     "execution_count": 10,
     "metadata": {},
     "output_type": "execute_result"
    }
   ],
   "source": [
    "res[0]"
   ]
  },
  {
   "cell_type": "code",
   "execution_count": 6,
   "id": "0770bf7f-4149-422c-98ee-0ce7a1e2f099",
   "metadata": {},
   "outputs": [],
   "source": [
    "result['als_100'] = result['user_id'].apply(lambda x: als_model.get_recommendations(x))"
   ]
  },
  {
   "cell_type": "code",
   "execution_count": 7,
   "id": "2ddec8f1-efe6-448c-bf25-541933e0928a",
   "metadata": {},
   "outputs": [
    {
     "data": {
      "text/html": [
       "<div>\n",
       "<style scoped>\n",
       "    .dataframe tbody tr th:only-of-type {\n",
       "        vertical-align: middle;\n",
       "    }\n",
       "\n",
       "    .dataframe tbody tr th {\n",
       "        vertical-align: top;\n",
       "    }\n",
       "\n",
       "    .dataframe thead th {\n",
       "        text-align: right;\n",
       "    }\n",
       "</style>\n",
       "<table border=\"1\" class=\"dataframe\">\n",
       "  <thead>\n",
       "    <tr style=\"text-align: right;\">\n",
       "      <th></th>\n",
       "      <th>user_id</th>\n",
       "      <th>actual</th>\n",
       "      <th>als_100</th>\n",
       "    </tr>\n",
       "  </thead>\n",
       "  <tbody>\n",
       "    <tr>\n",
       "      <th>0</th>\n",
       "      <td>00055176fea33f6e027cd3302289378b</td>\n",
       "      <td>[Imagine Dragons__I Bet My Life, Meghan Traino...</td>\n",
       "      <td>[Ed Sheeran__Thinking Out Loud, Mark Ronson__U...</td>\n",
       "    </tr>\n",
       "    <tr>\n",
       "      <th>1</th>\n",
       "      <td>0007f3dd09c91198371454c608d47f22</td>\n",
       "      <td>[Lana Del Rey__Black Beauty, Evanescence__My I...</td>\n",
       "      <td>[Ed Sheeran__The A Team, Ed Sheeran__I See Fir...</td>\n",
       "    </tr>\n",
       "    <tr>\n",
       "      <th>2</th>\n",
       "      <td>000b0f32b5739f052b9d40fcc5c41079</td>\n",
       "      <td>[Veronica Maggio__Hela huset, First Aid Kit__S...</td>\n",
       "      <td>[First Aid Kit__Emmylou, First Aid Kit__The Li...</td>\n",
       "    </tr>\n",
       "    <tr>\n",
       "      <th>3</th>\n",
       "      <td>000c11a16c89aa4b14b328080f5954ee</td>\n",
       "      <td>[Bastille__Pompeii, Pharrell Williams__Know Wh...</td>\n",
       "      <td>[Mark Ronson__Uptown Funk, Disclosure__Latch, ...</td>\n",
       "    </tr>\n",
       "    <tr>\n",
       "      <th>4</th>\n",
       "      <td>00123e0f544dee3ab006aa7f1e5725a7</td>\n",
       "      <td>[Creedence Clearwater Revival__Long As I Can S...</td>\n",
       "      <td>[Led Zeppelin__Immigrant Song, Led Zeppelin__W...</td>\n",
       "    </tr>\n",
       "  </tbody>\n",
       "</table>\n",
       "</div>"
      ],
      "text/plain": [
       "                            user_id  \\\n",
       "0  00055176fea33f6e027cd3302289378b   \n",
       "1  0007f3dd09c91198371454c608d47f22   \n",
       "2  000b0f32b5739f052b9d40fcc5c41079   \n",
       "3  000c11a16c89aa4b14b328080f5954ee   \n",
       "4  00123e0f544dee3ab006aa7f1e5725a7   \n",
       "\n",
       "                                              actual  \\\n",
       "0  [Imagine Dragons__I Bet My Life, Meghan Traino...   \n",
       "1  [Lana Del Rey__Black Beauty, Evanescence__My I...   \n",
       "2  [Veronica Maggio__Hela huset, First Aid Kit__S...   \n",
       "3  [Bastille__Pompeii, Pharrell Williams__Know Wh...   \n",
       "4  [Creedence Clearwater Revival__Long As I Can S...   \n",
       "\n",
       "                                             als_100  \n",
       "0  [Ed Sheeran__Thinking Out Loud, Mark Ronson__U...  \n",
       "1  [Ed Sheeran__The A Team, Ed Sheeran__I See Fir...  \n",
       "2  [First Aid Kit__Emmylou, First Aid Kit__The Li...  \n",
       "3  [Mark Ronson__Uptown Funk, Disclosure__Latch, ...  \n",
       "4  [Led Zeppelin__Immigrant Song, Led Zeppelin__W...  "
      ]
     },
     "execution_count": 7,
     "metadata": {},
     "output_type": "execute_result"
    }
   ],
   "source": [
    "result.head()"
   ]
  },
  {
   "cell_type": "code",
   "execution_count": 8,
   "id": "6108a05a-206b-4aa5-949c-989c0dcea126",
   "metadata": {},
   "outputs": [],
   "source": [
    "def calculate_metric(metric):\n",
    "    return result.apply(lambda row: metric(row['als_100'], row['actual']), axis=1).mean()"
   ]
  },
  {
   "cell_type": "code",
   "execution_count": 9,
   "id": "2e3e5589-0033-4f62-9d89-d40cc0acfc38",
   "metadata": {},
   "outputs": [],
   "source": [
    "metrics = {}\n",
    "for metric_name, metric in zip(('precision_at_5', 'recall_at_5', 'ap_5', 'map_5'), \n",
    "                               (precision_at_k, recall_at_k, ap_k, map_k)):\n",
    "    metrics[metric_name] = calculate_metric(metric)"
   ]
  },
  {
   "cell_type": "code",
   "execution_count": 11,
   "id": "5c7cfe07-f548-4921-b0af-a2c134f0ef78",
   "metadata": {},
   "outputs": [
    {
     "data": {
      "text/plain": [
       "0.029253249137234743"
      ]
     },
     "execution_count": 11,
     "metadata": {},
     "output_type": "execute_result"
    }
   ],
   "source": [
    "result.apply(lambda row: precision_at_k(row['als_100'], row['actual']), axis=1).mean()"
   ]
  },
  {
   "cell_type": "code",
   "execution_count": 10,
   "id": "392f742c-1062-41bb-b0a5-dedfb2c00806",
   "metadata": {},
   "outputs": [
    {
     "data": {
      "text/plain": [
       "{'precision_at_5': 0.029253249137234743,\n",
       " 'recall_at_5': 0.03825415473480677,\n",
       " 'ap_5': 0.015924321413711237,\n",
       " 'map_5': 0.3952941274852943}"
      ]
     },
     "execution_count": 10,
     "metadata": {},
     "output_type": "execute_result"
    }
   ],
   "source": [
    "metrics"
   ]
  }
 ],
 "metadata": {
  "kernelspec": {
   "display_name": "Python 3 (ipykernel)",
   "language": "python",
   "name": "python3"
  },
  "language_info": {
   "codemirror_mode": {
    "name": "ipython",
    "version": 3
   },
   "file_extension": ".py",
   "mimetype": "text/x-python",
   "name": "python",
   "nbconvert_exporter": "python",
   "pygments_lexer": "ipython3",
   "version": "3.9.5"
  }
 },
 "nbformat": 4,
 "nbformat_minor": 5
}
