{
 "cells": [
  {
   "cell_type": "code",
   "execution_count": 19,
   "metadata": {},
   "outputs": [],
   "source": [
    "import sys\n",
    "import pandas as pd\n",
    "sys.path.append('../utils')\n",
    "\n",
    "from baseline import Baseline\n",
    "from get_test import get_test\n",
    "from baseline import Baseline\n",
    "from metrics import precision_at_k"
   ]
  },
  {
   "cell_type": "code",
   "execution_count": 3,
   "metadata": {},
   "outputs": [],
   "source": [
    "baseline = Baseline()"
   ]
  },
  {
   "cell_type": "code",
   "execution_count": 5,
   "metadata": {},
   "outputs": [],
   "source": [
    "test = pd.read_csv('../data/test.csv', sep=',')"
   ]
  },
  {
   "cell_type": "code",
   "execution_count": 8,
   "metadata": {},
   "outputs": [],
   "source": [
    "result = test.groupby('user_id')['song'].unique().reset_index().rename(columns={'song': 'actual'})"
   ]
  },
  {
   "cell_type": "code",
   "execution_count": 11,
   "metadata": {},
   "outputs": [],
   "source": [
    "result['random'] = result['user_id'].apply(lambda x: baseline.predict_random(k=5))"
   ]
  },
  {
   "cell_type": "code",
   "execution_count": 12,
   "metadata": {},
   "outputs": [],
   "source": [
    "result['most_popular'] = result['user_id'].apply(lambda x: baseline.predict_most_popular(k=5))"
   ]
  },
  {
   "cell_type": "code",
   "execution_count": 15,
   "metadata": {
    "scrolled": false
   },
   "outputs": [
    {
     "data": {
      "text/html": [
       "<div>\n",
       "<style scoped>\n",
       "    .dataframe tbody tr th:only-of-type {\n",
       "        vertical-align: middle;\n",
       "    }\n",
       "\n",
       "    .dataframe tbody tr th {\n",
       "        vertical-align: top;\n",
       "    }\n",
       "\n",
       "    .dataframe thead th {\n",
       "        text-align: right;\n",
       "    }\n",
       "</style>\n",
       "<table border=\"1\" class=\"dataframe\">\n",
       "  <thead>\n",
       "    <tr style=\"text-align: right;\">\n",
       "      <th></th>\n",
       "      <th>user_id</th>\n",
       "      <th>actual</th>\n",
       "      <th>random</th>\n",
       "      <th>most_popular</th>\n",
       "    </tr>\n",
       "  </thead>\n",
       "  <tbody>\n",
       "    <tr>\n",
       "      <th>0</th>\n",
       "      <td>00055176fea33f6e027cd3302289378b</td>\n",
       "      <td>[Imagine Dragons__I Bet My Life, Meghan Traino...</td>\n",
       "      <td>[Modern Talking__Brother Louie, Michael Jackso...</td>\n",
       "      <td>[M83__Midnight City, Daft Punk__Get Lucky - Ra...</td>\n",
       "    </tr>\n",
       "    <tr>\n",
       "      <th>1</th>\n",
       "      <td>0007f3dd09c91198371454c608d47f22</td>\n",
       "      <td>[Lana Del Rey__Black Beauty, Evanescence__My I...</td>\n",
       "      <td>[Cat Stevens__The Wind, The Smiths__This Charm...</td>\n",
       "      <td>[M83__Midnight City, Daft Punk__Get Lucky - Ra...</td>\n",
       "    </tr>\n",
       "    <tr>\n",
       "      <th>2</th>\n",
       "      <td>000b0f32b5739f052b9d40fcc5c41079</td>\n",
       "      <td>[Veronica Maggio__Hela huset, First Aid Kit__S...</td>\n",
       "      <td>[The Naked And Famous__Punching In A Dream, Re...</td>\n",
       "      <td>[M83__Midnight City, Daft Punk__Get Lucky - Ra...</td>\n",
       "    </tr>\n",
       "    <tr>\n",
       "      <th>3</th>\n",
       "      <td>000c11a16c89aa4b14b328080f5954ee</td>\n",
       "      <td>[Bastille__Pompeii, Pharrell Williams__Know Wh...</td>\n",
       "      <td>[JAY Z__Nickels And Dimes, Kings Of Convenienc...</td>\n",
       "      <td>[M83__Midnight City, Daft Punk__Get Lucky - Ra...</td>\n",
       "    </tr>\n",
       "    <tr>\n",
       "      <th>4</th>\n",
       "      <td>00123e0f544dee3ab006aa7f1e5725a7</td>\n",
       "      <td>[Creedence Clearwater Revival__Long As I Can S...</td>\n",
       "      <td>[Fall Out Boy__America's Suitehearts, Skrillex...</td>\n",
       "      <td>[M83__Midnight City, Daft Punk__Get Lucky - Ra...</td>\n",
       "    </tr>\n",
       "  </tbody>\n",
       "</table>\n",
       "</div>"
      ],
      "text/plain": [
       "                            user_id  \\\n",
       "0  00055176fea33f6e027cd3302289378b   \n",
       "1  0007f3dd09c91198371454c608d47f22   \n",
       "2  000b0f32b5739f052b9d40fcc5c41079   \n",
       "3  000c11a16c89aa4b14b328080f5954ee   \n",
       "4  00123e0f544dee3ab006aa7f1e5725a7   \n",
       "\n",
       "                                              actual  \\\n",
       "0  [Imagine Dragons__I Bet My Life, Meghan Traino...   \n",
       "1  [Lana Del Rey__Black Beauty, Evanescence__My I...   \n",
       "2  [Veronica Maggio__Hela huset, First Aid Kit__S...   \n",
       "3  [Bastille__Pompeii, Pharrell Williams__Know Wh...   \n",
       "4  [Creedence Clearwater Revival__Long As I Can S...   \n",
       "\n",
       "                                              random  \\\n",
       "0  [Modern Talking__Brother Louie, Michael Jackso...   \n",
       "1  [Cat Stevens__The Wind, The Smiths__This Charm...   \n",
       "2  [The Naked And Famous__Punching In A Dream, Re...   \n",
       "3  [JAY Z__Nickels And Dimes, Kings Of Convenienc...   \n",
       "4  [Fall Out Boy__America's Suitehearts, Skrillex...   \n",
       "\n",
       "                                        most_popular  \n",
       "0  [M83__Midnight City, Daft Punk__Get Lucky - Ra...  \n",
       "1  [M83__Midnight City, Daft Punk__Get Lucky - Ra...  \n",
       "2  [M83__Midnight City, Daft Punk__Get Lucky - Ra...  \n",
       "3  [M83__Midnight City, Daft Punk__Get Lucky - Ra...  \n",
       "4  [M83__Midnight City, Daft Punk__Get Lucky - Ra...  "
      ]
     },
     "execution_count": 15,
     "metadata": {},
     "output_type": "execute_result"
    }
   ],
   "source": [
    "result.head()"
   ]
  },
  {
   "cell_type": "markdown",
   "metadata": {},
   "source": [
    "### random recommendations"
   ]
  },
  {
   "cell_type": "code",
   "execution_count": 16,
   "metadata": {},
   "outputs": [
    {
     "data": {
      "text/plain": [
       "0.003025185402746164"
      ]
     },
     "execution_count": 16,
     "metadata": {},
     "output_type": "execute_result"
    }
   ],
   "source": [
    "result.apply(lambda row: precision_at_k(row['random'], row['actual']), axis=1).mean()"
   ]
  },
  {
   "cell_type": "markdown",
   "metadata": {},
   "source": [
    "### most popular songs as recommendations"
   ]
  },
  {
   "cell_type": "code",
   "execution_count": 17,
   "metadata": {},
   "outputs": [
    {
     "data": {
      "text/plain": [
       "0.024436449078493284"
      ]
     },
     "execution_count": 17,
     "metadata": {},
     "output_type": "execute_result"
    }
   ],
   "source": [
    "result.apply(lambda row: precision_at_k(row['most_popular'], row['actual']), axis=1).mean()"
   ]
  },
  {
   "cell_type": "code",
   "execution_count": null,
   "metadata": {},
   "outputs": [],
   "source": []
  }
 ],
 "metadata": {
  "kernelspec": {
   "display_name": "Python 3",
   "language": "python",
   "name": "python3"
  },
  "language_info": {
   "codemirror_mode": {
    "name": "ipython",
    "version": 3
   },
   "file_extension": ".py",
   "mimetype": "text/x-python",
   "name": "python",
   "nbconvert_exporter": "python",
   "pygments_lexer": "ipython3",
   "version": "3.8.5"
  }
 },
 "nbformat": 4,
 "nbformat_minor": 4
}
